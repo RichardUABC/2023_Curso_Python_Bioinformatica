{
  "cells": [
    {
      "cell_type": "markdown",
      "metadata": {
        "id": "5o663Er50F7n"
      },
      "source": [
        "## Bienvenido al curso de Python\n",
        "---------------------\n",
        "\n",
        "El objetivo de este curso es introducir a los alumnos en la programación en Python y aprender distintas aplicaciones en Inteligencia Artificial.\n",
        "\n",
        "En este curso vamos a trabajar con los Notebooks de Jupyter, este documento por ejemplo ha sido generado a partir de un notebook. Durante el curso nos familiarizaremos con este entorno y aprenderemos a como usarlo para generar reportes."
      ]
    },
    {
      "cell_type": "markdown",
      "metadata": {
        "id": "dx71qMym0F7p"
      },
      "source": [
        "## 1. Por que usar Python\n",
        "Python es uno de los lenguajes de programación con mayor popularidad en el mundo y al poseer una menor complejidad en su código lo han convertido en el medio más aceptable para la creación de sistemas de inteligencia artificial.\n",
        "\n",
        "Las bibliotecas de Python abarcan áreas de computación científica avanzada y el aprendizaje automático como Numpy, Scipy, Keras, PyTorch. Por tal motivo, su amplio uso como lenguajes para Inteligencia Artificial.\n",
        "\n",
        "-La combinación del IDE (entorno de desarrollo integrado) con la flexibilidad de uso en las diversas plataformas de sistemas operativos, permite a Python la comprobación de los códigos con distintos algoritmos más eficientemente."
      ]
    },
    {
      "cell_type": "markdown",
      "metadata": {
        "id": "vY32EKIe0F7r"
      },
      "source": [
        "## 2. Jupyter Notebook - Colab Notebook\n",
        "https://jupyter.org/\n",
        "\n",
        "Jupyter (___IPython___) es un __shell interactivo__ (__IDE__) que añade funcionalidades extra al modo interactivo incluido con Python, como resaltado de líneas y errores mediante colores, una sintaxis adicional para el shell, autocompletado mediante tabulador de variables, módulos y atributos; entre otras funcionalidades.\n",
        "\n",
        "> Para comenzar a trabajar con Google Colab, se puede acceder al siguiente Tutorial:\n",
        "https://colab.research.google.com/#"
      ]
    },
    {
      "cell_type": "markdown",
      "metadata": {
        "id": "cmNMNYGa0F7t"
      },
      "source": [
        "## 3. Notebooks\n",
        "\n",
        "El cuaderno Notebook de Jupyter está basado en la web y es interactivo. Un notebook en Jupyter es un documento __JSON__ que contiene una lista ordenada de entradas / salidas las cuales pueden tener __código, texto, imagenes y rich media__.\n",
        "\n",
        "Los notebooks de Jupyter pueden ser convertidos a otros formatos de archivos como HTML, presentaciones de diapositivas, LaTeX, PDF, Python, etc.\n",
        "\n",
        "Esta será nuestra herramienta de trabajo durante el curso. Esto que estás leyendo ahora no es más que un notebook de Jupyter, que como diremos luego además de código puede contener texto e imágenes. Pero veamos primero cómo funciona.\n",
        "\n",
        "______"
      ]
    },
    {
      "cell_type": "markdown",
      "metadata": {
        "id": "GIiLmvm50F7u"
      },
      "source": [
        "Para comenzar la primera vez a trabajar en Colab Notebooks es conveniente entrar en  https://colab.research.google.com/#\n",
        "\n",
        "Eso nos permitirá crear una carpeta de **Colab Notebooks** en la que guardaremos todos nuestros Notebooks y correremos estos Notebooks en la nube de Google.\n",
        "\n",
        "Para poder crear esta Carpeta **Colab Notebooks**, debemos tener una cuenta en **Google Drive**.\n",
        "\n",
        "Los archivos con terminacion ___ipynb___ son lo programas o documentos ___json___ que son abiertos en una nueva página en nuestro navegador, que denominamos **Notebook** o **Jupyter Notebook**\n",
        "__________"
      ]
    },
    {
      "cell_type": "markdown",
      "metadata": {
        "id": "QlGimKJI0F7w"
      },
      "source": [
        "Se puede crear un nuevo cuaderno en cualquier momento, desde el panel de control o mediante la opción de menú Archivo ‣ Nuevo desde un cuaderno activo. El nuevo cuaderno se crea dentro del mismo directorio y se abrirá en una nueva pestaña del navegador. También se reflejará como una nueva entrada en la lista de cuadernos en el dashboard.\n",
        "\n",
        "Al crear un notebook o al abrir uno nuevo se abre la interfaz de Jupyter propiamente dicha donde ya podemos empezar a trabajar. Es similar a un intérprete, pero está dividida en __celdas__. Las celdas pueden contener, código, texto, imágenes...\n",
        "\n",
        "Cada celda de código está marcada por el símbolo **[  ]**. Tan solo tenemos que escribir el código en ella y hacer click en el Círculo negro con Triángulo blanco __(\"Run cell\")__.  El resultado de la celda, en el caso de que hubiere, se muestra en el campo de una nueva y siguiente celda."
      ]
    },
    {
      "cell_type": "markdown",
      "metadata": {
        "id": "wpewt_AP0F7x"
      },
      "source": [
        "Para documentar nuestros notebooks en Jupyter esto se logra usando el lenguaje de marcado de texto __Markdown__. Las celdas correspondientes se denominan celdas Markdown. El lenguaje de Markdown proporciona una forma sencilla de realizar este marcado de texto, es decir, especificar qué partes del texto deben enfatizarse (cursivas), negritas, listas de formularios, etc.\n",
        "\n",
        "Si en la barra superior seleccionas Markdown (o usas el atajo __Shift-M__) en lugar de Code puedes escribir texto.\n",
        "\n",
        "También puedes escribir ecuaciones matematicas en Latex y mucho más. Esto es una herramienta muy potente para explicar a alguien o a uno mismo lo que tu código hace, para hacer un informe, un trabajo, escribir en un blog...\n",
        "\n",
        "Podemos mover las celdas de un lugar a otro de este modo, arriba y abajo."
      ]
    },
    {
      "cell_type": "code",
      "execution_count": 1,
      "metadata": {
        "id": "PMjqEZdp0F70",
        "outputId": "42573c93-98b2-4518-a376-2bdb8746b157",
        "colab": {
          "base_uri": "https://localhost:8080/"
        }
      },
      "outputs": [
        {
          "output_type": "stream",
          "name": "stdout",
          "text": [
            "Hola Delfines\n"
          ]
        }
      ],
      "source": [
        "# Linea de Código\n",
        "print('Hola Delfines')"
      ]
    },
    {
      "cell_type": "code",
      "execution_count": null,
      "metadata": {
        "id": "ptXyYIFP0F71"
      },
      "outputs": [],
      "source": []
    }
  ],
  "metadata": {
    "kernelspec": {
      "display_name": "Python 3 (ipykernel)",
      "language": "python",
      "name": "python3"
    },
    "language_info": {
      "codemirror_mode": {
        "name": "ipython",
        "version": 3
      },
      "file_extension": ".py",
      "mimetype": "text/x-python",
      "name": "python",
      "nbconvert_exporter": "python",
      "pygments_lexer": "ipython3",
      "version": "3.9.7"
    },
    "colab": {
      "provenance": []
    }
  },
  "nbformat": 4,
  "nbformat_minor": 0
}