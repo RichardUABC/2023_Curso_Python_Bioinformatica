{
  "cells": [
    {
      "cell_type": "markdown",
      "metadata": {
        "id": "8NVy-aIr0bMZ"
      },
      "source": [
        "# 1. Introducción a la sintaxis de Python\n",
        "----------------------------\n",
        "\n",
        "Este curso está dirigido para aquellos que se estén iniciando en el mundo de la programación y que desean aprender un lenguaje y que tiene aplicacion científica, entre otras.\n",
        "\n",
        "## Qué es Python\n",
        "\n",
        "Python es un lenguaje de programación de alto nivel moderno, de propósito general, orientado a objetos; creado por  [Guido van Rossum](https://es.wikipedia.org/wiki/Guido_van_Rossum) en la decada de los 90.\n",
        "\n",
        "Su nombre se lo debe a [Monte Python](https://es.wikipedia.org/wiki/Monty_Python), grupo británico de seis humoristas de quienes Guido era fanático."
      ]
    },
    {
      "cell_type": "markdown",
      "metadata": {
        "id": "4__iSGfu0bMa"
      },
      "source": [
        "### 1.1 Características generales de Python:\n",
        "\n",
        "- **Lenguaje limpio y sencillo**: código fácil de leer e intuitivo, fácil de aprender sintaxis minimalista, la capacidad de mantenimiento escala bien con el tamaño de los proyectos.\n",
        "\n",
        "- **Lenguaje expresivo**: Menos líneas de código, menos errores, más fácil de mantener.\n",
        "\n",
        "- **Dinámicamente tipado**: No es necesario definir el tipo de variables, argumentos de función o tipos de retorno.\n",
        "\n",
        "- **Gestión automática de memoria**: no es necesario asignar y desasignar explícitamente memoria para variables y matrices de datos. No hay errores de pérdida de memoria.\n",
        "\n",
        "### 1.2 __Ventajas:__\n",
        "\n",
        "- Un lenguaje multiparadigma (orientación a objetos, imperativo y funcional.)\n",
        "\n",
        "- Un lenguaje multipropósito (Usado para hacer una web o hacer cálculo matemático, un script para que te automatice una tarea de sistemas o un framework REST)\n",
        "\n",
        "- La principal ventaja es la facilidad de programación, minimizando el tiempo necesario para desarrollar, depurar y mantener el código.\n",
        "\n",
        "- Un lenguaje bien diseñado que alienta muchas buenas prácticas de programación:\n",
        "    - Programación modular y orientada a objetos, buen sistema de empaquetación y reutilización de código. Esto a menudo resulta en un código más transparente, mantenible y sin errores.\n",
        "    - Documentación estrechamente integrada con el código.\n",
        "\n",
        "- Una gran biblioteca estándar, y una gran colección de paquetes adicionales.\n",
        "\n",
        "- Un lenguaje multiplataforma, dado que un código escrito en Python, puede correr en Lunix, Windos, Mac, etc. Incluyendo todas sus librerías. Otros códigos tambien lo son, pero en Pyhton tenemos una aspecto muy poderosos, que son lo gráficos.\n",
        "\n",
        "\n",
        "### 1.3 __Desventajas:__\n",
        "\n",
        "- Dado que Python es un lenguaje de programación interpretado y de tipado dinámico, la ejecución del código python puede ser lenta en comparación con los lenguajes de programación compilados estáticamente mecanografiados, como Fortran, C y C++\n",
        "\n",
        "- Algo descentralizado, con diferentes entornos, paquetes y documentación distribuidos en diferentes lugares. Puede hacer más difícil comenzar."
      ]
    },
    {
      "cell_type": "markdown",
      "metadata": {
        "id": "995XUlG30bMc"
      },
      "source": [
        "___The PSF___  The Python Software Foundation is the organization behind Python.\n",
        "\n",
        "Visiten la página\n",
        "https://www.python.org/"
      ]
    },
    {
      "cell_type": "markdown",
      "metadata": {
        "id": "XenDP-hL0bMe"
      },
      "source": [
        "## Comencemos a programar"
      ]
    },
    {
      "cell_type": "code",
      "execution_count": null,
      "metadata": {
        "id": "ytYEpirC0bMf",
        "outputId": "3ee81189-209a-4649-85a0-c696499276e2"
      },
      "outputs": [
        {
          "name": "stdout",
          "output_type": "stream",
          "text": [
            "Bienvenidos al curso de Python!\n"
          ]
        }
      ],
      "source": [
        "# esto es una linea de comando en Python\n",
        "print('Bienvenidos al curso de Python!')"
      ]
    },
    {
      "cell_type": "markdown",
      "metadata": {
        "id": "chMLElUg0bMg"
      },
      "source": [
        "#### Comentarios"
      ]
    },
    {
      "cell_type": "code",
      "execution_count": null,
      "metadata": {
        "id": "02xDBRxC0bMh",
        "outputId": "6b88dfcb-52c8-4e90-955d-6f6ddc46e990"
      },
      "outputs": [
        {
          "name": "stdout",
          "output_type": "stream",
          "text": [
            "Hola 'Mundo'\n"
          ]
        }
      ],
      "source": [
        "print(\"Hola 'Mundo'\")"
      ]
    },
    {
      "cell_type": "code",
      "execution_count": null,
      "metadata": {
        "id": "c5v0x_7e0bMi",
        "outputId": "90a9361b-d58e-477f-cccb-e006a4316d6c"
      },
      "outputs": [
        {
          "name": "stdout",
          "output_type": "stream",
          "text": [
            "Debo comentar mi codigo\n",
            "Hola\n"
          ]
        }
      ],
      "source": [
        "# Los comentarios son muy útiles para los programadores\n",
        "# así podemos entender el código de otras personas\n",
        "# y además permite documentar el código\n",
        "\n",
        "print(\"Debo comentar mi codigo\")\n",
        "# print(\"Esto no se imprimirá\")\n",
        "\n",
        "\"\"\" Esto tambien es un comentario\n",
        "de multiples lineas\"\"\"\n",
        "\n",
        "\"\"\"\n",
        "Y esto también es una forma de realizar comenatrios\n",
        "pueden ser varios renglones\n",
        "\n",
        "puedo dejar renglones en blanco\n",
        "\"\"\"\n",
        "\n",
        "print(\"Hola\")"
      ]
    },
    {
      "cell_type": "markdown",
      "metadata": {
        "id": "8npsxAco0bMk"
      },
      "source": [
        "Los comentarios tambien son usados como para señalar el tipo de codificación que se esta usando. De forma predeterminada, los archivos de origen de Python se tratan como si estuvieran codificados en __UTF-8__. En esa codificación, aunque la biblioteca estándar solo utiliza caracteres __ASCII__ para los __identificadores__. Por ejemplo, para declarar que se va a usar la codificación de __Windows-1252__, la primera línea de su archivo de código fuente debería ser:"
      ]
    },
    {
      "cell_type": "code",
      "execution_count": null,
      "metadata": {
        "id": "eFRJqnwf0bMl"
      },
      "outputs": [],
      "source": [
        "# -*- coding: cp1252 -*-"
      ]
    },
    {
      "cell_type": "markdown",
      "metadata": {
        "id": "sPrQZzLK0bMm"
      },
      "source": [
        "__Windows-1252__ o __CP-1252__ es una codificación de caracteres del alfabeto latino, usada por defecto cuando unicode no se usa en los componentes oficiales de Microsoft Windows en inglés y en algunos lenguajes occidentales.\n",
        "\n",
        "Es una versión en la que el código de páginas de Windows está en los paquetes de LaTeX, el cual se refiere como ansinew."
      ]
    },
    {
      "cell_type": "markdown",
      "metadata": {
        "id": "cu8Q-qIR0bMm"
      },
      "source": [
        "## Fundamentos de Python\n",
        "----------------------------"
      ]
    },
    {
      "cell_type": "markdown",
      "metadata": {
        "id": "c9DF9uRy0bMn"
      },
      "source": [
        "### Tipos numéricos\n",
        "Python al igual que otros lenguajes posee tipos numericos como  `int `,  `float ` y sus respectivas operaciones básicas."
      ]
    },
    {
      "cell_type": "code",
      "execution_count": null,
      "metadata": {
        "tags": [],
        "id": "ezzmOtLl0bMn",
        "outputId": "70a0606d-c68b-4047-8682-47a0673bfc6c"
      },
      "outputs": [
        {
          "data": {
            "text/plain": [
              "52.14"
            ]
          },
          "execution_count": 5,
          "metadata": {},
          "output_type": "execute_result"
        }
      ],
      "source": [
        "#Esto es una expresión\n",
        "5 * 10 - (7 - 2)/5 + 3.14"
      ]
    },
    {
      "cell_type": "markdown",
      "metadata": {
        "id": "Yc4mMcLz0bMo"
      },
      "source": [
        "Qué pasará si..."
      ]
    },
    {
      "cell_type": "code",
      "execution_count": null,
      "metadata": {
        "tags": [],
        "id": "pK4j_dWU0bMo"
      },
      "outputs": [],
      "source": [
        "# 5/0"
      ]
    },
    {
      "cell_type": "markdown",
      "metadata": {
        "id": "KtEN3lTS0bMp"
      },
      "source": [
        "![](attachment:horror.png)"
      ]
    },
    {
      "cell_type": "markdown",
      "metadata": {
        "id": "CeX0b-QE0bMp"
      },
      "source": [
        "La división entre enteros nos dará un numero real ( `float `) :"
      ]
    },
    {
      "cell_type": "code",
      "execution_count": null,
      "metadata": {
        "tags": [],
        "id": "wt-AbMlq0bMp",
        "outputId": "f3d6e73f-79e2-4ef3-e574-6f11390b309f"
      },
      "outputs": [
        {
          "data": {
            "text/plain": [
              "1.6"
            ]
          },
          "execution_count": 7,
          "metadata": {},
          "output_type": "execute_result"
        }
      ],
      "source": [
        "8/5"
      ]
    },
    {
      "cell_type": "markdown",
      "metadata": {
        "id": "zJpzayRK0bMq"
      },
      "source": [
        "La división floor (usando el símbolo `//` ) siempre nos retorna la parte entera de la división"
      ]
    },
    {
      "cell_type": "code",
      "execution_count": null,
      "metadata": {
        "id": "6nzo3YG70bMq",
        "outputId": "f6d1921e-0bfe-4529-8815-e2b308020a0a"
      },
      "outputs": [
        {
          "data": {
            "text/plain": [
              "6"
            ]
          },
          "execution_count": 8,
          "metadata": {},
          "output_type": "execute_result"
        }
      ],
      "source": [
        "19 // 3"
      ]
    },
    {
      "cell_type": "markdown",
      "metadata": {
        "id": "iSTbD1YD0bMr"
      },
      "source": [
        "El operador  `%` nos retorna el residuo de la división"
      ]
    },
    {
      "cell_type": "code",
      "execution_count": null,
      "metadata": {
        "id": "XvAmmgqX0bMr",
        "outputId": "76c91e47-9d29-4fb6-abd5-b12a5ceaf7f3"
      },
      "outputs": [
        {
          "data": {
            "text/plain": [
              "3"
            ]
          },
          "execution_count": 9,
          "metadata": {},
          "output_type": "execute_result"
        }
      ],
      "source": [
        "19 % 4"
      ]
    },
    {
      "cell_type": "markdown",
      "metadata": {
        "id": "iLVUeA6L0bMu"
      },
      "source": [
        "también Python posee un operador para la potencia:"
      ]
    },
    {
      "cell_type": "code",
      "execution_count": null,
      "metadata": {
        "id": "xQLN6xfU0bMv",
        "outputId": "e4029098-9fdd-4eb0-9c66-40dc529e9df5"
      },
      "outputs": [
        {
          "data": {
            "text/plain": [
              "36"
            ]
          },
          "execution_count": 13,
          "metadata": {},
          "output_type": "execute_result"
        }
      ],
      "source": [
        "6**2"
      ]
    },
    {
      "cell_type": "code",
      "execution_count": 1,
      "metadata": {
        "id": "0mvmWgao0bMv",
        "outputId": "e7ac1ca8-e75e-43ae-a8f0-8271424c259c",
        "colab": {
          "base_uri": "https://localhost:8080/"
        }
      },
      "outputs": [
        {
          "output_type": "execute_result",
          "data": {
            "text/plain": [
              "(-4+0j)"
            ]
          },
          "metadata": {},
          "execution_count": 1
        }
      ],
      "source": [
        "(2j)**2"
      ]
    },
    {
      "cell_type": "markdown",
      "metadata": {
        "id": "zl-J8yLA0bMw"
      },
      "source": [
        "Python tambien posee funciones integradas ([__built-in functions__](https://docs.python.org/3/library/functions.html)) muy útiles, tales como:"
      ]
    },
    {
      "cell_type": "code",
      "execution_count": null,
      "metadata": {
        "id": "UoPmzkvR0bMw",
        "outputId": "4d47bd2f-af4c-4206-9ca2-d92448b70743"
      },
      "outputs": [
        {
          "data": {
            "text/plain": [
              "5"
            ]
          },
          "execution_count": 15,
          "metadata": {},
          "output_type": "execute_result"
        }
      ],
      "source": [
        "abs(-5) # Valor absoluto"
      ]
    },
    {
      "cell_type": "code",
      "execution_count": null,
      "metadata": {
        "id": "B6QsdaWe0bMw",
        "outputId": "6ce32234-6553-443d-b9b0-9fc509c159c9"
      },
      "outputs": [
        {
          "data": {
            "text/plain": [
              "5.0"
            ]
          },
          "execution_count": 16,
          "metadata": {},
          "output_type": "execute_result"
        }
      ],
      "source": [
        "# Qué pasará si...\n",
        "abs(4+3j) # Modulo"
      ]
    },
    {
      "cell_type": "code",
      "execution_count": null,
      "metadata": {
        "id": "bR27BJvq0bMx",
        "outputId": "dc84a38c-952e-41e8-a173-7736d0e40997"
      },
      "outputs": [
        {
          "data": {
            "text/plain": [
              "3"
            ]
          },
          "execution_count": 17,
          "metadata": {},
          "output_type": "execute_result"
        }
      ],
      "source": [
        "round(3.124)"
      ]
    },
    {
      "cell_type": "code",
      "execution_count": null,
      "metadata": {
        "id": "Pc8-gF8K0bMx",
        "outputId": "93da22e4-fb4c-4658-e0ae-f0e2d6086653"
      },
      "outputs": [
        {
          "data": {
            "text/plain": [
              "9"
            ]
          },
          "execution_count": 18,
          "metadata": {},
          "output_type": "execute_result"
        }
      ],
      "source": [
        "round(9.499)"
      ]
    },
    {
      "cell_type": "code",
      "execution_count": null,
      "metadata": {
        "id": "0Bf99FOq0bMy",
        "outputId": "a217e6da-d446-4811-9a44-51a3b5f1c5fc"
      },
      "outputs": [
        {
          "data": {
            "text/plain": [
              "10"
            ]
          },
          "execution_count": 19,
          "metadata": {},
          "output_type": "execute_result"
        }
      ],
      "source": [
        "max(5,1,6,-2,10,7)"
      ]
    },
    {
      "cell_type": "code",
      "execution_count": null,
      "metadata": {
        "id": "nvGcEeOW0bMy",
        "outputId": "838025a2-0feb-4e1b-98ec-5eee952dc029"
      },
      "outputs": [
        {
          "data": {
            "text/plain": [
              "-1"
            ]
          },
          "execution_count": 20,
          "metadata": {},
          "output_type": "execute_result"
        }
      ],
      "source": [
        "min(2,5,7,1,-1,0)"
      ]
    },
    {
      "cell_type": "code",
      "execution_count": null,
      "metadata": {
        "id": "O76x8aUr0bMz"
      },
      "outputs": [],
      "source": [
        "listadoOrdenado = sorted([2,5,7,1,-1,0], reverse=True)\n",
        "# print(listadoOrdenado)"
      ]
    },
    {
      "cell_type": "markdown",
      "metadata": {
        "id": "uPOzPyWe0bM0"
      },
      "source": [
        "También podemos convertir los numeros en otros tipos:"
      ]
    },
    {
      "cell_type": "code",
      "execution_count": null,
      "metadata": {
        "id": "vVJU5p4O0bM0",
        "outputId": "3f864f78-ca16-4b14-9dcd-043b28b5c973"
      },
      "outputs": [
        {
          "data": {
            "text/plain": [
              "23"
            ]
          },
          "execution_count": 22,
          "metadata": {},
          "output_type": "execute_result"
        }
      ],
      "source": [
        "int(23.12)"
      ]
    },
    {
      "cell_type": "code",
      "execution_count": null,
      "metadata": {
        "id": "_OH95V0v0bM0",
        "outputId": "f2ea1579-9cf9-4969-a47b-9c2424b3ac08"
      },
      "outputs": [
        {
          "data": {
            "text/plain": [
              "12"
            ]
          },
          "execution_count": 23,
          "metadata": {},
          "output_type": "execute_result"
        }
      ],
      "source": [
        "int(12.99)"
      ]
    },
    {
      "cell_type": "code",
      "execution_count": null,
      "metadata": {
        "id": "4smJqn8L0bM2",
        "outputId": "be62b36a-0dfb-4ed8-864d-3a08acb41d5a"
      },
      "outputs": [
        {
          "data": {
            "text/plain": [
              "12.99"
            ]
          },
          "execution_count": 24,
          "metadata": {},
          "output_type": "execute_result"
        }
      ],
      "source": [
        "float(12.99)"
      ]
    },
    {
      "cell_type": "code",
      "execution_count": null,
      "metadata": {
        "id": "slVsLVEB0bM2",
        "outputId": "d8bd5813-738b-4363-b156-c6d1a5d6202a"
      },
      "outputs": [
        {
          "data": {
            "text/plain": [
              "3.0"
            ]
          },
          "execution_count": 25,
          "metadata": {},
          "output_type": "execute_result"
        }
      ],
      "source": [
        "float(3)"
      ]
    },
    {
      "cell_type": "code",
      "execution_count": null,
      "metadata": {
        "id": "a22HLg3v0bM3",
        "outputId": "28f2f01a-c569-448f-df88-fbfb1624a60b"
      },
      "outputs": [
        {
          "data": {
            "text/plain": [
              "3"
            ]
          },
          "execution_count": 26,
          "metadata": {},
          "output_type": "execute_result"
        }
      ],
      "source": [
        "3"
      ]
    },
    {
      "cell_type": "code",
      "execution_count": null,
      "metadata": {
        "id": "_Ij1AZN90bM3",
        "outputId": "2f26467d-02c3-4fbb-c388-87a4f5a35d53"
      },
      "outputs": [
        {
          "data": {
            "text/plain": [
              "1.5"
            ]
          },
          "execution_count": 27,
          "metadata": {},
          "output_type": "execute_result"
        }
      ],
      "source": [
        "(2*1.5)/2"
      ]
    },
    {
      "cell_type": "code",
      "execution_count": null,
      "metadata": {
        "id": "_vQlML1H0bM4",
        "outputId": "4248e883-dd98-46fa-a5f4-bbf48a7dae45"
      },
      "outputs": [
        {
          "data": {
            "text/plain": [
              "(2.1+0j)"
            ]
          },
          "execution_count": 28,
          "metadata": {},
          "output_type": "execute_result"
        }
      ],
      "source": [
        "complex(2.1)"
      ]
    },
    {
      "cell_type": "markdown",
      "metadata": {
        "id": "-d6ywh220bM4"
      },
      "source": [
        "### El Separador de Miles"
      ]
    },
    {
      "cell_type": "code",
      "execution_count": null,
      "metadata": {
        "id": "MOlmncv30bM5",
        "outputId": "70370321-815e-4d4e-82ce-d22948e273a3"
      },
      "outputs": [
        {
          "data": {
            "text/plain": [
              "(1, 234, 567.89)"
            ]
          },
          "execution_count": 29,
          "metadata": {},
          "output_type": "execute_result"
        }
      ],
      "source": [
        "x = 1,234,567.89\n",
        "f = x * 2\n",
        "x"
      ]
    },
    {
      "cell_type": "code",
      "execution_count": null,
      "metadata": {
        "id": "k5yVLUgE0bM5",
        "outputId": "745e0a3b-4ed5-4d31-9add-f5e0b5b60eab"
      },
      "outputs": [
        {
          "data": {
            "text/plain": [
              "(1, 234, 567.89, 1, 234, 567.89)"
            ]
          },
          "execution_count": 30,
          "metadata": {},
          "output_type": "execute_result"
        }
      ],
      "source": [
        "f"
      ]
    },
    {
      "cell_type": "code",
      "execution_count": null,
      "metadata": {
        "id": "AYGIi-pc0bM6",
        "outputId": "db170880-fda3-4e1d-a443-18c1d4102cc7"
      },
      "outputs": [
        {
          "data": {
            "text/plain": [
              "1234567.89"
            ]
          },
          "execution_count": 31,
          "metadata": {},
          "output_type": "execute_result"
        }
      ],
      "source": [
        "x = 1234567.89\n",
        "x"
      ]
    },
    {
      "cell_type": "code",
      "execution_count": null,
      "metadata": {
        "id": "60xtnE3V0bM7",
        "outputId": "a83f1171-a908-4eb0-9b55-ad120b2b488f"
      },
      "outputs": [
        {
          "name": "stdout",
          "output_type": "stream",
          "text": [
            "33.333333333333336\n"
          ]
        }
      ],
      "source": [
        "print(100 * 1.0/3)"
      ]
    },
    {
      "cell_type": "code",
      "execution_count": null,
      "metadata": {
        "id": "GueBRkeN0bM_",
        "outputId": "95fd0928-502d-45ec-bcd3-a14a9f77a29c"
      },
      "outputs": [
        {
          "name": "stdout",
          "output_type": "stream",
          "text": [
            "33.3333%\n"
          ]
        }
      ],
      "source": [
        "prob = 1.0/3.0\n",
        "print(f\"{prob:.4%}\")"
      ]
    },
    {
      "cell_type": "code",
      "execution_count": null,
      "metadata": {
        "id": "4gRC6XeI0bM_",
        "outputId": "254a327f-55b1-42a8-a98b-2082bebcd69c"
      },
      "outputs": [
        {
          "name": "stdout",
          "output_type": "stream",
          "text": [
            "0.3333\n"
          ]
        }
      ],
      "source": [
        "prob = 1.0/3.0\n",
        "print(f\"{prob:.4}\")"
      ]
    },
    {
      "cell_type": "code",
      "execution_count": null,
      "metadata": {
        "id": "kodYHaZj0bNA",
        "outputId": "fdffd4ba-9f73-49b2-b919-774258279677"
      },
      "outputs": [
        {
          "name": "stdout",
          "output_type": "stream",
          "text": [
            "0.3333\n"
          ]
        }
      ],
      "source": [
        "print(f\"{prob:.4}\")"
      ]
    },
    {
      "cell_type": "code",
      "execution_count": null,
      "metadata": {
        "id": "nGGQu3aw0bNB",
        "outputId": "39e1622e-4ccc-4a0d-d2e9-ef14d6f3ac5a"
      },
      "outputs": [
        {
          "name": "stdout",
          "output_type": "stream",
          "text": [
            "234.5567%\n"
          ]
        }
      ],
      "source": [
        "print(f\"{x:.4%}\")"
      ]
    },
    {
      "cell_type": "markdown",
      "metadata": {
        "id": "_eZRlcgM0bNB"
      },
      "source": [
        "### Función help()"
      ]
    },
    {
      "cell_type": "code",
      "execution_count": null,
      "metadata": {
        "id": "1QY2OwAF0bNB",
        "outputId": "b0ca1ee9-61cd-4dd6-cdbd-75ddc59143fe"
      },
      "outputs": [
        {
          "name": "stdout",
          "output_type": "stream",
          "text": [
            "Help on built-in function max in module builtins:\n",
            "\n",
            "max(...)\n",
            "    max(iterable, *[, default=obj, key=func]) -> value\n",
            "    max(arg1, arg2, *args, *[, key=func]) -> value\n",
            "    \n",
            "    With a single iterable argument, return its biggest item. The\n",
            "    default keyword-only argument specifies an object to return if\n",
            "    the provided iterable is empty.\n",
            "    With two or more arguments, return the largest argument.\n",
            "\n"
          ]
        }
      ],
      "source": [
        "help(max)"
      ]
    },
    {
      "cell_type": "markdown",
      "metadata": {
        "id": "uz6Aku870bNC"
      },
      "source": [
        "### Variables\n",
        "\n",
        "Una variable es como una caja en la memoria de la computadora en donde se puede almacenar un valor.\n",
        "Al igual que otros lenguajes la asignación de una variable en Python funciona con el operador __`=`__.\n",
        "\n",
        "Luego podemos utilizarlas como si se tratase de un valor literal, incluso operarlas entre otras variables y volver a asignarles un valor en cualquier momento."
      ]
    },
    {
      "cell_type": "code",
      "execution_count": null,
      "metadata": {
        "id": "DaDtAoR90bNC"
      },
      "outputs": [],
      "source": [
        "x = 2.13"
      ]
    },
    {
      "cell_type": "code",
      "execution_count": null,
      "metadata": {
        "scrolled": true,
        "id": "AuNF7fXB0bNC",
        "outputId": "1080829a-8f70-4f99-cc92-381b095cf5a2"
      },
      "outputs": [
        {
          "name": "stdout",
          "output_type": "stream",
          "text": [
            "2.13\n"
          ]
        }
      ],
      "source": [
        "print(x)"
      ]
    },
    {
      "cell_type": "code",
      "execution_count": null,
      "metadata": {
        "id": "KMC2fqtD0bND",
        "outputId": "4a3c4cc1-4b6d-43f7-cec2-10f681ac190e"
      },
      "outputs": [
        {
          "data": {
            "text/plain": [
              "float"
            ]
          },
          "execution_count": 47,
          "metadata": {},
          "output_type": "execute_result"
        }
      ],
      "source": [
        "type(x)"
      ]
    },
    {
      "cell_type": "markdown",
      "metadata": {
        "id": "h4uKwGbX0bND"
      },
      "source": [
        "Si asignamos nuevamente otro numero a la misma variable, esta cambia y se le asigna el nuevo valor"
      ]
    },
    {
      "cell_type": "code",
      "execution_count": null,
      "metadata": {
        "id": "Q-lSloTt0bNE"
      },
      "outputs": [],
      "source": [
        "x = 322"
      ]
    },
    {
      "cell_type": "code",
      "execution_count": null,
      "metadata": {
        "scrolled": true,
        "id": "eIsj4izp0bNE",
        "outputId": "a1024ee6-cc4b-49ef-a94a-084772dc2c80"
      },
      "outputs": [
        {
          "data": {
            "text/plain": [
              "322"
            ]
          },
          "execution_count": 49,
          "metadata": {},
          "output_type": "execute_result"
        }
      ],
      "source": [
        "x"
      ]
    },
    {
      "cell_type": "code",
      "execution_count": null,
      "metadata": {
        "id": "W8N-L6fr0bNF",
        "outputId": "1ac10be0-453c-42dd-d4a9-c2c516729469"
      },
      "outputs": [
        {
          "data": {
            "text/plain": [
              "int"
            ]
          },
          "execution_count": 50,
          "metadata": {},
          "output_type": "execute_result"
        }
      ],
      "source": [
        "type(x)"
      ]
    },
    {
      "cell_type": "markdown",
      "metadata": {
        "id": "Jnpl_nEp0bNF"
      },
      "source": [
        "Tambien podemos asignar multiples variables:"
      ]
    },
    {
      "cell_type": "code",
      "execution_count": null,
      "metadata": {
        "id": "Akbc4won0bNF",
        "outputId": "c2909e35-a255-419f-dd99-53d2a7cea556"
      },
      "outputs": [
        {
          "name": "stdout",
          "output_type": "stream",
          "text": [
            "2 ,  10\n"
          ]
        }
      ],
      "source": [
        "a, b = 2, 10\n",
        "print(a,\", \", b)"
      ]
    },
    {
      "cell_type": "code",
      "execution_count": null,
      "metadata": {
        "id": "SHuMBDdw0bNG",
        "outputId": "eea4f185-ffff-4b21-ff65-89345f347973"
      },
      "outputs": [
        {
          "name": "stdout",
          "output_type": "stream",
          "text": [
            "20\n"
          ]
        }
      ],
      "source": [
        "print(a * b)"
      ]
    },
    {
      "cell_type": "markdown",
      "metadata": {
        "id": "Xa81_UDl0bNG"
      },
      "source": [
        "Si invocamos una variable, que no esta previamente definida, nos dará un error"
      ]
    },
    {
      "cell_type": "code",
      "execution_count": null,
      "metadata": {
        "id": "f9HoZXrV0bNH",
        "outputId": "a9128572-1a8c-4107-a12c-08c6e6bbe83c"
      },
      "outputs": [
        {
          "name": "stdout",
          "output_type": "stream",
          "text": [
            "2\n",
            "10\n",
            "c\n"
          ]
        }
      ],
      "source": [
        "#print(k)\n",
        "print(a)\n",
        "print(b)\n",
        "print(\"c\")"
      ]
    },
    {
      "cell_type": "markdown",
      "metadata": {
        "id": "Ps2v0xlT0bNH"
      },
      "source": [
        "### Función print()\n",
        "\n",
        "La función __print()__ nos permite imprimir en consola una variable,expresiones, etc...\n",
        "**`print()`** es una función muy útil ya que nos permite imprimir el valor de una variable o el resultado de una comparación."
      ]
    },
    {
      "cell_type": "code",
      "execution_count": null,
      "metadata": {
        "id": "FYC0mjUA0bNI",
        "outputId": "ff184339-917b-44cc-e1b4-0e00f6eb9eb6"
      },
      "outputs": [
        {
          "name": "stdout",
          "output_type": "stream",
          "text": [
            "322\n"
          ]
        }
      ],
      "source": [
        "num = 322\n",
        "print(num)"
      ]
    },
    {
      "cell_type": "code",
      "execution_count": null,
      "metadata": {
        "id": "1Q6MdFKj0bNK",
        "outputId": "3c2a4969-af46-44ab-b7e3-b8cf0abf3db9"
      },
      "outputs": [
        {
          "name": "stdout",
          "output_type": "stream",
          "text": [
            "323\n"
          ]
        }
      ],
      "source": [
        "num = num + 1\n",
        "print(num)"
      ]
    },
    {
      "cell_type": "markdown",
      "metadata": {
        "id": "nb7hObeU0bNL"
      },
      "source": [
        "#### Imprimiendo con formato"
      ]
    },
    {
      "cell_type": "markdown",
      "metadata": {
        "id": "uselWcmv0bNL"
      },
      "source": [
        "El método  string **`str.format()`** de Python, permite hacer sustituciones de variables y formatear valores. Esto le permite concatenar elementos juntos dentro de una cadena a través del formato posicional.\n",
        "\n",
        "Un ejemplo:"
      ]
    },
    {
      "cell_type": "code",
      "execution_count": null,
      "metadata": {
        "id": "Zmx54I1k0bNM"
      },
      "outputs": [],
      "source": [
        "a = 'perro'\n",
        "b = \"gato\""
      ]
    },
    {
      "cell_type": "code",
      "execution_count": null,
      "metadata": {
        "id": "WcC1oKgn0bNM",
        "outputId": "95d61668-d4d3-4b6e-ba19-7fb92bb95d43"
      },
      "outputs": [
        {
          "name": "stdout",
          "output_type": "stream",
          "text": [
            "<class 'str'>\n",
            "<class 'complex'>\n"
          ]
        }
      ],
      "source": [
        "print(type(b))\n",
        "b = 3.5j\n",
        "print(type(b))"
      ]
    },
    {
      "cell_type": "code",
      "execution_count": null,
      "metadata": {
        "id": "w81OCOVu0bNM",
        "outputId": "17cd05d7-ec75-4f9d-ed3e-caec8a39350c"
      },
      "outputs": [
        {
          "name": "stdout",
          "output_type": "stream",
          "text": [
            "Estoy llevando 4 cursos en verano en el año 2022\n"
          ]
        }
      ],
      "source": [
        "print(\"Estoy llevando {} cursos en verano en el año {}\".format(4, 2022))"
      ]
    },
    {
      "cell_type": "markdown",
      "metadata": {
        "id": "szdOZ_KU0bNN"
      },
      "source": [
        "Podemos referenciar el orden de las variables con sus índices (Los indices empiezan en 0)"
      ]
    },
    {
      "cell_type": "code",
      "execution_count": null,
      "metadata": {
        "scrolled": true,
        "id": "tYF4fZMT0bNN",
        "outputId": "a8a2d146-0581-48a4-bc8c-e9731efe875f"
      },
      "outputs": [
        {
          "name": "stdout",
          "output_type": "stream",
          "text": [
            "Carlos tiene un gato, un perro y cero tortuga!\n"
          ]
        }
      ],
      "source": [
        "print(\"Carlos tiene un {1}, un {0} y cero {2}!\".format(\"perro\", \"gato\", \"tortuga\"))"
      ]
    },
    {
      "cell_type": "code",
      "execution_count": null,
      "metadata": {
        "id": "TdTDTlii0bNN",
        "outputId": "28698e4c-5da1-4fbb-b2b2-6d2d8305b6a6"
      },
      "outputs": [
        {
          "name": "stdout",
          "output_type": "stream",
          "text": [
            "Carlos tiene un perro, un gato y cero tortuga!\n"
          ]
        }
      ],
      "source": [
        "print(\"Carlos tiene un {}, un {} y cero {}!\".format(\"perro\", \"gato\", \"tortuga\"))"
      ]
    },
    {
      "cell_type": "code",
      "execution_count": null,
      "metadata": {
        "id": "apedgKv-0bNO",
        "outputId": "2005862b-96d8-4de8-be53-4e0f856054be"
      },
      "outputs": [
        {
          "name": "stdout",
          "output_type": "stream",
          "text": [
            "Carlos tiene un gato, un perro y cero tortuga!\n"
          ]
        }
      ],
      "source": [
        "print(\"Carlos tiene un {1}, un {0} y cero {2}!\".format(\"perro\", \"gato\", \"tortuga\"))"
      ]
    },
    {
      "cell_type": "markdown",
      "metadata": {
        "id": "sXfRBON00bNO"
      },
      "source": [
        "Tambien podemos usar variables:"
      ]
    },
    {
      "cell_type": "code",
      "execution_count": null,
      "metadata": {
        "scrolled": true,
        "id": "17BS-ynI0bNP",
        "outputId": "06bb0913-444a-4ced-8093-e4f6248f2e45"
      },
      "outputs": [
        {
          "name": "stdout",
          "output_type": "stream",
          "text": [
            "Creo que llevará 28 créditos el otro curso!\n"
          ]
        }
      ],
      "source": [
        "nroCreditos = 28\n",
        "print(\"Creo que llevará {} créditos el otro curso!\".format(nroCreditos))"
      ]
    },
    {
      "cell_type": "markdown",
      "metadata": {
        "id": "oZke_03G0bNP"
      },
      "source": [
        "El orden importa a la hora de usar __`format()`__"
      ]
    },
    {
      "cell_type": "code",
      "execution_count": null,
      "metadata": {
        "id": "KIrHEXIC0bNQ",
        "outputId": "eb043921-6fa2-4984-9fb3-3a4b591fb972"
      },
      "outputs": [
        {
          "data": {
            "text/plain": [
              "'a b c'"
            ]
          },
          "execution_count": 63,
          "metadata": {},
          "output_type": "execute_result"
        }
      ],
      "source": [
        "'{} {} {}'.format('a', 'b', 'c')"
      ]
    },
    {
      "cell_type": "code",
      "execution_count": null,
      "metadata": {
        "id": "pnZhFiUW0bNQ",
        "outputId": "c655ce92-e533-42e0-f43d-d7d592ca9a61"
      },
      "outputs": [
        {
          "data": {
            "text/plain": [
              "'c b a'"
            ]
          },
          "execution_count": 64,
          "metadata": {},
          "output_type": "execute_result"
        }
      ],
      "source": [
        "'{2} {1} {0}'.format('a', 'b', 'c')"
      ]
    },
    {
      "cell_type": "code",
      "execution_count": null,
      "metadata": {
        "id": "xtleWnZj0bNT",
        "outputId": "aa3195b8-89f4-451d-b06d-cdaf441a76c9"
      },
      "outputs": [
        {
          "data": {
            "text/plain": [
              "'blue 10 1.5'"
            ]
          },
          "execution_count": 65,
          "metadata": {},
          "output_type": "execute_result"
        }
      ],
      "source": [
        "'{color} {n} {x}'.format(n=10, x=1.5, color='blue')"
      ]
    },
    {
      "cell_type": "markdown",
      "metadata": {
        "id": "O0-gMXQ40bNV"
      },
      "source": [
        "Si queremos imprimir un numero decimal y queremos precisar el numero de digitos a imprimir usamos:\n",
        "\n",
        "__%(tamaño total).(numero de decimales)f__"
      ]
    },
    {
      "cell_type": "code",
      "execution_count": null,
      "metadata": {
        "id": "SBSCUNs-0bNW",
        "outputId": "9181d823-8a9a-49b2-ea11-75d6d9da4550"
      },
      "outputs": [
        {
          "name": "stdout",
          "output_type": "stream",
          "text": [
            "1321.123456789\n"
          ]
        }
      ],
      "source": [
        "print(\"%.9f\" % 1321.123456789)"
      ]
    },
    {
      "cell_type": "code",
      "execution_count": null,
      "metadata": {
        "id": "5Vipm79A0bNY",
        "outputId": "f790ed9c-ca90-4c9e-a0e4-af213245b51f"
      },
      "outputs": [
        {
          "name": "stdout",
          "output_type": "stream",
          "text": [
            "9788.213318204967436\n"
          ]
        }
      ],
      "source": [
        "print(\"%18.15f\" % 9788.213318204967192)"
      ]
    },
    {
      "cell_type": "markdown",
      "metadata": {
        "id": "xRZqLyM90bNY"
      },
      "source": [
        "### Tipo Booleano"
      ]
    },
    {
      "cell_type": "markdown",
      "metadata": {
        "id": "68mROSwz0bNZ"
      },
      "source": [
        "Python soporta tambien un tipo especial que solo adquiere dos valores y eso son los booleanos:\n",
        "\n",
        "- __True__\n",
        "- __False__\n",
        "\n",
        "Tambien tenemos operaciones del algebra booleana como:\n",
        "- __or__ operador `o`\n",
        "- __and__ operador `y`\n",
        "- __not__ operador `no`\n"
      ]
    },
    {
      "cell_type": "code",
      "execution_count": null,
      "metadata": {
        "id": "coiqQybv0bNZ",
        "outputId": "a41386e2-ad07-419a-b526-d2921c331d72"
      },
      "outputs": [
        {
          "name": "stdout",
          "output_type": "stream",
          "text": [
            "True\n",
            "False\n",
            "False\n",
            "True\n"
          ]
        }
      ],
      "source": [
        "print(True or False)\n",
        "print(True and False)\n",
        "print(False and False)\n",
        "print(True and True)"
      ]
    },
    {
      "cell_type": "code",
      "execution_count": null,
      "metadata": {
        "scrolled": true,
        "id": "ErgAaRu60bNZ",
        "outputId": "260750b2-4164-4806-d80e-b96c8bfd9bd6"
      },
      "outputs": [
        {
          "name": "stdout",
          "output_type": "stream",
          "text": [
            "False\n",
            "True\n"
          ]
        }
      ],
      "source": [
        "print(not True)\n",
        "print(not False)"
      ]
    },
    {
      "cell_type": "markdown",
      "metadata": {
        "id": "O-T9UqW30bNa"
      },
      "source": [
        "Podemos usar operadores para comparar, tales como (__==, != ,<, >, <=, >=__)"
      ]
    },
    {
      "cell_type": "code",
      "execution_count": null,
      "metadata": {
        "id": "xTttbX590bNa"
      },
      "outputs": [],
      "source": [
        "a = 15\n",
        "b = 10\n",
        "c = 15"
      ]
    },
    {
      "cell_type": "code",
      "execution_count": null,
      "metadata": {
        "id": "UJer5hbJ0bNa",
        "outputId": "8e191a98-90e4-4e81-f24e-d02be19553fc"
      },
      "outputs": [
        {
          "name": "stdout",
          "output_type": "stream",
          "text": [
            "False\n"
          ]
        }
      ],
      "source": [
        "print(a == b)"
      ]
    },
    {
      "cell_type": "code",
      "execution_count": null,
      "metadata": {
        "id": "1nI0teds0bNb",
        "outputId": "54cd66fa-0155-41c5-90a6-bbb902cf54bb"
      },
      "outputs": [
        {
          "name": "stdout",
          "output_type": "stream",
          "text": [
            "True\n"
          ]
        }
      ],
      "source": [
        "print(a == c)"
      ]
    },
    {
      "cell_type": "code",
      "execution_count": null,
      "metadata": {
        "id": "UHuMw3DZ0bNb",
        "outputId": "aea8c19e-2c35-4b33-db55-3b92b881857c"
      },
      "outputs": [
        {
          "name": "stdout",
          "output_type": "stream",
          "text": [
            "False\n",
            "True\n",
            "False\n"
          ]
        }
      ],
      "source": [
        "print(a < b)\n",
        "print(a >= b)\n",
        "print(a != c)"
      ]
    },
    {
      "cell_type": "markdown",
      "metadata": {
        "id": "exMEzL4P0bNc"
      },
      "source": [
        "__________________________________________\n",
        "¿Que sucede con los números complejos?"
      ]
    },
    {
      "cell_type": "code",
      "execution_count": null,
      "metadata": {
        "scrolled": true,
        "id": "xeX1PUuG0bNc"
      },
      "outputs": [],
      "source": [
        "# print(2j < 3j)"
      ]
    },
    {
      "cell_type": "markdown",
      "metadata": {
        "id": "lEfeWGhJ0bNc"
      },
      "source": [
        "Como sabrán los complejos no se pueden ordenar.\n",
        "______________________________"
      ]
    },
    {
      "cell_type": "markdown",
      "metadata": {
        "id": "Ilys6BQh0bNc"
      },
      "source": [
        "Tambien podemos realizar operaciones combinadas"
      ]
    },
    {
      "cell_type": "code",
      "execution_count": null,
      "metadata": {
        "id": "ZQzM6qR00bNd",
        "outputId": "34ead1e8-8d9b-4330-8f44-95a3db43728d"
      },
      "outputs": [
        {
          "data": {
            "text/plain": [
              "True"
            ]
          },
          "execution_count": 76,
          "metadata": {},
          "output_type": "execute_result"
        }
      ],
      "source": [
        "((4 < 6) and (5 >= 8)) or (4 != 7)"
      ]
    },
    {
      "cell_type": "markdown",
      "metadata": {
        "id": "mmWDU6_b0bNe"
      },
      "source": [
        "### Tipo String"
      ]
    },
    {
      "cell_type": "markdown",
      "metadata": {
        "id": "FkvJeh4R0bNe"
      },
      "source": [
        "Además de los enteros, flotantes y complejos; existen otros tipos muy importantes como los strings __(cadenas de caracteres).__"
      ]
    },
    {
      "cell_type": "code",
      "execution_count": null,
      "metadata": {
        "id": "34EgF14n0bNf"
      },
      "outputs": [],
      "source": [
        "name = \"Joaquina\""
      ]
    },
    {
      "cell_type": "code",
      "execution_count": null,
      "metadata": {
        "id": "1HjiWPlT0bNf",
        "outputId": "361c4d8f-7d83-4dd6-e149-2a65320ae5aa"
      },
      "outputs": [
        {
          "name": "stdout",
          "output_type": "stream",
          "text": [
            "Joaquina\n"
          ]
        }
      ],
      "source": [
        "print(name)"
      ]
    },
    {
      "cell_type": "markdown",
      "metadata": {
        "id": "c8udeFCN0bNg"
      },
      "source": [
        "Con el comando `type` podemos observar que tipado tiene una determinada variable"
      ]
    },
    {
      "cell_type": "code",
      "execution_count": null,
      "metadata": {
        "id": "MOKG5gK20bNg",
        "outputId": "3e773c25-be0d-4330-a883-77a84ad0bfea"
      },
      "outputs": [
        {
          "data": {
            "text/plain": [
              "str"
            ]
          },
          "execution_count": 79,
          "metadata": {},
          "output_type": "execute_result"
        }
      ],
      "source": [
        "type(name)"
      ]
    },
    {
      "cell_type": "markdown",
      "metadata": {
        "id": "QXUyKIrM0bNg"
      },
      "source": [
        "Este tipo especial tiene algunas operaciones como:"
      ]
    },
    {
      "cell_type": "code",
      "execution_count": null,
      "metadata": {
        "id": "LAtRv1zn0bNh",
        "outputId": "325ce645-2841-4dfc-8ac4-3d61664507a1"
      },
      "outputs": [
        {
          "name": "stdout",
          "output_type": "stream",
          "text": [
            "JoaquinaMartinez\n"
          ]
        }
      ],
      "source": [
        "second_name = \"Martinez\"\n",
        "print(name + second_name)\n",
        "# Esta operación es llamada concatenación"
      ]
    },
    {
      "cell_type": "code",
      "execution_count": null,
      "metadata": {
        "id": "KQb66iAW0bNh",
        "outputId": "09a9e413-de3f-4252-a684-77379449eadf"
      },
      "outputs": [
        {
          "name": "stdout",
          "output_type": "stream",
          "text": [
            "Joaquina Martinez\n"
          ]
        }
      ],
      "source": [
        "# Para separarlo ;)\n",
        "print(name + \" \" + second_name)"
      ]
    },
    {
      "cell_type": "markdown",
      "metadata": {
        "id": "cGYAv0aX0bNh"
      },
      "source": [
        "Tambien podemos multiplicar una cadena por un número entero (__ENTERO__)."
      ]
    },
    {
      "cell_type": "code",
      "execution_count": null,
      "metadata": {
        "id": "-7VbIW0I0bNi",
        "outputId": "39d67df6-9cb6-4ec3-e027-0506d933a7c4"
      },
      "outputs": [
        {
          "name": "stdout",
          "output_type": "stream",
          "text": [
            "JoaquinaJoaquinaJoaquina\n"
          ]
        }
      ],
      "source": [
        "print(name * 3)"
      ]
    },
    {
      "cell_type": "markdown",
      "metadata": {
        "id": "mVwvMRc40bNi"
      },
      "source": [
        "Si podemos convertir numeros a cadenas, por ejemplo:"
      ]
    },
    {
      "cell_type": "code",
      "execution_count": null,
      "metadata": {
        "id": "qhGX5Nhc0bNi",
        "outputId": "35cece01-f1e3-4057-c54c-47cc20996291"
      },
      "outputs": [
        {
          "name": "stdout",
          "output_type": "stream",
          "text": [
            "<class 'int'> 5\n",
            "<class 'str'> 5\n"
          ]
        }
      ],
      "source": [
        "x = 5\n",
        "print(type(x), x)\n",
        "x = str(x)\n",
        "print(type(x), x)"
      ]
    },
    {
      "cell_type": "code",
      "execution_count": null,
      "metadata": {
        "id": "UHIH0mFi0bNj",
        "outputId": "8c7ed240-2ec0-4606-893d-06ae41112c11"
      },
      "outputs": [
        {
          "name": "stdout",
          "output_type": "stream",
          "text": [
            "Hola 5\n"
          ]
        }
      ],
      "source": [
        "#print(\"Hola \" + str(x))\n",
        "print(\"Hola \" + x)"
      ]
    },
    {
      "cell_type": "markdown",
      "metadata": {
        "id": "JKPxL09x0bNj"
      },
      "source": [
        "Podemos usar ciertos caracteres especiales de escape como `\\n` (Salto de línea) o  `\\t` (tabulador)"
      ]
    },
    {
      "cell_type": "code",
      "execution_count": null,
      "metadata": {
        "scrolled": true,
        "id": "_9qoe5nl0bNk",
        "outputId": "71a5f042-602a-45dc-df13-6212711d0ef3"
      },
      "outputs": [
        {
          "name": "stdout",
          "output_type": "stream",
          "text": [
            "Python es un lenguaje increíble\n",
            "Facil de usar\n"
          ]
        }
      ],
      "source": [
        "s = \"Python es un lenguaje increíble\\nFacil de usar\"\n",
        "print(s)"
      ]
    },
    {
      "cell_type": "code",
      "execution_count": null,
      "metadata": {
        "id": "DxNKD60S0bNk",
        "outputId": "ff432309-593f-421c-d712-42d28f7d7583"
      },
      "outputs": [
        {
          "name": "stdout",
          "output_type": "stream",
          "text": [
            "Esta\tes\tuna\tcadena\tseparada\tpor\ttabs\n"
          ]
        }
      ],
      "source": [
        "other_string = \"Esta\\tes\\tuna\\tcadena\\tseparada\\tpor\\ttabs\"\n",
        "print(other_string)"
      ]
    },
    {
      "cell_type": "markdown",
      "metadata": {
        "id": "Kq2SvC2L0bNm"
      },
      "source": [
        "Ahora vamos a utilizar una función muy especial para poder obtener una cadena del teclado. La función a utilizar se llama __input()__"
      ]
    },
    {
      "cell_type": "code",
      "execution_count": 2,
      "metadata": {
        "id": "_avo3qrp0bNm",
        "outputId": "3df10066-34c5-464d-b035-ef4ba9a2058f",
        "colab": {
          "base_uri": "https://localhost:8080/"
        }
      },
      "outputs": [
        {
          "output_type": "stream",
          "name": "stdout",
          "text": [
            "Bienvenidos a nuestro primer programa\n",
            "Ingrese su nombre por favor y presione Enter\n",
            "1\n",
            "Su nombre es : 1\n"
          ]
        }
      ],
      "source": [
        "print(\"Bienvenidos a nuestro primer programa\")\n",
        "print(\"Ingrese su nombre por favor y presione Enter\")\n",
        "name = input()\n",
        "print('Su nombre es : ' + name)"
      ]
    },
    {
      "cell_type": "code",
      "execution_count": null,
      "metadata": {
        "id": "z09ewmjG0bNn"
      },
      "outputs": [],
      "source": [
        "name = \"Juan José\""
      ]
    },
    {
      "cell_type": "code",
      "execution_count": null,
      "metadata": {
        "id": "5fyddklJ0bNn",
        "outputId": "f1ce9e81-f74e-4956-c1a4-e8fc74de49b9"
      },
      "outputs": [
        {
          "name": "stdout",
          "output_type": "stream",
          "text": [
            "Bienvenido Juan José\n",
            "Tu nombre tiene 9 letras\n",
            "Gracias por usar este sistema\n"
          ]
        }
      ],
      "source": [
        "print(\"Bienvenido \" + name)\n",
        "print(\"Tu nombre tiene \" + str(len(name)) + \" letras\")\n",
        "print(\"Gracias por usar este sistema\")"
      ]
    },
    {
      "cell_type": "markdown",
      "metadata": {
        "id": "9Y2IzLAl0bNn"
      },
      "source": [
        "Dentro de input tambien podemos escribir una cadena"
      ]
    },
    {
      "cell_type": "code",
      "execution_count": null,
      "metadata": {
        "id": "hrntn2Zv0bNo",
        "outputId": "a4cf984e-8ea9-40ae-d409-0a1eefcf9060"
      },
      "outputs": [
        {
          "name": "stdin",
          "output_type": "stream",
          "text": [
            "Ingrese su peso:  23\n"
          ]
        },
        {
          "name": "stdout",
          "output_type": "stream",
          "text": [
            "Usted tendrá 28 kg dentro de 5 años\n"
          ]
        }
      ],
      "source": [
        "age = input(\"Ingrese su peso y presione Enter: \")\n",
        "print(\"Usted tendrá \" + str(int(age)+5) + \" kg dentro de 5 años\")"
      ]
    },
    {
      "cell_type": "markdown",
      "metadata": {
        "id": "KQsK8gkm0bNo"
      },
      "source": [
        "Ahora por qué dijimos que las cadenas son un tipo especial?..."
      ]
    },
    {
      "cell_type": "code",
      "execution_count": null,
      "metadata": {
        "id": "XOV7DcL50bNp",
        "outputId": "ddf65821-57d1-4a12-930c-f3ffca406e4c"
      },
      "outputs": [
        {
          "name": "stdout",
          "output_type": "stream",
          "text": [
            "S\n"
          ]
        }
      ],
      "source": [
        "# Definamos una cadena\n",
        "\n",
        "cadena = \"Susti\"\n",
        "\n",
        "primera_letra = cadena[0]\n",
        "\n",
        "print(primera_letra)"
      ]
    },
    {
      "cell_type": "markdown",
      "metadata": {
        "id": "hyNbLdZc0bNp"
      },
      "source": [
        "¿Qué significa ese [0]? ...\n",
        "[0] es el índice o index, pero... Qué es un índice?? D:"
      ]
    },
    {
      "cell_type": "markdown",
      "source": [
        "![descarga.png](data:image/png;base64,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)"
      ],
      "metadata": {
        "id": "IwuiZGn80xud"
      }
    },
    {
      "cell_type": "code",
      "source": [],
      "metadata": {
        "id": "O9Gk0Lar0sfH"
      },
      "execution_count": null,
      "outputs": []
    },
    {
      "cell_type": "markdown",
      "metadata": {
        "id": "G3C66FAx0bNq"
      },
      "source": [
        "Un string o cadena es un tipo especial."
      ]
    },
    {
      "cell_type": "code",
      "source": [],
      "metadata": {
        "id": "HNQbdEps0ahj"
      },
      "execution_count": null,
      "outputs": []
    },
    {
      "cell_type": "code",
      "execution_count": null,
      "metadata": {
        "id": "jZsZ2osI0bNq",
        "outputId": "3b25ceec-1a31-4ea4-bd4e-a1cd2f599cfa"
      },
      "outputs": [
        {
          "name": "stdout",
          "output_type": "stream",
          "text": [
            "5\n"
          ]
        }
      ],
      "source": [
        "#Si queremos hallar el tamaño de una cadena usamos la función len()\n",
        "dog_name = \"Solovino\"\n",
        "print(str(len(dog_name)))"
      ]
    },
    {
      "cell_type": "code",
      "execution_count": null,
      "metadata": {
        "id": "aO6_ox0F0bNq",
        "outputId": "14c0038c-cc7c-4de0-ee8a-f087cb75187c"
      },
      "outputs": [
        {
          "data": {
            "text/plain": [
              "'c'"
            ]
          },
          "execution_count": 96,
          "metadata": {},
          "output_type": "execute_result"
        }
      ],
      "source": [
        "dog_name[2]"
      ]
    },
    {
      "cell_type": "markdown",
      "metadata": {
        "id": "0brWV3Q90bNr"
      },
      "source": [
        "¿Qué pasó?... Rex tiene 3 letras pero los arrays empiezan en cero, es decir que la ultima letra será el índice 2."
      ]
    },
    {
      "cell_type": "code",
      "execution_count": null,
      "metadata": {
        "id": "WncA0IEu0bNz",
        "outputId": "fd435a9e-a5af-4ca1-9037-a96b11fd095f"
      },
      "outputs": [
        {
          "data": {
            "text/plain": [
              "'i'"
            ]
          },
          "execution_count": 97,
          "metadata": {},
          "output_type": "execute_result"
        }
      ],
      "source": [
        "dog_name[1]"
      ]
    },
    {
      "cell_type": "code",
      "execution_count": null,
      "metadata": {
        "id": "g4OXDPyh0bN0",
        "outputId": "d918890b-44c2-45d1-dac8-c4d90d72cf25"
      },
      "outputs": [
        {
          "data": {
            "text/plain": [
              "'P'"
            ]
          },
          "execution_count": 98,
          "metadata": {},
          "output_type": "execute_result"
        }
      ],
      "source": [
        "dog_name[0]"
      ]
    },
    {
      "cell_type": "markdown",
      "metadata": {
        "id": "ukMN1qTn0bN0"
      },
      "source": [
        "¿Cómo imprimo la última letra de una cadena sin saber su longitud?"
      ]
    },
    {
      "cell_type": "code",
      "execution_count": null,
      "metadata": {
        "id": "xKe0Zi150bN1",
        "outputId": "57cc8b2d-7236-4c04-8c85-28e43b25e7ea"
      },
      "outputs": [
        {
          "data": {
            "text/plain": [
              "'o'"
            ]
          },
          "execution_count": 99,
          "metadata": {},
          "output_type": "execute_result"
        }
      ],
      "source": [
        "dog_name[-1]"
      ]
    },
    {
      "cell_type": "markdown",
      "metadata": {
        "id": "oZ0hVM1E0bN2"
      },
      "source": [
        "Si deseo imprimir las 3 primeras letras de una cadena lo que debo hacer es:"
      ]
    },
    {
      "cell_type": "code",
      "execution_count": null,
      "metadata": {
        "id": "qXrA1JEG0bN2",
        "outputId": "be0b6f7c-28d5-4dfb-e2a4-4c49ec4c906c"
      },
      "outputs": [
        {
          "data": {
            "text/plain": [
              "'mur'"
            ]
          },
          "execution_count": 100,
          "metadata": {},
          "output_type": "execute_result"
        }
      ],
      "source": [
        "animal = \"murcielago\"\n",
        "animal[0:3]"
      ]
    },
    {
      "cell_type": "markdown",
      "metadata": {
        "id": "aGqbkhwz0bN3"
      },
      "source": [
        "Para las 3 ultimas puedo usar:"
      ]
    },
    {
      "cell_type": "code",
      "execution_count": null,
      "metadata": {
        "id": "_z5H4zob0bN3",
        "outputId": "593ba3a6-f307-4231-8700-38892d1c18f6"
      },
      "outputs": [
        {
          "data": {
            "text/plain": [
              "'ago'"
            ]
          },
          "execution_count": 101,
          "metadata": {},
          "output_type": "execute_result"
        }
      ],
      "source": [
        "animal[-3:]"
      ]
    }
  ],
  "metadata": {
    "kernelspec": {
      "display_name": "Python 3 (ipykernel)",
      "language": "python",
      "name": "python3"
    },
    "language_info": {
      "codemirror_mode": {
        "name": "ipython",
        "version": 3
      },
      "file_extension": ".py",
      "mimetype": "text/x-python",
      "name": "python",
      "nbconvert_exporter": "python",
      "pygments_lexer": "ipython3",
      "version": "3.9.7"
    },
    "colab": {
      "provenance": []
    }
  },
  "nbformat": 4,
  "nbformat_minor": 0
}