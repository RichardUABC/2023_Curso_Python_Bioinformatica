{
  "cells": [
    {
      "cell_type": "markdown",
      "metadata": {
        "id": "z4_IXLw10vw-"
      },
      "source": [
        "# Funciones"
      ]
    },
    {
      "cell_type": "markdown",
      "metadata": {
        "id": "ku0f06Au0vw_"
      },
      "source": [
        "# 3.1 Introducción\n",
        "Lo más importante para programar, y no solo en Python, es saber organizar el código en piezas más pequeñas que hagan tareas independientes y combinarlas entre sí.\n",
        "\n",
        "Las **funciones** son el primer nivel de organización del código: reciben unas *entradas*, las *procesan* y devuelven unas *salidas*._"
      ]
    },
    {
      "cell_type": "markdown",
      "metadata": {
        "id": "nsMGJ1h-0vxB"
      },
      "source": [
        "**Objetivos**:\n",
        "\n",
        "* Entender la sintaxis básica de la definición de funciones que reciban y devuelvan parámetros.\n",
        "* Conocer la manera de documentar funciones.\n",
        "* Fijar valores por defecto.\n",
        "* Entender el *scope* en la ejecución de funciones.\n",
        "---"
      ]
    },
    {
      "cell_type": "markdown",
      "metadata": {
        "id": "577SOr9w0vxC"
      },
      "source": [
        "## 3.2 Built-in functions o Funciones Internas"
      ]
    },
    {
      "cell_type": "markdown",
      "metadata": {
        "id": "qaz0h9-w0vxC"
      },
      "source": [
        "Built-in functions: print, range, input, int, float, str, list, tuple, dict, set, abs, etc.  \n",
        "Un listado de funciones internas de Python estan disponibles [aqui] (https://docs.python.org/3/library/functions.html).  \n",
        "Algunas funciones a partir de librerías estandar son Functions: `math.sqrt`, `math.ceil`, `math.floor`, `math.sin`, `math.cos`, etc."
      ]
    },
    {
      "cell_type": "code",
      "execution_count": null,
      "metadata": {
        "tags": [],
        "id": "4qD5x2XC0vxE",
        "outputId": "63cf58fc-6f00-4241-e80f-93b77feb6db4"
      },
      "outputs": [
        {
          "name": "stdout",
          "output_type": "stream",
          "text": [
            "Help on built-in function compile in module builtins:\n",
            "\n",
            "compile(source, filename, mode, flags=0, dont_inherit=False, optimize=-1, *, _feature_version=-1)\n",
            "    Compile source into a code object that can be executed by exec() or eval().\n",
            "    \n",
            "    The source code may represent a Python module, statement or expression.\n",
            "    The filename will be used for run-time error messages.\n",
            "    The mode must be 'exec' to compile a module, 'single' to compile a\n",
            "    single (interactive) statement, or 'eval' to compile an expression.\n",
            "    The flags argument, if present, controls which future statements influence\n",
            "    the compilation of the code.\n",
            "    The dont_inherit argument, if true, stops the compilation inheriting\n",
            "    the effects of any future statements in effect in the code calling\n",
            "    compile; if absent or false these statements do influence the compilation,\n",
            "    in addition to any features explicitly specified.\n",
            "\n"
          ]
        }
      ],
      "source": [
        "help(compile)"
      ]
    },
    {
      "cell_type": "code",
      "execution_count": null,
      "metadata": {
        "tags": [],
        "id": "TSXD7EqO0vxG",
        "outputId": "444a1f49-8174-4652-d519-9712fc5e5f83"
      },
      "outputs": [
        {
          "name": "stdout",
          "output_type": "stream",
          "text": [
            "8\n"
          ]
        }
      ],
      "source": [
        "Abs = abs(-8)\n",
        "print(Abs)"
      ]
    },
    {
      "cell_type": "markdown",
      "metadata": {
        "cell_tags": [],
        "id": "3yVm873I0vxH"
      },
      "source": [
        "## 3.3 Definiendo una función"
      ]
    },
    {
      "cell_type": "markdown",
      "metadata": {
        "id": "2-QiJ0Bw0vxI"
      },
      "source": [
        "- Sintaxis para la definición de una Función\n",
        "\n",
        "```python\n",
        "\n",
        "def func_name(p1, p2, ...):  # Parametros (o parámetros formales)  \n",
        "    \"\"\"Docstring (optional)\"\"\"  \n",
        "    bloque de sentencias\n",
        "    return valores = .....\n",
        "\n",
        "print('Los datos')\n",
        "```  \n",
        "    \n",
        "- Sintaxis del uso o llamdo de una Función\n",
        "\n",
        "```python\n",
        "func_name(a1, a2, ...)  # Argumentos (o parámetros actuales)\n",
        "```\n"
      ]
    },
    {
      "cell_type": "markdown",
      "metadata": {
        "id": "uoxecstl0vxJ"
      },
      "source": [
        "Vemos que la función se define comenzando con la palabra clave `def` seguido del `nombre_de_la_funcion` y a continuación, entre paréntesis, los argumentos de entrada. La cabercera de la función termina con dos puntos `:`.\n",
        "\n",
        "Le sigue el cuerpo de la función, indentado con tres o cuatro espacios (siempre deben ser la misma cantidad) y finaliza con un `return` y los argumentos de salida. Si una función no devuelve nada, no hace falta usar un `return` (ni aunque esté vacío). La definición de la función termina cuando la indentación vuelve a su nivel inicial."
      ]
    },
    {
      "cell_type": "markdown",
      "metadata": {
        "id": "GhGEDtVN0vxK"
      },
      "source": [
        "________________________________________________________________________________________________\n",
        "Es una buena práctica, no solo documentar las funciones, sino hacerlo con un estilo único y estandarizado. Una referencia respaldada en el ecosistema científico es el estilo de documentación de NumPy: https://numpydoc.readthedocs.io/en/latest/format.html#docstring-standard\n",
        "\n",
        "----------\n",
        "#### Docstrings  - Documentando el código\n",
        "\n",
        "> Las cadenas de documentación o docstrings son textos que se escriben entre triples comillas dentro de los programas para documentarlos.  \n",
        "Cuando se desarrolla un proyecto donde colaboran varias personas contar con información clara y precisa que facilite la comprensión del código es imprescindible y beneficia a todos los participantes y al propio proyecto.\n",
        "\n",
        "> Las funciones, clases y módulos deben ir convenientemente documentados. La información de las docstrings estará disponible cuando se edite el código y, también, durante la ejecución de los programas:\n",
        "___________________"
      ]
    },
    {
      "cell_type": "markdown",
      "metadata": {
        "id": "ufdi3oiJ0vxK"
      },
      "source": [
        "#### Ejemplo de una Función"
      ]
    },
    {
      "cell_type": "code",
      "execution_count": null,
      "metadata": {
        "tags": [],
        "id": "ywMNqbox0vxK"
      },
      "outputs": [],
      "source": [
        "\"\"\"Hagamos como ejemplo sencillo, una Función que nos devuelva la suma de las todos las variables.\"\"\"\n",
        "def calc_sum(x, y, z):\n",
        "    \"\"\"\n",
        "    Calcula la suma de las todos las variables.\n",
        "    Use function: cal_sum(4, 5, 6)\n",
        "    \"\"\"\n",
        "    print(x + y + z)"
      ]
    },
    {
      "cell_type": "code",
      "execution_count": null,
      "metadata": {
        "tags": [],
        "id": "r9sF0OZ30vxL",
        "outputId": "45bc54aa-d054-4311-ea8f-ba622a4fce45"
      },
      "outputs": [
        {
          "name": "stdout",
          "output_type": "stream",
          "text": [
            "60\n"
          ]
        }
      ],
      "source": [
        "calc_sum(10, 20, 30)"
      ]
    },
    {
      "cell_type": "code",
      "execution_count": null,
      "metadata": {
        "tags": [],
        "id": "qDsD4Bda0vxL",
        "outputId": "77a2eff6-6645-4f92-fc7a-53bc0f7ecdea"
      },
      "outputs": [
        {
          "name": "stdout",
          "output_type": "stream",
          "text": [
            "2.0\n"
          ]
        }
      ],
      "source": [
        "print(pow(4, 0.5))"
      ]
    },
    {
      "cell_type": "code",
      "execution_count": null,
      "metadata": {
        "tags": [],
        "id": "mfk1tBtZ0vxM",
        "outputId": "f86d914b-fed6-4863-e6b8-2ad4e307550f"
      },
      "outputs": [
        {
          "name": "stdout",
          "output_type": "stream",
          "text": [
            "2.0\n"
          ]
        }
      ],
      "source": [
        "x = pow(4, 0.5)\n",
        "print(x)"
      ]
    },
    {
      "cell_type": "code",
      "execution_count": null,
      "metadata": {
        "tags": [],
        "id": "dnJiLnqN0vxM",
        "outputId": "be951e5a-cf30-4ead-b6fe-1322ed319ffa"
      },
      "outputs": [
        {
          "name": "stdout",
          "output_type": "stream",
          "text": [
            "60\n",
            "None\n"
          ]
        }
      ],
      "source": [
        "x = calc_sum(10, 20, 30)\n",
        "print(x)"
      ]
    },
    {
      "cell_type": "markdown",
      "metadata": {
        "id": "-PP5V4OA0vxN"
      },
      "source": [
        "- La cadena de documentos funciona como un comentario y puede proporcionar información sobre lo que hace la función."
      ]
    },
    {
      "cell_type": "code",
      "execution_count": null,
      "metadata": {
        "tags": [],
        "id": "M5CBMgms0vxN",
        "outputId": "347a4d5e-bf14-4011-ff6b-b0e4a0f1e361"
      },
      "outputs": [
        {
          "name": "stdout",
          "output_type": "stream",
          "text": [
            "Help on function calc_sum in module __main__:\n",
            "\n",
            "calc_sum(x, y, z)\n",
            "    Calcula la suma de las todos las variables.\n",
            "    Use function: cal_sum(4, 5, 6)\n",
            "\n"
          ]
        }
      ],
      "source": [
        "help(calc_sum)"
      ]
    },
    {
      "cell_type": "markdown",
      "metadata": {
        "id": "HiiQEbaF0vxO"
      },
      "source": [
        "## 3.3 Las variables pueden tener valores predeterminados."
      ]
    },
    {
      "cell_type": "code",
      "execution_count": null,
      "metadata": {
        "tags": [],
        "id": "zpzOklZ50vxO"
      },
      "outputs": [],
      "source": [
        "def calc_sumyprod(x=0, y=0, z=1):\n",
        "    print((x + y) * z)"
      ]
    },
    {
      "cell_type": "code",
      "execution_count": null,
      "metadata": {
        "tags": [],
        "id": "n6A1tpNW0vxO",
        "outputId": "4c4ef514-0db7-4f76-db9f-d7bc161fdb13"
      },
      "outputs": [
        {
          "name": "stdout",
          "output_type": "stream",
          "text": [
            "14\n"
          ]
        }
      ],
      "source": [
        "calc_sumyprod(2, 5, 2)"
      ]
    },
    {
      "cell_type": "code",
      "execution_count": null,
      "metadata": {
        "tags": [],
        "id": "G8jhsiBa0vxU",
        "outputId": "b123b4bb-3c46-4ac8-b827-8df73beaa4c9"
      },
      "outputs": [
        {
          "name": "stdout",
          "output_type": "stream",
          "text": [
            "0\n",
            "2\n",
            "3\n",
            "24\n"
          ]
        }
      ],
      "source": [
        "calc_sumyprod(); calc_sumyprod(2); calc_sumyprod(2,1); calc_sumyprod(2,1,8)"
      ]
    },
    {
      "cell_type": "markdown",
      "metadata": {
        "id": "3eHcalKX0vxV"
      },
      "source": [
        "#### Las variables predeterminadas deben colocarse después de todas las variables no predeterminados."
      ]
    },
    {
      "cell_type": "code",
      "execution_count": null,
      "metadata": {
        "tags": [],
        "id": "yVwNKDyL0vxV"
      },
      "outputs": [],
      "source": [
        "\"\"\" Ejemplo de lo que no se debe hacer\"\"\"\n",
        "def calc_sum(x, y, z=200):\n",
        "#    print(x + y + z)\n",
        "    return x + y + z"
      ]
    },
    {
      "cell_type": "code",
      "execution_count": null,
      "metadata": {
        "tags": [],
        "id": "Hjs4VwRT0vxW",
        "outputId": "bdb794d1-3448-45da-e4fa-450a00c037c6"
      },
      "outputs": [
        {
          "name": "stdout",
          "output_type": "stream",
          "text": [
            "205\n"
          ]
        }
      ],
      "source": [
        "c = calc_sum(2, 3)\n",
        "print(c)"
      ]
    },
    {
      "cell_type": "markdown",
      "metadata": {
        "id": "xwDMS2dh0vxW"
      },
      "source": [
        "#### Las funciones de Python permiten un número variable de variables."
      ]
    },
    {
      "cell_type": "code",
      "execution_count": 1,
      "metadata": {
        "tags": [],
        "id": "WJhTs_590vxX"
      },
      "outputs": [],
      "source": [
        "s = 10\n",
        "def calc_sum(x, y, *var):  # Al menos requiere de dos variables\n",
        "    d = x + y\n",
        "#    global s\n",
        "    s  = 0\n",
        "    for v in var:\n",
        "        s += v\n",
        "    return s, d"
      ]
    },
    {
      "cell_type": "code",
      "execution_count": 2,
      "metadata": {
        "tags": [],
        "id": "f240LqRe0vxX",
        "outputId": "ac997af8-1396-43a6-c761-b26010b493c4",
        "colab": {
          "base_uri": "https://localhost:8080/"
        }
      },
      "outputs": [
        {
          "output_type": "stream",
          "name": "stdout",
          "text": [
            "40 30\n"
          ]
        }
      ],
      "source": [
        "c, f = calc_sum(10, 20, 40)\n",
        "print(c, f)"
      ]
    },
    {
      "cell_type": "code",
      "execution_count": null,
      "metadata": {
        "tags": [],
        "id": "5OjOQ-HA0vxX",
        "outputId": "bd5575ea-53c5-44df-f19b-79ff8f49f6c7"
      },
      "outputs": [
        {
          "name": "stdout",
          "output_type": "stream",
          "text": [
            "10\n"
          ]
        }
      ],
      "source": [
        "print(s)"
      ]
    },
    {
      "cell_type": "code",
      "execution_count": null,
      "metadata": {
        "tags": [],
        "id": "ZuthTpN00vxZ",
        "outputId": "b43fa857-419e-4c8a-ece4-6ff97746cf69"
      },
      "outputs": [
        {
          "name": "stdout",
          "output_type": "stream",
          "text": [
            "(120, 30)\n"
          ]
        }
      ],
      "source": [
        "c = calc_sum(10, 20, 30, 40, 50)\n",
        "print(c)"
      ]
    },
    {
      "cell_type": "markdown",
      "metadata": {
        "id": "blDIX_VI0vxa"
      },
      "source": [
        "## 3.4 Ejemplo: conversión de temperatura"
      ]
    },
    {
      "cell_type": "markdown",
      "metadata": {
        "id": "i751xt-d0vxa"
      },
      "source": [
        "- El siguiente programa convierte la temperatura de grados Celsius a grados Fahrenheit.\n",
        "> ___Observen la estructura de esta función___"
      ]
    },
    {
      "cell_type": "code",
      "execution_count": null,
      "metadata": {
        "tags": [],
        "id": "godWgGyS0vxa"
      },
      "outputs": [],
      "source": [
        "def input_temp():\n",
        "    temp = float(input('Ingrese la temperatura en °C: '))\n",
        "    return temp\n",
        "\n",
        "def convert_temp(c):\n",
        "    f = 9/5 * c + 32\n",
        "    return f\n",
        "\n",
        "def output_temp(f):\n",
        "    print('La temperature es', f, '°F.')\n",
        "\n",
        "def main():\n",
        "    c = input_temp()\n",
        "    f = convert_temp(c)\n",
        "    output_temp(f)"
      ]
    },
    {
      "cell_type": "code",
      "execution_count": null,
      "metadata": {
        "tags": [],
        "id": "7YXoZlrX0vxb",
        "outputId": "37871316-c606-4b5c-f4e6-aaa8f373919a"
      },
      "outputs": [
        {
          "name": "stdin",
          "output_type": "stream",
          "text": [
            "Ingrese la temperatura en °C:  20\n"
          ]
        },
        {
          "name": "stdout",
          "output_type": "stream",
          "text": [
            "La temperature es 68.0 °F.\n"
          ]
        }
      ],
      "source": [
        "main()"
      ]
    },
    {
      "cell_type": "code",
      "execution_count": null,
      "metadata": {
        "id": "eVsnXGMA0vxb",
        "outputId": "ec42c44e-0b97-4c9d-a14e-684a1a11a262"
      },
      "outputs": [
        {
          "data": {
            "text/plain": [
              "212.0"
            ]
          },
          "execution_count": 5,
          "metadata": {},
          "output_type": "execute_result"
        }
      ],
      "source": [
        "convert_temp(100)"
      ]
    },
    {
      "cell_type": "markdown",
      "metadata": {
        "id": "Mo5ltPjG0vxb"
      },
      "source": [
        "## 3.5 Variables Globales y Locales"
      ]
    },
    {
      "cell_type": "markdown",
      "metadata": {
        "id": "ie4nScRv0vxc"
      },
      "source": [
        "### Unbound local error (error local independiente)\n",
        "Debemos tener especial cuidado el entorno de cada variable o scope."
      ]
    },
    {
      "cell_type": "markdown",
      "metadata": {
        "id": "XqUmwK8O0vxc"
      },
      "source": [
        "- Una variable local se define dentro de una definición de función.\n",
        "- Una variable global se define fuera de cualquier definición de función."
      ]
    },
    {
      "cell_type": "code",
      "execution_count": null,
      "metadata": {
        "id": "exp0HjpN0vxc",
        "outputId": "2f40e9ed-8384-4e67-df99-f97e379141dd"
      },
      "outputs": [
        {
          "name": "stdout",
          "output_type": "stream",
          "text": [
            "a es una variable local \n",
            "C es una variable global.\n"
          ]
        }
      ],
      "source": [
        "def test():\n",
        "    a = 'a es una variable local '\n",
        "    print(a)\n",
        "    print(C)\n",
        "\n",
        "C = 'C es una variable global.'\n",
        "test()"
      ]
    },
    {
      "cell_type": "markdown",
      "metadata": {
        "id": "ndTDwt-C0vxd"
      },
      "source": [
        "### 3.5.1 Si se define una variable local con el mismo nombre dentro de la función, imprime la variable local y no la variable global."
      ]
    },
    {
      "cell_type": "code",
      "execution_count": null,
      "metadata": {
        "id": "wqneV7nO0vxd",
        "outputId": "ac183dc3-b5c3-4d2a-c2f5-0e1a87157dda"
      },
      "outputs": [
        {
          "name": "stdout",
          "output_type": "stream",
          "text": [
            "Esta C es una variable local.\n",
            "Esta C es una variable global.\n"
          ]
        }
      ],
      "source": [
        "C = 'Esta C es una variable global.'\n",
        "\n",
        "def test():\n",
        "    C = 'Esta C es una variable local.'\n",
        "    print(C)\n",
        "\n",
        "test()\n",
        "print(C)"
      ]
    },
    {
      "cell_type": "markdown",
      "metadata": {
        "id": "gfpJu51Z0vxe"
      },
      "source": [
        "### 3.5.2  Una variable no puede ser tanto local como global dentro de una función."
      ]
    },
    {
      "cell_type": "code",
      "execution_count": null,
      "metadata": {
        "tags": [],
        "id": "AE3x4sqo0vxe",
        "outputId": "7d7b205d-acc3-4a3a-bb60-94f168ce25e5"
      },
      "outputs": [
        {
          "ename": "UnboundLocalError",
          "evalue": "local variable 'C' referenced before assignment",
          "output_type": "error",
          "traceback": [
            "\u001b[0;31m---------------------------------------------------------------------------\u001b[0m",
            "\u001b[0;31mUnboundLocalError\u001b[0m                         Traceback (most recent call last)",
            "Cell \u001b[0;32mIn[28], line 9\u001b[0m\n\u001b[1;32m      5\u001b[0m     C \u001b[38;5;241m=\u001b[39m \u001b[38;5;124m'\u001b[39m\u001b[38;5;124mThis C is a local variable.\u001b[39m\u001b[38;5;124m'\u001b[39m\n\u001b[1;32m      6\u001b[0m     \u001b[38;5;28mprint\u001b[39m(C)\n\u001b[0;32m----> 9\u001b[0m \u001b[43mtest\u001b[49m\u001b[43m(\u001b[49m\u001b[43m)\u001b[49m\n\u001b[1;32m     10\u001b[0m \u001b[38;5;28mprint\u001b[39m(C)\n",
            "Cell \u001b[0;32mIn[28], line 4\u001b[0m, in \u001b[0;36mtest\u001b[0;34m()\u001b[0m\n\u001b[1;32m      3\u001b[0m \u001b[38;5;28;01mdef\u001b[39;00m \u001b[38;5;21mtest\u001b[39m():\n\u001b[0;32m----> 4\u001b[0m     \u001b[38;5;28mprint\u001b[39m(\u001b[43mC\u001b[49m)\n\u001b[1;32m      5\u001b[0m     C \u001b[38;5;241m=\u001b[39m \u001b[38;5;124m'\u001b[39m\u001b[38;5;124mThis C is a local variable.\u001b[39m\u001b[38;5;124m'\u001b[39m\n\u001b[1;32m      6\u001b[0m     \u001b[38;5;28mprint\u001b[39m(C)\n",
            "\u001b[0;31mUnboundLocalError\u001b[0m: local variable 'C' referenced before assignment"
          ]
        }
      ],
      "source": [
        "C = 'This C is a global variable.'\n",
        "\n",
        "def test():\n",
        "    print(C)\n",
        "    C = 'This C is a local variable.'\n",
        "    print(C)\n",
        "\n",
        "\n",
        "test()\n",
        "print(C)"
      ]
    },
    {
      "cell_type": "markdown",
      "metadata": {
        "id": "nzkUkB0a0vxf"
      },
      "source": [
        "### 3.5.3 Podemos diferenciar la variable `C` global utilizando una palabra clave `global`."
      ]
    },
    {
      "cell_type": "code",
      "execution_count": null,
      "metadata": {
        "id": "iZnG4tcy0vxf",
        "outputId": "2dfdf688-18c4-46f6-bc6d-d3d097685787"
      },
      "outputs": [
        {
          "name": "stdout",
          "output_type": "stream",
          "text": [
            "Imprimi por primera vez : This C is a global variable.\n",
            "Imprimi por segunda vez : This C is a local variable.\n",
            "This C is a local variable.\n"
          ]
        }
      ],
      "source": [
        "def test():\n",
        "    # Observe el comando `global`\n",
        "    global C\n",
        "    print('Imprimi por primera vez :', C)\n",
        "    C = 'This C is a local variable.'\n",
        "    print('Imprimi por segunda vez :',C)\n",
        "\n",
        "C = 'This C is a global variable.'\n",
        "test()\n",
        "print(C)"
      ]
    },
    {
      "cell_type": "markdown",
      "metadata": {
        "id": "fkJh_AOz0vxg"
      },
      "source": [
        "- No se puede acceder a una variable local fuera de la función.\n",
        "- Las variables locales desaparecen cuando finaliza el llamado a la función."
      ]
    },
    {
      "cell_type": "code",
      "execution_count": null,
      "metadata": {
        "id": "6r9jwLDK0vxg",
        "outputId": "60cf28b4-1753-4733-d484-b38978286d13"
      },
      "outputs": [
        {
          "name": "stdout",
          "output_type": "stream",
          "text": [
            "Esta D es una variable local.\n",
            "Esta D es una variable local. Otra cosa\n"
          ]
        },
        {
          "ename": "NameError",
          "evalue": "name 'D' is not defined",
          "output_type": "error",
          "traceback": [
            "\u001b[0;31m---------------------------------------------------------------------------\u001b[0m",
            "\u001b[0;31mNameError\u001b[0m                                 Traceback (most recent call last)",
            "Cell \u001b[0;32mIn[11], line 8\u001b[0m\n\u001b[1;32m      5\u001b[0m     \u001b[38;5;28mprint\u001b[39m(D)\n\u001b[1;32m      7\u001b[0m test()\n\u001b[0;32m----> 8\u001b[0m \u001b[38;5;28mprint\u001b[39m(\u001b[43mD\u001b[49m)\n",
            "\u001b[0;31mNameError\u001b[0m: name 'D' is not defined"
          ]
        }
      ],
      "source": [
        "def test():\n",
        "    D = 'Esta D es una variable local.'\n",
        "    print(D)\n",
        "    D = D +' Otra cosa'\n",
        "    print(D)\n",
        "\n",
        "test()\n",
        "print(D)"
      ]
    },
    {
      "cell_type": "markdown",
      "metadata": {
        "id": "dyTl_LEd0vxh"
      },
      "source": [
        "## 3.6  Función Return"
      ]
    },
    {
      "cell_type": "markdown",
      "metadata": {
        "id": "5KR5fLOd0vxh"
      },
      "source": [
        "- Si hay una declaración `return` en una función, se devolverá el valor de la expresión que sigue a` return`."
      ]
    },
    {
      "cell_type": "code",
      "execution_count": null,
      "metadata": {
        "id": "EgnOUyrg0vxh",
        "outputId": "f1a83834-f6dc-4510-a70f-6c4b6e00bb6d"
      },
      "outputs": [
        {
          "data": {
            "text/plain": [
              "60"
            ]
          },
          "execution_count": 12,
          "metadata": {},
          "output_type": "execute_result"
        }
      ],
      "source": [
        "def calc_sum(x, y, z):\n",
        "    return x + y + z\n",
        "    print('Esto será ignorado')\n",
        "\n",
        "r = calc_sum(10, 20, 30)\n",
        "r"
      ]
    },
    {
      "cell_type": "markdown",
      "metadata": {
        "id": "TgawtQ9X0vxi"
      },
      "source": [
        "- Si no hay una declaración `return` o solo la palabra clave` return` pero no sigue nada, la función devuelve un objeto especial `None`."
      ]
    },
    {
      "cell_type": "code",
      "execution_count": null,
      "metadata": {
        "id": "Jx6wodxt0vxj",
        "outputId": "7d731462-ea42-423a-89da-86419ebd4849"
      },
      "outputs": [
        {
          "name": "stdout",
          "output_type": "stream",
          "text": [
            "None\n"
          ]
        }
      ],
      "source": [
        "# Este no calculará nada\n",
        "def calc_sum(x, y, z):\n",
        "    r = x + y + z\n",
        "\n",
        "r = calc_sum(10, 20, 30)\n",
        "print(r)"
      ]
    },
    {
      "cell_type": "code",
      "execution_count": null,
      "metadata": {
        "id": "bQlR3zfA0vxk",
        "outputId": "21fc21c2-f6d8-424b-effb-eaed2483eeda"
      },
      "outputs": [
        {
          "name": "stdout",
          "output_type": "stream",
          "text": [
            "None\n"
          ]
        }
      ],
      "source": [
        "def calc_sum(x, y, z):\n",
        "    r = x + y + z\n",
        "    return\n",
        "\n",
        "r = calc_sum(10, 20, 30)\n",
        "print(r)"
      ]
    },
    {
      "cell_type": "markdown",
      "metadata": {
        "id": "Ar2fRdGP0vxk"
      },
      "source": [
        "## 3.8  Hagamos otro ejemplo"
      ]
    },
    {
      "cell_type": "markdown",
      "metadata": {
        "tags": [],
        "id": "LxNFROK50vxk"
      },
      "source": [
        "Definamos una función que convierta grados fahrenheit a kelvin. Para ellos, recordemos que:\n",
        "\n",
        "𝑇(𝐾)=(𝑇(°𝐹)−32)⋅5/9+273.15"
      ]
    },
    {
      "cell_type": "code",
      "execution_count": null,
      "metadata": {
        "tags": [],
        "id": "kOoy8TrL0vxl"
      },
      "outputs": [],
      "source": [
        "def fahr_to_kelvin(temp):\n",
        "    \"\"\"\n",
        "    Aqui ponemos el comentario que sea\n",
        "    necesario.\n",
        "    \"\"\"\n",
        "    return ((temp - 32) * (5/9)) + 273.15"
      ]
    },
    {
      "cell_type": "code",
      "execution_count": null,
      "metadata": {
        "tags": [],
        "id": "2sVxOR_M0vxl",
        "outputId": "1dcc2dab-d82b-4da3-dc34-6b74bd8fb32e"
      },
      "outputs": [
        {
          "name": "stdout",
          "output_type": "stream",
          "text": [
            "Punto de congelación del agua: 273.15\n",
            "Punto de ebullición del agua: 373.15\n"
          ]
        }
      ],
      "source": [
        "# Punto de congelación del agua 32 F\n",
        "print('Punto de congelación del agua:', fahr_to_kelvin(32))\n",
        "# Punto de ebullición del agua 212 F\n",
        "print('Punto de ebullición del agua:', fahr_to_kelvin(212))"
      ]
    },
    {
      "cell_type": "markdown",
      "metadata": {
        "tags": [],
        "id": "ZqozVfEI0vxm"
      },
      "source": [
        "Punto de congelación del agua: 273.15\n",
        "Punto de ebullición del agua: 373.15\n"
      ]
    },
    {
      "cell_type": "markdown",
      "metadata": {
        "id": "jlu9VbiA0vxm"
      },
      "source": [
        "## 3.8 Funciones que llaman a otras funciones"
      ]
    },
    {
      "cell_type": "markdown",
      "metadata": {
        "id": "sl0t9eVz0vxm"
      },
      "source": [
        "Podemos definir funciones que llamen a otras con tal de que estén creadas en el momento de llamarlas. Definamos una función para pasar de Kelvin a Celsius:"
      ]
    },
    {
      "cell_type": "code",
      "execution_count": null,
      "metadata": {
        "id": "gk-YKkVy0vxn"
      },
      "outputs": [],
      "source": [
        "def kelvin_to_celsius(temp):\n",
        "    \"\"\"\n",
        "    Esta función transforma Kelvin a grados Celsius\n",
        "    \"\"\"\n",
        "    return temp - 273.15"
      ]
    },
    {
      "cell_type": "code",
      "execution_count": null,
      "metadata": {
        "cell_tags": [],
        "id": "hk6uOqAb0vxn",
        "outputId": "45308ae1-4076-4aa6-8223-6c9d57548409"
      },
      "outputs": [
        {
          "name": "stdout",
          "output_type": "stream",
          "text": [
            "Cero absoluto en grados Celsius: -273.15\n"
          ]
        }
      ],
      "source": [
        "print('Cero absoluto en grados Celsius:', kelvin_to_celsius(0.0))"
      ]
    },
    {
      "cell_type": "markdown",
      "metadata": {
        "id": "wKO5dobj0vxo"
      },
      "source": [
        "Si ahora queremos convertir de Farenheit a Celsius, podemos usar la función que ya teníamos definida:"
      ]
    },
    {
      "cell_type": "code",
      "execution_count": null,
      "metadata": {
        "cell_tags": [],
        "id": "P5qiA8pe0vxo",
        "outputId": "585c56a5-2aa2-489f-ceac-1013242bdd38"
      },
      "outputs": [
        {
          "name": "stdout",
          "output_type": "stream",
          "text": [
            "Punto de congelamiento del agua en grados Celsius: 0.0\n"
          ]
        }
      ],
      "source": [
        "def fahr_to_celsius(temp):\n",
        "    temp_k = fahr_to_kelvin(temp)\n",
        "    result = kelvin_to_celsius(temp_k)\n",
        "    return result\n",
        "\n",
        "print('Punto de congelamiento del agua en grados Celsius:', fahr_to_celsius(32.0))"
      ]
    },
    {
      "cell_type": "code",
      "execution_count": null,
      "metadata": {
        "id": "_Jdcf64Z0vxp",
        "outputId": "e977333b-c845-466b-a53b-4c73915c3964"
      },
      "outputs": [
        {
          "data": {
            "text/plain": [
              "0.0"
            ]
          },
          "execution_count": 63,
          "metadata": {},
          "output_type": "execute_result"
        }
      ],
      "source": [
        "kelvin_to_celsius(fahr_to_kelvin(32))"
      ]
    },
    {
      "cell_type": "markdown",
      "metadata": {
        "id": "Q7YHNb1-0vxp"
      },
      "source": [
        "Empezar a ver como, utilizando funciones, construimos programas grandes y complejos a partir de pequeñas piezas autónomas, reutilizables y fácilmente testeables."
      ]
    },
    {
      "cell_type": "markdown",
      "metadata": {
        "id": "zfeOqxxw0vxq"
      },
      "source": [
        "## 3.9 Tipado del argumento de la Funciones"
      ]
    },
    {
      "cell_type": "markdown",
      "metadata": {
        "id": "rm0Bx6IG0vxq"
      },
      "source": [
        "Python no exige un tipo de dato en la signatura. Python es dinámico: se esperan comportamientos en vez de tipos. Un tipo de datos puede implementar distintos comportamientos y *\"funcionar\"*\n",
        "\n",
        "Si un número, cualquiera sea su tipo, puede elevarse al cuadrado, ¿por qué deberíamos hacer una función equivalente para enteros, otra para flotantes de simple precisión y otra para complejos como se hace en otros lenguajes?"
      ]
    },
    {
      "cell_type": "code",
      "execution_count": null,
      "metadata": {
        "id": "F9ZNiu770vxs"
      },
      "outputs": [],
      "source": [
        "def cuadrado(numero):\n",
        "    \"\"\"Dado un escalar, devuelve su potencia cuadrada\"\"\"\n",
        "    resulta = numero**2\n",
        "    return resulta"
      ]
    },
    {
      "cell_type": "code",
      "execution_count": null,
      "metadata": {
        "id": "BGp5KFLa0vxs",
        "outputId": "abc11984-e25f-4f52-bf10-bce92adce3f7"
      },
      "outputs": [
        {
          "data": {
            "text/plain": [
              "9"
            ]
          },
          "execution_count": 44,
          "metadata": {},
          "output_type": "execute_result"
        }
      ],
      "source": [
        "cuadrado(3)"
      ]
    },
    {
      "cell_type": "code",
      "execution_count": null,
      "metadata": {
        "id": "vgXJdPQF0vxs",
        "outputId": "a2210541-1271-4948-d8c2-aae9563bd0dc"
      },
      "outputs": [
        {
          "data": {
            "text/plain": [
              "4e+20"
            ]
          },
          "execution_count": 45,
          "metadata": {},
          "output_type": "execute_result"
        }
      ],
      "source": [
        "cuadrado(2e10)"
      ]
    },
    {
      "cell_type": "code",
      "execution_count": null,
      "metadata": {
        "id": "ZkNbyxJn0vxt",
        "outputId": "8e88d944-9abb-4da4-ae9a-d3bbb2f0ae7a"
      },
      "outputs": [
        {
          "data": {
            "text/plain": [
              "(24-10j)"
            ]
          },
          "execution_count": 46,
          "metadata": {},
          "output_type": "execute_result"
        }
      ],
      "source": [
        "cuadrado(5-1j)"
      ]
    },
    {
      "cell_type": "code",
      "execution_count": null,
      "metadata": {
        "id": "4PeIeSzJ0vxt",
        "outputId": "065d907b-3ea3-4489-b779-d969fdfb1eac"
      },
      "outputs": [
        {
          "data": {
            "text/plain": [
              "25"
            ]
          },
          "execution_count": 47,
          "metadata": {},
          "output_type": "execute_result"
        }
      ],
      "source": [
        "cuadrado(3 + 2)"
      ]
    },
    {
      "cell_type": "code",
      "execution_count": null,
      "metadata": {
        "id": "nu7Uptax0vxu",
        "outputId": "7a1f57cb-50ea-4d6b-d4e6-36ef833e145c"
      },
      "outputs": [
        {
          "ename": "NameError",
          "evalue": "name 'cuadrado' is not defined",
          "output_type": "error",
          "traceback": [
            "\u001b[0;31m---------------------------------------------------------------------------\u001b[0m",
            "\u001b[0;31mNameError\u001b[0m                                 Traceback (most recent call last)",
            "Cell \u001b[0;32mIn[13], line 1\u001b[0m\n\u001b[0;32m----> 1\u001b[0m \u001b[43mcuadrado\u001b[49m(\u001b[38;5;124m\"\u001b[39m\u001b[38;5;124mhola mundo\u001b[39m\u001b[38;5;124m\"\u001b[39m)\n",
            "\u001b[0;31mNameError\u001b[0m: name 'cuadrado' is not defined"
          ]
        }
      ],
      "source": [
        "cuadrado(\"hola mundo\")"
      ]
    },
    {
      "cell_type": "markdown",
      "metadata": {
        "id": "6cdBe5sb0vxv"
      },
      "source": [
        "### ups! No funciona..."
      ]
    },
    {
      "cell_type": "markdown",
      "metadata": {
        "id": "cPzMFx5F0vxv"
      },
      "source": [
        "## 3.10 Parámetros y más parámetros\n",
        "\n",
        "La definción de funciones es muy flexible. No exige ni siquiera pasar parámetros o devolver resultados\n"
      ]
    },
    {
      "cell_type": "code",
      "execution_count": 6,
      "metadata": {
        "id": "4_ytYSQg0vxw",
        "outputId": "4a710343-f1fe-44b4-93b3-c5c69784aa56",
        "colab": {
          "base_uri": "https://localhost:8080/"
        }
      },
      "outputs": [
        {
          "output_type": "stream",
          "name": "stdout",
          "text": [
            "¡Hola curso de Inteligencia Artificial!\n"
          ]
        }
      ],
      "source": [
        "# definimos una funcion que no recibe ni devuelve parámetros pero hace algo.\n",
        "def hola():\n",
        "    \"\"\"\n",
        "   Una función que saluda de una manera muy amable\n",
        "    \"\"\"\n",
        "    print(\"¡Hola curso de Inteligencia Artificial!\")\n",
        "\n",
        "hola()   # llamamos a esa función"
      ]
    },
    {
      "cell_type": "markdown",
      "metadata": {
        "id": "eUfrgm5R0vxw"
      },
      "source": [
        "Si la función no tiene un return, lo que devuelve es None."
      ]
    },
    {
      "cell_type": "code",
      "execution_count": 7,
      "metadata": {
        "id": "x1bXRkoD0vxw",
        "outputId": "58197f9c-433c-4eb7-c029-2a0682585c7b",
        "colab": {
          "base_uri": "https://localhost:8080/"
        }
      },
      "outputs": [
        {
          "output_type": "stream",
          "name": "stdout",
          "text": [
            "¡Hola curso de Inteligencia Artificial!\n"
          ]
        }
      ],
      "source": [
        "saludo = hola()"
      ]
    },
    {
      "cell_type": "code",
      "execution_count": 8,
      "metadata": {
        "id": "ueLjB5OL0vxx",
        "colab": {
          "base_uri": "https://localhost:8080/"
        },
        "outputId": "48c15bf6-11ce-4bfb-8d59-592de839f22c"
      },
      "outputs": [
        {
          "output_type": "stream",
          "name": "stdout",
          "text": [
            "¡Hola curso de Inteligencia Artificial!\n",
            "None\n"
          ]
        }
      ],
      "source": [
        "print(hola())"
      ]
    },
    {
      "cell_type": "markdown",
      "metadata": {
        "id": "fV4XSRuf0vxx"
      },
      "source": [
        "### 3.11 Múltiples puntos de salida\n",
        "\n",
        "También puede haber múltiples `return` en una función. El primero en ejecutarse determinará el valor que la función devuelve"
      ]
    },
    {
      "cell_type": "code",
      "execution_count": 3,
      "metadata": {
        "id": "mgEmN4Dd0vxx",
        "outputId": "8954ef0c-1d59-4fdf-a7bf-322534e20640",
        "colab": {
          "base_uri": "https://localhost:8080/",
          "height": 36
        }
      },
      "outputs": [
        {
          "output_type": "execute_result",
          "data": {
            "text/plain": [
              "'Buen día, Señores!'"
            ],
            "application/vnd.google.colaboratory.intrinsic+json": {
              "type": "string"
            }
          },
          "metadata": {},
          "execution_count": 3
        }
      ],
      "source": [
        "def saludo(matutino):\n",
        "    if matutino:\n",
        "        VAL = \"Buen día, Señores!\"\n",
        "        return VAL\n",
        "    else:\n",
        "        return \"Buenas tardes, Señores\"\n",
        "\n",
        "    # Esto tambien podria ser una linea con la estructura ternaria\n",
        "    # return \"Buen día, Señores!\" if coloquial else  \"Buenas tardes, Señores\"\n",
        "\n",
        "\n",
        "saludo(1)"
      ]
    },
    {
      "cell_type": "code",
      "execution_count": 4,
      "metadata": {
        "id": "WcNu-Tet0vxy",
        "colab": {
          "base_uri": "https://localhost:8080/",
          "height": 36
        },
        "outputId": "91abe55a-9be4-43ee-8e74-f835fd911514"
      },
      "outputs": [
        {
          "output_type": "execute_result",
          "data": {
            "text/plain": [
              "'Buenas tardes, Señores'"
            ],
            "application/vnd.google.colaboratory.intrinsic+json": {
              "type": "string"
            }
          },
          "metadata": {},
          "execution_count": 4
        }
      ],
      "source": [
        "saludo(0)"
      ]
    },
    {
      "cell_type": "code",
      "execution_count": 5,
      "metadata": {
        "id": "xGteByFr0vxy",
        "colab": {
          "base_uri": "https://localhost:8080/",
          "height": 36
        },
        "outputId": "053d158c-6bfe-498f-ea42-4926abd93f4b"
      },
      "outputs": [
        {
          "output_type": "execute_result",
          "data": {
            "text/plain": [
              "'Buen día, Señores!'"
            ],
            "application/vnd.google.colaboratory.intrinsic+json": {
              "type": "string"
            }
          },
          "metadata": {},
          "execution_count": 5
        }
      ],
      "source": [
        "saludo(True)"
      ]
    },
    {
      "cell_type": "markdown",
      "metadata": {
        "id": "XfpeJeqB0vxz"
      },
      "source": [
        "## 3.12. Parámetros arbitrarios: `*args` y `**kwargs`\n",
        "\n",
        "¿Como se ṕuede hacer si la cantidad de argumentos de una funcion, es diferente para distintos casos?\n",
        "Es decir, ¿Cómo hago si quiero definir una función que acepte una cantidad arbitraria de parámetros?\n",
        "Para ello tenemos los parámetros internos `*args` y `**kwargs`.\n",
        "Veamos un caso de su uso."
      ]
    },
    {
      "cell_type": "code",
      "execution_count": 10,
      "metadata": {
        "id": "DhfjlaoX0vx0"
      },
      "outputs": [],
      "source": [
        "def prod(*args):\n",
        "    \"\"\"\n",
        "   Esta función calculael producto de todos los argumentos dados\n",
        "    \"\"\"\n",
        "    #print(args)           # args es una tupla de los argumentos posicionales dados.\n",
        "    producto = 1\n",
        "    for num in args:\n",
        "         producto *= num     # igual a producto = producto * num\n",
        "#        producto = producto * num     # igual a producto = producto * num\n",
        "    return producto"
      ]
    },
    {
      "cell_type": "code",
      "execution_count": 11,
      "metadata": {
        "id": "ChQaQ3SQ0vx0",
        "colab": {
          "base_uri": "https://localhost:8080/"
        },
        "outputId": "da74ea33-eaab-4371-e65c-cf47491f01d4"
      },
      "outputs": [
        {
          "output_type": "execute_result",
          "data": {
            "text/plain": [
              "120"
            ]
          },
          "metadata": {},
          "execution_count": 11
        }
      ],
      "source": [
        "prod(1,2,3,4,5)"
      ]
    },
    {
      "cell_type": "code",
      "execution_count": 12,
      "metadata": {
        "id": "x86LD18q0vx0",
        "colab": {
          "base_uri": "https://localhost:8080/"
        },
        "outputId": "515d0b78-4edf-4d47-de19-f1d0488bf8e6"
      },
      "outputs": [
        {
          "output_type": "execute_result",
          "data": {
            "text/plain": [
              "60"
            ]
          },
          "metadata": {},
          "execution_count": 12
        }
      ],
      "source": [
        "prod(2,5,6)"
      ]
    },
    {
      "cell_type": "markdown",
      "metadata": {
        "id": "WnAqJUw30vx1"
      },
      "source": [
        "Por otro lado, tenemos como ejemplo el constructor `dict` que acepta un números de argumentos arbitrarios por clave para crear un diccionario"
      ]
    },
    {
      "cell_type": "code",
      "execution_count": 13,
      "metadata": {
        "id": "Q2VznLka0vx1",
        "colab": {
          "base_uri": "https://localhost:8080/"
        },
        "outputId": "c13a8947-92df-45b7-ce43-8c8ab772136f"
      },
      "outputs": [
        {
          "output_type": "execute_result",
          "data": {
            "text/plain": [
              "{'Carlitos': 10, 'Gaitán': 'Jugador Nº 12', 'Gonzales': 'no juega'}"
            ]
          },
          "metadata": {},
          "execution_count": 13
        }
      ],
      "source": [
        "dict(Carlitos=10, Gaitán='Jugador Nº 12', Gonzales= 'no juega')"
      ]
    },
    {
      "cell_type": "markdown",
      "metadata": {
        "id": "F-bo5iuz0vx2"
      },
      "source": [
        "¿Cómo definir una función que permita esa flexibilidad? Eso se hace con **kwarg**"
      ]
    },
    {
      "cell_type": "code",
      "execution_count": 14,
      "metadata": {
        "id": "PsivhTpQ0vx2"
      },
      "outputs": [],
      "source": [
        "def itemizar(**kwargs):\n",
        "    \"\"\"\n",
        "    Función que genera una lista de items con todos los argumentos dados\n",
        "    \"\"\"\n",
        "    for clave, valor in kwargs.items():\n",
        "        print('*** {0} [({1})]'.format(clave, valor))"
      ]
    },
    {
      "cell_type": "code",
      "execution_count": 16,
      "metadata": {
        "id": "3spH2_Ss0vx3",
        "colab": {
          "base_uri": "https://localhost:8080/"
        },
        "outputId": "aefb95e6-2d5a-4965-bcf6-d69f10818a5c"
      },
      "outputs": [
        {
          "output_type": "stream",
          "name": "stdout",
          "text": [
            "*** tornillos [(10)]\n",
            "*** lija [(2)]\n",
            "*** cualquiera [(10)]\n",
            "*** cosa [(40)]\n"
          ]
        }
      ],
      "source": [
        "itemizar(tornillos=10, lija=2, cualquiera=10, cosa=40)"
      ]
    },
    {
      "cell_type": "markdown",
      "metadata": {
        "id": "08H0G28A0vx4"
      },
      "source": [
        "En resúmen, con `*args` se indica \"mapear todos los argumentos posicionales no explícitos a una tupla llamada args\". Y con `*kwargs` se indica \"mapear todos los argumentos de palabra clave no explícitos a un diccionario llamado kwargs\"."
      ]
    },
    {
      "cell_type": "code",
      "execution_count": null,
      "metadata": {
        "id": "PvPfmKAg0vx5"
      },
      "outputs": [],
      "source": [
        "def f(a,*args,**kwargs):\n",
        "    print('a =', a)\n",
        "    print('args =', args)\n",
        "    print('kwargs =', kwargs)"
      ]
    },
    {
      "cell_type": "code",
      "execution_count": null,
      "metadata": {
        "id": "tvGHWdPt0vx6"
      },
      "outputs": [],
      "source": [
        "f(4) # solo definido el parámetro común a"
      ]
    },
    {
      "cell_type": "code",
      "execution_count": null,
      "metadata": {
        "id": "BxxCmjlX0vx7"
      },
      "outputs": [],
      "source": [
        "f('valor', 1, 2)    # 'a' y dos argumentos posicionales arbitrarios"
      ]
    },
    {
      "cell_type": "code",
      "execution_count": null,
      "metadata": {
        "id": "Puu_iQp40vx7"
      },
      "outputs": [],
      "source": [
        "f(4, 3, 2, 5, perro = 1, gatos = 2)   # defino a, argumentos posicionales y palabras claves"
      ]
    },
    {
      "cell_type": "code",
      "execution_count": null,
      "metadata": {
        "id": "jSXj8XNJ0vx8"
      },
      "outputs": [],
      "source": [
        "f('valor', 1, 2, color='azul', detallado=True)    # 'a', dos argumentos posicionales arbitrariosf(1, 2) y claves color='azul', detallado=True)   #"
      ]
    },
    {
      "cell_type": "markdown",
      "metadata": {
        "id": "DqNTVvzB0vx8"
      },
      "source": [
        "<div class=\"alert alert-warning\">** NOTA **: No es necesario los nombres \"args\" y \"kwargs\", podemos llamarlas diferente, pero es una convención muy extendida. Estrictamente, los simbolos que indican cantidades arbitrarias de parametros son `*` y `**`. Además es posible poner parametros \"comunes\" antes de los parametros arbritarios.</div>"
      ]
    },
    {
      "cell_type": "markdown",
      "metadata": {
        "id": "83c4ZhTV0vx8"
      },
      "source": [
        "## 3.13 Generadores\n",
        "\n",
        "Los generadores son similares a las funciones, pero permiten crear **una serie de resultados** para ser iterados (o sea, genera un iterador), devolviendo un valor por cada llamada.\n",
        "La forma funcional es casi igual a la las funciones comunes, pero en vez de `return` se utiliza `yield` que funciona como **una pausa** (devolviendo opcionalmente un valor) en la ejecución."
      ]
    },
    {
      "cell_type": "markdown",
      "metadata": {
        "id": "jCP2HWan0vx8"
      },
      "source": [
        "La clave de un generador es que no es necesario computar todos los valores posibles de una serie, sino que los vamos creando uno a uno bajo demanda. Quizas antes de terminar la serie podemos dar por concluido el cómputo, y entonces habremos ahorrado tiempo de procesador y memoria."
      ]
    },
    {
      "cell_type": "markdown",
      "metadata": {
        "id": "WYPOMmBr0vx9"
      },
      "source": [
        "Definamos una función  que nos devuelva la Serie de Fibonacci"
      ]
    },
    {
      "cell_type": "code",
      "execution_count": 18,
      "metadata": {
        "id": "ZdVgD1Wg0vx9",
        "colab": {
          "base_uri": "https://localhost:8080/"
        },
        "outputId": "1be276f6-263f-402a-cfa5-be0ff48d89be"
      },
      "outputs": [
        {
          "output_type": "execute_result",
          "data": {
            "text/plain": [
              "[0, 1, 1]"
            ]
          },
          "metadata": {},
          "execution_count": 18
        }
      ],
      "source": [
        "def fibonacci(n):\n",
        "    \"\"\"Generador de n primeros numeros de Fibonacci\"\"\"\n",
        "    i = 0\n",
        "    a, b = 0, 1\n",
        "    while i < n:\n",
        "        i += 1\n",
        "        yield a            # devolvemos un valor. En el proximo llamado retornará desde este punto,\n",
        "                           # con los valores de locals() tal como estaban antes de hacer el yield\n",
        "        a, b = b, a + b\n",
        "\n",
        "list(fibonacci(3))"
      ]
    },
    {
      "cell_type": "code",
      "execution_count": 20,
      "metadata": {
        "id": "_tRJCYS10vx9",
        "colab": {
          "base_uri": "https://localhost:8080/"
        },
        "outputId": "c8b8e5a4-58e0-4eff-bda9-aab4e70b7e75"
      },
      "outputs": [
        {
          "output_type": "stream",
          "name": "stdout",
          "text": [
            "[0, 1, 1, 2, 3, 5, 8, 13, 21, 34, 55, 89, 144, 233, 377]\n"
          ]
        }
      ],
      "source": [
        "a = list(fibonacci(15))\n",
        "print(a)\n"
      ]
    },
    {
      "cell_type": "code",
      "execution_count": null,
      "metadata": {
        "id": "C6bUE1tK0vx-"
      },
      "outputs": [],
      "source": []
    }
  ],
  "metadata": {
    "kernelspec": {
      "display_name": "Python 3 (ipykernel)",
      "language": "python",
      "name": "python3"
    },
    "language_info": {
      "codemirror_mode": {
        "name": "ipython",
        "version": 3
      },
      "file_extension": ".py",
      "mimetype": "text/x-python",
      "name": "python",
      "nbconvert_exporter": "python",
      "pygments_lexer": "ipython3",
      "version": "3.8.10"
    },
    "colab": {
      "provenance": []
    }
  },
  "nbformat": 4,
  "nbformat_minor": 0
}