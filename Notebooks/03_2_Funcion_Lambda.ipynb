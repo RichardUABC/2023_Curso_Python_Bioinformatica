{
  "cells": [
    {
      "cell_type": "markdown",
      "metadata": {
        "id": "18AMrjXj018j"
      },
      "source": [
        "# Función Lambda"
      ]
    },
    {
      "cell_type": "markdown",
      "metadata": {
        "id": "jOSari42018k"
      },
      "source": [
        "Supongamos que definamos una función simple, la cual puede ser escrita en una sola sentencia"
      ]
    },
    {
      "cell_type": "code",
      "execution_count": null,
      "metadata": {
        "id": "nzCv6UJf018l"
      },
      "outputs": [],
      "source": [
        "def f(x, y):\n",
        "    return x + y"
      ]
    },
    {
      "cell_type": "code",
      "execution_count": null,
      "metadata": {
        "id": "-UnA4pls018o",
        "outputId": "7f8951e1-0f09-4c71-fbb5-3e94acbd5e0f"
      },
      "outputs": [
        {
          "data": {
            "text/plain": [
              "3"
            ]
          },
          "execution_count": 2,
          "metadata": {},
          "output_type": "execute_result"
        }
      ],
      "source": [
        "f(1, 2)"
      ]
    },
    {
      "cell_type": "markdown",
      "metadata": {
        "id": "93I2mExB018q"
      },
      "source": [
        "- Esto puede ser escrito de manera más simple con la función `lambda`.\n",
        "- La función `lambda` no incluye una declaración explícita` return`.\n",
        "- Sin embargo, siempre devuelve el resultado evaluado de la expresión."
      ]
    },
    {
      "cell_type": "code",
      "execution_count": null,
      "metadata": {
        "id": "fkh9fKkc018q",
        "outputId": "b30ee996-0755-4b7c-c176-54db303c9747"
      },
      "outputs": [
        {
          "data": {
            "text/plain": [
              "3"
            ]
          },
          "execution_count": 3,
          "metadata": {},
          "output_type": "execute_result"
        }
      ],
      "source": [
        "f = lambda x, y: x + y  # Devuelve la suma de sus dos argumentos.\n",
        "f(1, 2)"
      ]
    },
    {
      "cell_type": "code",
      "execution_count": null,
      "metadata": {
        "id": "6bs8Jrcd018s"
      },
      "outputs": [],
      "source": [
        "def a(x):\n",
        "    return x * 5\n",
        "b = lambda n: n * 5"
      ]
    },
    {
      "cell_type": "code",
      "execution_count": null,
      "metadata": {
        "id": "SuKBWeQz018t",
        "outputId": "2fe17b03-1e37-48f8-eed6-d92045e052a4"
      },
      "outputs": [
        {
          "name": "stdout",
          "output_type": "stream",
          "text": [
            "15\n",
            "15\n"
          ]
        }
      ],
      "source": [
        "print(a(3))\n",
        "print(b(3))"
      ]
    },
    {
      "cell_type": "markdown",
      "metadata": {
        "id": "Fw4VY4kK018t"
      },
      "source": [
        "- La función `lambda` no está limitada a un identificador. Se llama una función anónima."
      ]
    },
    {
      "cell_type": "markdown",
      "metadata": {
        "id": "FdjFpU46018u"
      },
      "source": [
        "- La siguiente función lambda determina si un número mayor o menor a 60."
      ]
    },
    {
      "cell_type": "code",
      "execution_count": null,
      "metadata": {
        "id": "XeFjKvJJ018u",
        "outputId": "6d187895-397e-4dd8-939a-2d746e175f46"
      },
      "outputs": [
        {
          "data": {
            "text/plain": [
              "'Verdadero'"
            ]
          },
          "execution_count": 6,
          "metadata": {},
          "output_type": "execute_result"
        }
      ],
      "source": [
        "grade = lambda x: 'Verdadero' if x >= 60 else 'Falso'\n",
        "grade(95)"
      ]
    },
    {
      "cell_type": "code",
      "execution_count": null,
      "metadata": {
        "id": "ghTP0PDU018v",
        "outputId": "d3f7c152-8f93-4e0a-d68c-c7e20828bf43"
      },
      "outputs": [
        {
          "data": {
            "text/plain": [
              "'Falso'"
            ]
          },
          "execution_count": 7,
          "metadata": {},
          "output_type": "execute_result"
        }
      ],
      "source": [
        "grade(45)"
      ]
    },
    {
      "cell_type": "code",
      "execution_count": null,
      "metadata": {
        "id": "uts_JFdt018v",
        "outputId": "608658eb-afe6-4fd7-d626-af85798addb5"
      },
      "outputs": [
        {
          "data": {
            "text/plain": [
              "5"
            ]
          },
          "execution_count": 8,
          "metadata": {},
          "output_type": "execute_result"
        }
      ],
      "source": [
        "grade = lambda x: (x + 90) if x >= 60 else (x - 10)\n",
        "grade(15)"
      ]
    },
    {
      "cell_type": "markdown",
      "metadata": {
        "id": "dX5w6Mln018w"
      },
      "source": [
        "- Lo que es equivalente a"
      ]
    },
    {
      "cell_type": "code",
      "execution_count": null,
      "metadata": {
        "scrolled": true,
        "id": "En3JiiVZ018w"
      },
      "outputs": [],
      "source": [
        "def grade(x):\n",
        "    if x>=60:\n",
        "        result = 'Verdadero'\n",
        "    else:\n",
        "        result = 'Falso'\n",
        "    return result"
      ]
    },
    {
      "cell_type": "markdown",
      "metadata": {
        "id": "b9OlEKRt018x"
      },
      "source": [
        "- La siguiente expresión lambda se pasa como argumento de otra función."
      ]
    },
    {
      "cell_type": "code",
      "execution_count": null,
      "metadata": {
        "id": "L_6QfR7A018x",
        "outputId": "3e6f0983-d298-463f-b93d-12b881773584"
      },
      "outputs": [
        {
          "data": {
            "text/plain": [
              "['d', 'bb', 'ccc', 'aaaa']"
            ]
          },
          "execution_count": 10,
          "metadata": {},
          "output_type": "execute_result"
        }
      ],
      "source": [
        "a = ['ccc', 'aaaa', 'd', 'bb']\n",
        "a.sort(key = lambda x: len(x))  # len(x): [3, 4, 1, 2]\n",
        "a"
      ]
    },
    {
      "cell_type": "code",
      "execution_count": null,
      "metadata": {
        "id": "hJAuC_qp018x"
      },
      "outputs": [],
      "source": [
        "d = [10, 7, 3, 45]"
      ]
    },
    {
      "cell_type": "code",
      "execution_count": null,
      "metadata": {
        "id": "8OVPait3018y"
      },
      "outputs": [],
      "source": [
        "d.sort(reverse=False)"
      ]
    },
    {
      "cell_type": "code",
      "execution_count": null,
      "metadata": {
        "id": "ONBSAHkC018y",
        "outputId": "ba337a7f-77a2-488e-d6a4-ced854e9bb1d"
      },
      "outputs": [
        {
          "data": {
            "text/plain": [
              "[3, 7, 10, 45]"
            ]
          },
          "execution_count": 13,
          "metadata": {},
          "output_type": "execute_result"
        }
      ],
      "source": [
        "d"
      ]
    },
    {
      "cell_type": "code",
      "execution_count": null,
      "metadata": {
        "scrolled": true,
        "id": "l13dUjZT018y",
        "outputId": "571846b8-b8f5-46d1-e58e-5a55fab086dc"
      },
      "outputs": [
        {
          "data": {
            "text/plain": [
              "[6, 5, 7, 4, 3, 2, 1]"
            ]
          },
          "execution_count": 14,
          "metadata": {},
          "output_type": "execute_result"
        }
      ],
      "source": [
        "b = [1, 2, 3, 4, 5, 6, 7]\n",
        "b.sort(key = lambda x: abs(6-x))  # abs(6-x): [5, 4, 3, 2]\n",
        "b"
      ]
    },
    {
      "cell_type": "code",
      "execution_count": null,
      "metadata": {
        "id": "yT4UpLIb018z"
      },
      "outputs": [],
      "source": []
    }
  ],
  "metadata": {
    "kernelspec": {
      "display_name": "Python 3 (ipykernel)",
      "language": "python",
      "name": "python3"
    },
    "language_info": {
      "codemirror_mode": {
        "name": "ipython",
        "version": 3
      },
      "file_extension": ".py",
      "mimetype": "text/x-python",
      "name": "python",
      "nbconvert_exporter": "python",
      "pygments_lexer": "ipython3",
      "version": "3.9.7"
    },
    "colab": {
      "provenance": []
    }
  },
  "nbformat": 4,
  "nbformat_minor": 0
}