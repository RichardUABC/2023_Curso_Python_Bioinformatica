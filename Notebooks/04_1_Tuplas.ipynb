{
  "cells": [
    {
      "cell_type": "markdown",
      "metadata": {
        "id": "76YZpn3g07-T"
      },
      "source": [
        "# Tuples"
      ]
    },
    {
      "cell_type": "markdown",
      "metadata": {
        "id": "lcvTYgmc07-U"
      },
      "source": [
        "### Lo Básico"
      ]
    },
    {
      "cell_type": "markdown",
      "metadata": {
        "id": "FsNIkPwC07-V"
      },
      "source": [
        "- Las tuplas son muy similares a las listas. Las listas están encerradas en \"[ ]\" y tuplas entre paréntesis \"( )\"."
      ]
    },
    {
      "cell_type": "code",
      "execution_count": null,
      "metadata": {
        "id": "dljsOgjB07-W",
        "outputId": "cad458c5-a337-459d-b7df-6b102792fd6c"
      },
      "outputs": [
        {
          "data": {
            "text/plain": [
              "(2.7, 'Hola Mundo', -3)"
            ]
          },
          "execution_count": 1,
          "metadata": {},
          "output_type": "execute_result"
        }
      ],
      "source": [
        "x = (2.7, 'Hola Mundo', -3)\n",
        "x"
      ]
    },
    {
      "cell_type": "code",
      "execution_count": null,
      "metadata": {
        "id": "ut-cEguK07-Y",
        "outputId": "5c73691a-366d-45d2-c5ee-ad97ab6e56be"
      },
      "outputs": [
        {
          "data": {
            "text/plain": [
              "3"
            ]
          },
          "execution_count": 2,
          "metadata": {},
          "output_type": "execute_result"
        }
      ],
      "source": [
        "len(x)  # Longitud de la tupla"
      ]
    },
    {
      "cell_type": "code",
      "execution_count": null,
      "metadata": {
        "id": "IArd_I0T07-Z",
        "outputId": "d8e880a7-4c46-4dbf-abee-770de0509176"
      },
      "outputs": [
        {
          "data": {
            "text/plain": [
              "tuple"
            ]
          },
          "execution_count": 3,
          "metadata": {},
          "output_type": "execute_result"
        }
      ],
      "source": [
        "type(x)"
      ]
    },
    {
      "cell_type": "code",
      "execution_count": null,
      "metadata": {
        "id": "p4femZTt07-Z",
        "outputId": "2730933a-84b5-42b8-9ac1-352bd54e0cfb"
      },
      "outputs": [
        {
          "data": {
            "text/plain": [
              "(3.4, 'Hola', 4, (-7, 'Mundo'))"
            ]
          },
          "execution_count": 6,
          "metadata": {},
          "output_type": "execute_result"
        }
      ],
      "source": [
        "y = (3.4, \"Hola\", 4, (-7, 'Mundo'))  # Tupla anidada\n",
        "y"
      ]
    },
    {
      "cell_type": "code",
      "execution_count": null,
      "metadata": {
        "id": "mTVjQSyT07-Z",
        "outputId": "c51f63e4-1c39-4d83-e6c2-b637f93d416b"
      },
      "outputs": [
        {
          "data": {
            "text/plain": [
              "4"
            ]
          },
          "execution_count": 7,
          "metadata": {},
          "output_type": "execute_result"
        }
      ],
      "source": [
        "len(y)"
      ]
    },
    {
      "cell_type": "code",
      "execution_count": null,
      "metadata": {
        "id": "d0Bypsja07-a",
        "outputId": "c5653b20-ddbd-4f2b-eba9-3673a8ed9ef7"
      },
      "outputs": [
        {
          "data": {
            "text/plain": [
              "(-1, 2, 2, 3.4)"
            ]
          },
          "execution_count": 8,
          "metadata": {},
          "output_type": "execute_result"
        }
      ],
      "source": [
        "(-1, 2) + (2, 3.4)  # Concatenacion"
      ]
    },
    {
      "cell_type": "code",
      "execution_count": null,
      "metadata": {
        "id": "GkRFwOhh07-b",
        "outputId": "4aa172e6-c9da-4b88-ad36-54b4ebca8def"
      },
      "outputs": [
        {
          "data": {
            "text/plain": [
              "(-1, 2, -1, 2, -1, 2)"
            ]
          },
          "execution_count": 9,
          "metadata": {},
          "output_type": "execute_result"
        }
      ],
      "source": [
        "(-1, 2) * 3  # Repeticion"
      ]
    },
    {
      "cell_type": "markdown",
      "metadata": {
        "id": "9WTT1puu07-b"
      },
      "source": [
        "- La indexación y el corte de tuplas son similares a las cadenas y listas."
      ]
    },
    {
      "cell_type": "code",
      "execution_count": null,
      "metadata": {
        "id": "zoB1RM4C07-b",
        "outputId": "b8111e0e-dc7a-4542-8f89-b419a74750b4"
      },
      "outputs": [
        {
          "data": {
            "text/plain": [
              "(3.4, 'Hola', 4, (-7, 'Mundo'))"
            ]
          },
          "execution_count": 10,
          "metadata": {},
          "output_type": "execute_result"
        }
      ],
      "source": [
        "y"
      ]
    },
    {
      "cell_type": "code",
      "execution_count": null,
      "metadata": {
        "id": "KPcTW9gE07-c",
        "outputId": "ce32845b-5f8b-46a6-d729-702be62b5798"
      },
      "outputs": [
        {
          "data": {
            "text/plain": [
              "'Hola'"
            ]
          },
          "execution_count": 11,
          "metadata": {},
          "output_type": "execute_result"
        }
      ],
      "source": [
        "y[1]  # Indexado"
      ]
    },
    {
      "cell_type": "code",
      "execution_count": null,
      "metadata": {
        "id": "23d4ytWW07-c",
        "outputId": "0cfee4d7-acc5-46dd-b923-f4caf49d33db"
      },
      "outputs": [
        {
          "data": {
            "text/plain": [
              "(-7, 'Mundo')"
            ]
          },
          "execution_count": 12,
          "metadata": {},
          "output_type": "execute_result"
        }
      ],
      "source": [
        "y[3]"
      ]
    },
    {
      "cell_type": "code",
      "execution_count": null,
      "metadata": {
        "scrolled": true,
        "id": "G4bLhjG607-d",
        "outputId": "f03f4e65-d60f-4522-d62e-d3fcb513b128"
      },
      "outputs": [
        {
          "data": {
            "text/plain": [
              "-7"
            ]
          },
          "execution_count": 15,
          "metadata": {},
          "output_type": "execute_result"
        }
      ],
      "source": [
        "y[3][0]  # Indexación anidada"
      ]
    },
    {
      "cell_type": "code",
      "execution_count": null,
      "metadata": {
        "id": "hrRjYyQM07-e",
        "outputId": "cdb395c0-f562-4c89-e810-def106b28052"
      },
      "outputs": [
        {
          "data": {
            "text/plain": [
              "('Hola', 4)"
            ]
          },
          "execution_count": 17,
          "metadata": {},
          "output_type": "execute_result"
        }
      ],
      "source": [
        "y[1:3]  # Slicing - Cortando en rebanadas"
      ]
    },
    {
      "cell_type": "code",
      "execution_count": null,
      "metadata": {
        "id": "7q8kctr007-e",
        "outputId": "9d329b72-a402-45c1-f348-b6536645d754"
      },
      "outputs": [
        {
          "data": {
            "text/plain": [
              "(-7, 'Mundo')"
            ]
          },
          "execution_count": 28,
          "metadata": {},
          "output_type": "execute_result"
        }
      ],
      "source": [
        "y[-1]"
      ]
    },
    {
      "cell_type": "code",
      "execution_count": null,
      "metadata": {
        "id": "JManAzxR07-e",
        "outputId": "81b10e92-d725-4f0a-c14d-47d7dc8ff035"
      },
      "outputs": [
        {
          "data": {
            "text/plain": [
              "('Mon', 'Tue', 'Wed', 'Thu', 'Fri', 'Sat', 'Sun')"
            ]
          },
          "execution_count": 29,
          "metadata": {},
          "output_type": "execute_result"
        }
      ],
      "source": [
        "days = (\"Mon\", \"Tue\", \"Wed\", \"Thu\", \"Fri\", \"Sat\", \"Sun\")\n",
        "days"
      ]
    },
    {
      "cell_type": "code",
      "execution_count": null,
      "metadata": {
        "scrolled": true,
        "id": "7VQ6eWDd07-g",
        "outputId": "e1c4441a-ab6b-4962-bad6-d022667d70e0"
      },
      "outputs": [
        {
          "data": {
            "text/plain": [
              "'Thu'"
            ]
          },
          "execution_count": 32,
          "metadata": {},
          "output_type": "execute_result"
        }
      ],
      "source": [
        "days[4 - 1]  # Convierta un día int en la abreviatura de tres letras"
      ]
    },
    {
      "cell_type": "code",
      "execution_count": null,
      "metadata": {
        "id": "jidR9KyA07-g",
        "outputId": "a2b1591e-f834-42b6-a0f2-00edb5ec2f95"
      },
      "outputs": [
        {
          "name": "stdout",
          "output_type": "stream",
          "text": [
            "Mon\n",
            "Tue\n",
            "Wed\n",
            "Thu\n",
            "Fri\n",
            "Sat\n",
            "Sun\n"
          ]
        }
      ],
      "source": [
        "for d in days:\n",
        "    print(d)"
      ]
    },
    {
      "cell_type": "code",
      "execution_count": null,
      "metadata": {
        "scrolled": true,
        "id": "ikPCQCXd07-g",
        "outputId": "88dc722e-d4fe-4784-ee8a-521b6a211b68"
      },
      "outputs": [
        {
          "name": "stdout",
          "output_type": "stream",
          "text": [
            "Day 1 is Mon\n",
            "Day 2 is Tue\n",
            "Day 3 is Wed\n",
            "Day 4 is Thu\n",
            "Day 5 is Fri\n",
            "Day 6 is Sat\n",
            "Day 7 is Sun\n"
          ]
        }
      ],
      "source": [
        "for i, d in enumerate(days):  # Enumerate devuelve tanto el índice como el valor de cada elemento\n",
        "    print('Day', i+1, 'is', d)"
      ]
    },
    {
      "cell_type": "code",
      "execution_count": null,
      "metadata": {
        "id": "ippKwcHg07-h",
        "outputId": "5267455a-6d14-4f3d-d467-342b4291a155"
      },
      "outputs": [
        {
          "data": {
            "text/plain": [
              "('Mon', 'Tue', 'Wed', 'Thu', 'Fri', 'Sat', 'Sun')"
            ]
          },
          "execution_count": 35,
          "metadata": {},
          "output_type": "execute_result"
        }
      ],
      "source": [
        "days"
      ]
    },
    {
      "cell_type": "code",
      "execution_count": null,
      "metadata": {
        "id": "2oyMMwQR07-h",
        "outputId": "370ae10c-efbd-4c7d-fbbe-188c0a34af54"
      },
      "outputs": [
        {
          "data": {
            "text/plain": [
              "True"
            ]
          },
          "execution_count": 36,
          "metadata": {},
          "output_type": "execute_result"
        }
      ],
      "source": [
        "'Mon' in days  # Si un elemento dado está contenido en una tupla"
      ]
    },
    {
      "cell_type": "code",
      "execution_count": null,
      "metadata": {
        "id": "-lLSg0t_07-i",
        "outputId": "35092f81-fb49-4620-f53a-dc0aa211033b"
      },
      "outputs": [
        {
          "data": {
            "text/plain": [
              "False"
            ]
          },
          "execution_count": 38,
          "metadata": {},
          "output_type": "execute_result"
        }
      ],
      "source": [
        "'mon' in days"
      ]
    },
    {
      "cell_type": "code",
      "execution_count": null,
      "metadata": {
        "id": "j1jbCbo707-i",
        "outputId": "f12e8c7a-52c6-4782-da0f-5091ddde0e4f"
      },
      "outputs": [
        {
          "data": {
            "text/plain": [
              "False"
            ]
          },
          "execution_count": 39,
          "metadata": {},
          "output_type": "execute_result"
        }
      ],
      "source": [
        "5 in (2, 4, 6, 8)"
      ]
    },
    {
      "cell_type": "code",
      "execution_count": null,
      "metadata": {
        "id": "DdnwqLqs07-i",
        "outputId": "d13db861-6501-491c-9abd-b8d62d231536"
      },
      "outputs": [
        {
          "data": {
            "text/plain": [
              "tuple"
            ]
          },
          "execution_count": 41,
          "metadata": {},
          "output_type": "execute_result"
        }
      ],
      "source": [
        "type(days)"
      ]
    },
    {
      "cell_type": "code",
      "execution_count": null,
      "metadata": {
        "id": "3no6exCd07-j",
        "outputId": "204710dd-8f75-4ca4-e9a6-b12592651c7a"
      },
      "outputs": [
        {
          "data": {
            "text/plain": [
              "('cheese', ('red', 'rojo'), [3, 5])"
            ]
          },
          "execution_count": 46,
          "metadata": {},
          "output_type": "execute_result"
        }
      ],
      "source": [
        "z = (\"cheese\", (\"red\", \"rojo\"), [3, 5])  # Los símbolos más externos son paréntesis\n",
        "z"
      ]
    },
    {
      "cell_type": "code",
      "execution_count": null,
      "metadata": {
        "id": "2HRhasyv07-j",
        "outputId": "eebf91e7-db5d-46a4-e308-15d1652b3e6a"
      },
      "outputs": [
        {
          "data": {
            "text/plain": [
              "tuple"
            ]
          },
          "execution_count": 47,
          "metadata": {},
          "output_type": "execute_result"
        }
      ],
      "source": [
        "type(z)"
      ]
    },
    {
      "cell_type": "code",
      "execution_count": null,
      "metadata": {
        "id": "VNnq5GPv07-j",
        "outputId": "72cdc9a4-d00f-4303-b71a-5bfda32ac1ab"
      },
      "outputs": [
        {
          "data": {
            "text/plain": [
              "('cheese', ('red', 'rojo'), [3, 5], 3.45, '2')"
            ]
          },
          "execution_count": 58,
          "metadata": {},
          "output_type": "execute_result"
        }
      ],
      "source": [
        "z = (\"cheese\", (\"red\", \"rojo\"), [3, 5], 3.45, '2')  # Los símbolos más externos son llaves\n",
        "z"
      ]
    },
    {
      "cell_type": "code",
      "execution_count": null,
      "metadata": {
        "id": "RE_9WDb207-k",
        "outputId": "91aadf11-2231-4c90-bf68-8f608941bc6f"
      },
      "outputs": [
        {
          "data": {
            "text/plain": [
              "tuple"
            ]
          },
          "execution_count": 59,
          "metadata": {},
          "output_type": "execute_result"
        }
      ],
      "source": [
        "type(z)"
      ]
    },
    {
      "cell_type": "code",
      "execution_count": null,
      "metadata": {
        "id": "mWbbpcvQ07-k",
        "outputId": "988e9e0e-803a-4bfb-b9ae-9a89510d50e6"
      },
      "outputs": [
        {
          "data": {
            "text/plain": [
              "str"
            ]
          },
          "execution_count": 60,
          "metadata": {},
          "output_type": "execute_result"
        }
      ],
      "source": [
        "type(z[4])"
      ]
    },
    {
      "cell_type": "markdown",
      "metadata": {
        "id": "cGNU53u307-k"
      },
      "source": [
        "- Es posible quitar los paréntesis al crear una tupla, y solo usar una secuencia de valores separados por comas:"
      ]
    },
    {
      "cell_type": "code",
      "execution_count": null,
      "metadata": {
        "id": "1B0ghexA07-l",
        "outputId": "4b4ab6c1-1221-4921-a172-84e49e646322"
      },
      "outputs": [
        {
          "data": {
            "text/plain": [
              "(1, 3, 5)"
            ]
          },
          "execution_count": 68,
          "metadata": {},
          "output_type": "execute_result"
        }
      ],
      "source": [
        "x = 1, 3, 5\n",
        "x"
      ]
    },
    {
      "cell_type": "code",
      "execution_count": null,
      "metadata": {
        "id": "VBvlL9dG07-l",
        "outputId": "ce4dbba1-f770-4477-c130-05429501785a"
      },
      "outputs": [
        {
          "data": {
            "text/plain": [
              "tuple"
            ]
          },
          "execution_count": 70,
          "metadata": {},
          "output_type": "execute_result"
        }
      ],
      "source": [
        "type(x)"
      ]
    },
    {
      "cell_type": "markdown",
      "metadata": {
        "id": "TXpp9Is507-l"
      },
      "source": [
        "- Incluya una coma al crear una tupla con solo un elemento:"
      ]
    },
    {
      "cell_type": "code",
      "execution_count": null,
      "metadata": {
        "id": "xWSvh-JA07-m",
        "outputId": "00b6cae7-19ed-4f6e-c6ad-a087a88cca11"
      },
      "outputs": [
        {
          "data": {
            "text/plain": [
              "(2,)"
            ]
          },
          "execution_count": 71,
          "metadata": {},
          "output_type": "execute_result"
        }
      ],
      "source": [
        "x = 2,\n",
        "x"
      ]
    },
    {
      "cell_type": "code",
      "execution_count": null,
      "metadata": {
        "id": "hrwFeAjB07-m",
        "outputId": "9aad6464-337c-41e8-ab81-141c52f5e8dd"
      },
      "outputs": [
        {
          "data": {
            "text/plain": [
              "(2,)"
            ]
          },
          "execution_count": 72,
          "metadata": {},
          "output_type": "execute_result"
        }
      ],
      "source": [
        "x = (2,)\n",
        "x"
      ]
    },
    {
      "cell_type": "code",
      "execution_count": null,
      "metadata": {
        "id": "AkCt9WI307-m",
        "outputId": "8e60b22b-422c-417f-fa1b-a24c95435be9"
      },
      "outputs": [
        {
          "data": {
            "text/plain": [
              "1"
            ]
          },
          "execution_count": 76,
          "metadata": {},
          "output_type": "execute_result"
        }
      ],
      "source": [
        "len(x)"
      ]
    },
    {
      "cell_type": "code",
      "execution_count": null,
      "metadata": {
        "id": "bcxxWsD307-m",
        "outputId": "4c9dd5af-326f-43f1-d42c-d90ea0c70674"
      },
      "outputs": [
        {
          "data": {
            "text/plain": [
              "int"
            ]
          },
          "execution_count": 78,
          "metadata": {},
          "output_type": "execute_result"
        }
      ],
      "source": [
        "x = 2  # No es una tupla\n",
        "type(x)"
      ]
    },
    {
      "cell_type": "code",
      "execution_count": null,
      "metadata": {
        "id": "BkgXiE9f07-m",
        "outputId": "e535009b-b230-4a95-a906-82ab0439a93a"
      },
      "outputs": [
        {
          "data": {
            "text/plain": [
              "2"
            ]
          },
          "execution_count": 79,
          "metadata": {},
          "output_type": "execute_result"
        }
      ],
      "source": [
        "x = (2)\n",
        "x"
      ]
    },
    {
      "cell_type": "code",
      "execution_count": null,
      "metadata": {
        "id": "JEC5_-BE07-o",
        "outputId": "ceb0e43b-ae26-4219-843f-f7191c1552ec"
      },
      "outputs": [
        {
          "data": {
            "text/plain": [
              "int"
            ]
          },
          "execution_count": 80,
          "metadata": {},
          "output_type": "execute_result"
        }
      ],
      "source": [
        "type(x)"
      ]
    },
    {
      "cell_type": "code",
      "execution_count": null,
      "metadata": {
        "id": "dXYhuCfq07-o",
        "outputId": "dc4b325e-de28-4a27-afdb-08b7f6a43703"
      },
      "outputs": [
        {
          "data": {
            "text/plain": [
              "()"
            ]
          },
          "execution_count": 33,
          "metadata": {},
          "output_type": "execute_result"
        }
      ],
      "source": [
        "x = ()  # Tupla vacía\n",
        "x"
      ]
    },
    {
      "cell_type": "code",
      "execution_count": null,
      "metadata": {
        "id": "NLC9-Lty07-p",
        "outputId": "e61c66c2-07fd-49c9-9c27-62ecd92d5712"
      },
      "outputs": [
        {
          "data": {
            "text/plain": [
              "tuple"
            ]
          },
          "execution_count": 34,
          "metadata": {},
          "output_type": "execute_result"
        }
      ],
      "source": [
        "type(x)"
      ]
    },
    {
      "cell_type": "code",
      "execution_count": null,
      "metadata": {
        "scrolled": true,
        "id": "lh__cgpq07-p",
        "outputId": "5b727c5d-6ff0-45b1-9e40-5f8799017072"
      },
      "outputs": [
        {
          "ename": "SyntaxError",
          "evalue": "invalid syntax (1942147733.py, line 1)",
          "output_type": "error",
          "traceback": [
            "\u001b[0;36m  Cell \u001b[0;32mIn[1], line 1\u001b[0;36m\u001b[0m\n\u001b[0;31m    x = ( ,)  # Esto está mal\u001b[0m\n\u001b[0m          ^\u001b[0m\n\u001b[0;31mSyntaxError\u001b[0m\u001b[0;31m:\u001b[0m invalid syntax\n"
          ]
        }
      ],
      "source": [
        "x = ( ,)  # Esto está mal"
      ]
    },
    {
      "cell_type": "markdown",
      "metadata": {
        "id": "yjvhETSi07-q"
      },
      "source": [
        "###  Las tuplas son inmutables"
      ]
    },
    {
      "cell_type": "code",
      "execution_count": null,
      "metadata": {
        "id": "K_mG5jk807-q",
        "outputId": "3a2330a0-8a87-47ab-9853-0bc00dcffe4f"
      },
      "outputs": [
        {
          "data": {
            "text/plain": [
              "(2, 3)"
            ]
          },
          "execution_count": 83,
          "metadata": {},
          "output_type": "execute_result"
        }
      ],
      "source": [
        "y = (2, 3)\n",
        "y"
      ]
    },
    {
      "cell_type": "code",
      "execution_count": null,
      "metadata": {
        "scrolled": true,
        "id": "HPkO82F107-q",
        "outputId": "be562bc3-2c94-4bf0-ac26-9e9f78c3c617"
      },
      "outputs": [
        {
          "ename": "TypeError",
          "evalue": "'tuple' object does not support item assignment",
          "output_type": "error",
          "traceback": [
            "\u001b[0;31m---------------------------------------------------------------------------\u001b[0m",
            "\u001b[0;31mTypeError\u001b[0m                                 Traceback (most recent call last)",
            "Input \u001b[0;32mIn [84]\u001b[0m, in \u001b[0;36m<cell line: 1>\u001b[0;34m()\u001b[0m\n\u001b[0;32m----> 1\u001b[0m y[\u001b[38;5;241m0\u001b[39m] \u001b[38;5;241m=\u001b[39m \u001b[38;5;241m1\u001b[39m\n",
            "\u001b[0;31mTypeError\u001b[0m: 'tuple' object does not support item assignment"
          ]
        }
      ],
      "source": [
        "y[0] = 1  # Esto tampoco se puede hacer"
      ]
    },
    {
      "cell_type": "markdown",
      "metadata": {
        "id": "x4H4ubQD07-r"
      },
      "source": [
        "- Python usa tuplas para asignación simultánea y desempaquetar múltiples retornos de funciones."
      ]
    },
    {
      "cell_type": "code",
      "execution_count": null,
      "metadata": {
        "id": "LANHQQA907-r",
        "outputId": "31bd8761-bde1-437f-b494-67335f00cb71"
      },
      "outputs": [
        {
          "data": {
            "text/plain": [
              "(1, 2)"
            ]
          },
          "execution_count": 85,
          "metadata": {},
          "output_type": "execute_result"
        }
      ],
      "source": [
        "x, y = 1, 2\n",
        "x, y"
      ]
    },
    {
      "cell_type": "code",
      "execution_count": null,
      "metadata": {
        "id": "mFbzpcq007-r"
      },
      "outputs": [],
      "source": [
        "a = (1, 2)\n",
        "x, y = a"
      ]
    },
    {
      "cell_type": "code",
      "execution_count": null,
      "metadata": {
        "id": "xB2gpE2207-s",
        "outputId": "d1e979bc-03b0-42bc-f7ed-5759b7b6849a"
      },
      "outputs": [
        {
          "name": "stdout",
          "output_type": "stream",
          "text": [
            "2 1\n"
          ]
        }
      ],
      "source": [
        "print(x, y)"
      ]
    },
    {
      "cell_type": "code",
      "execution_count": null,
      "metadata": {
        "id": "VsOn-Nld07-s"
      },
      "outputs": [],
      "source": []
    }
  ],
  "metadata": {
    "kernelspec": {
      "display_name": "Python 3 (ipykernel)",
      "language": "python",
      "name": "python3"
    },
    "language_info": {
      "codemirror_mode": {
        "name": "ipython",
        "version": 3
      },
      "file_extension": ".py",
      "mimetype": "text/x-python",
      "name": "python",
      "nbconvert_exporter": "python",
      "pygments_lexer": "ipython3",
      "version": "3.9.7"
    },
    "colab": {
      "provenance": []
    }
  },
  "nbformat": 4,
  "nbformat_minor": 0
}