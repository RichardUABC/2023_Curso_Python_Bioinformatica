{
  "cells": [
    {
      "cell_type": "markdown",
      "metadata": {
        "id": "gGdRTqNa1RpF"
      },
      "source": [
        "# Conjuntos"
      ]
    },
    {
      "cell_type": "markdown",
      "metadata": {
        "id": "o9qxD7dj1RpH"
      },
      "source": [
        "### Lo Básico"
      ]
    },
    {
      "cell_type": "markdown",
      "metadata": {
        "id": "UDBKcvFc1RpI"
      },
      "source": [
        "- Los conjuntos contienen colecciones desordenadas de elementos únicos.\n",
        "- Los conjuntos se indican con llaves."
      ]
    },
    {
      "cell_type": "code",
      "execution_count": null,
      "metadata": {
        "scrolled": true,
        "id": "gYvTr_8W1RpJ",
        "outputId": "4308cd09-bbec-488e-a47c-36bb4aaaa913"
      },
      "outputs": [
        {
          "data": {
            "text/plain": [
              "set"
            ]
          },
          "execution_count": 1,
          "metadata": {},
          "output_type": "execute_result"
        }
      ],
      "source": [
        "s = {'apples', 'bananas', 3.14, -5}\n",
        "type(s)"
      ]
    },
    {
      "cell_type": "code",
      "execution_count": null,
      "metadata": {
        "id": "8MTsyBVV1RpL",
        "outputId": "410033b1-9f05-4f77-9f67-3006efce6b76"
      },
      "outputs": [
        {
          "data": {
            "text/plain": [
              "False"
            ]
          },
          "execution_count": 2,
          "metadata": {},
          "output_type": "execute_result"
        }
      ],
      "source": [
        "3 in s"
      ]
    },
    {
      "cell_type": "code",
      "execution_count": null,
      "metadata": {
        "id": "0sPekecY1RpM",
        "outputId": "1147b043-c25b-40b8-fcc7-998cdd072350"
      },
      "outputs": [
        {
          "data": {
            "text/plain": [
              "True"
            ]
          },
          "execution_count": 3,
          "metadata": {},
          "output_type": "execute_result"
        }
      ],
      "source": [
        "'apples' in s"
      ]
    },
    {
      "cell_type": "code",
      "execution_count": null,
      "metadata": {
        "id": "QOEEIoVB1RpN",
        "outputId": "68bc7989-def8-4c3d-faf9-70ec44ccc2da"
      },
      "outputs": [
        {
          "data": {
            "text/plain": [
              "{1, 2, 3, 4}"
            ]
          },
          "execution_count": 4,
          "metadata": {},
          "output_type": "execute_result"
        }
      ],
      "source": [
        "# Como transformar una Lista en Conjunto\n",
        "s = set([1, 2, 1, 3, 4, 4])\n",
        "s"
      ]
    },
    {
      "cell_type": "code",
      "execution_count": null,
      "metadata": {
        "id": "2khUpm1X1RpO",
        "outputId": "945bc2dc-eb06-4513-d39e-033c891cab73"
      },
      "outputs": [
        {
          "data": {
            "text/plain": [
              "4"
            ]
          },
          "execution_count": 6,
          "metadata": {},
          "output_type": "execute_result"
        }
      ],
      "source": [
        "# Tamaño de una Conjunto\n",
        "len(s)"
      ]
    },
    {
      "cell_type": "markdown",
      "metadata": {
        "id": "UEEt4Ocs1RpQ"
      },
      "source": [
        "- Los conjuntos no admiten indexación, segmentación u otro comportamiento similar a la secuencia."
      ]
    },
    {
      "cell_type": "code",
      "execution_count": null,
      "metadata": {
        "id": "Gfwgz3cu1RpQ",
        "outputId": "8c697735-4fdc-4965-b039-ee498e8aa28b"
      },
      "outputs": [
        {
          "data": {
            "text/plain": [
              "{1, 2, 3, 4}"
            ]
          },
          "execution_count": 5,
          "metadata": {},
          "output_type": "execute_result"
        }
      ],
      "source": [
        "s"
      ]
    },
    {
      "cell_type": "code",
      "execution_count": null,
      "metadata": {
        "scrolled": true,
        "id": "of0eKfUm1RpR",
        "outputId": "23544c9e-db52-46d8-ea55-c3e366b646b3"
      },
      "outputs": [
        {
          "ename": "TypeError",
          "evalue": "'set' object is not subscriptable",
          "output_type": "error",
          "traceback": [
            "\u001b[0;31m---------------------------------------------------------------------------\u001b[0m",
            "\u001b[0;31mTypeError\u001b[0m                                 Traceback (most recent call last)",
            "Input \u001b[0;32mIn [6]\u001b[0m, in \u001b[0;36m<cell line: 1>\u001b[0;34m()\u001b[0m\n\u001b[0;32m----> 1\u001b[0m \u001b[43ms\u001b[49m\u001b[43m[\u001b[49m\u001b[38;5;241;43m2\u001b[39;49m\u001b[43m]\u001b[49m\n",
            "\u001b[0;31mTypeError\u001b[0m: 'set' object is not subscriptable"
          ]
        }
      ],
      "source": [
        "s[2]"
      ]
    },
    {
      "cell_type": "markdown",
      "metadata": {
        "id": "yhT5dSyE1RpS"
      },
      "source": [
        "### Los conjuntos son mutables"
      ]
    },
    {
      "cell_type": "code",
      "execution_count": null,
      "metadata": {
        "id": "L77RzeQT1RpS",
        "outputId": "fcaa497c-cc06-498c-ad5a-a30a54fb8361"
      },
      "outputs": [
        {
          "data": {
            "text/plain": [
              "{}"
            ]
          },
          "execution_count": 8,
          "metadata": {},
          "output_type": "execute_result"
        }
      ],
      "source": [
        "s = {}  # Crea un diccionario vacío, no un conjunto\n",
        "s"
      ]
    },
    {
      "cell_type": "code",
      "execution_count": null,
      "metadata": {
        "id": "0g61p3xr1RpT",
        "outputId": "26461112-4234-401e-8785-bc787634535f"
      },
      "outputs": [
        {
          "data": {
            "text/plain": [
              "dict"
            ]
          },
          "execution_count": 9,
          "metadata": {},
          "output_type": "execute_result"
        }
      ],
      "source": [
        "# Veamos que es\n",
        "type(s)"
      ]
    },
    {
      "cell_type": "code",
      "execution_count": null,
      "metadata": {
        "id": "7gnvjZEu1RpT",
        "outputId": "86526ea6-d30d-4e86-a4c6-3c21b6aa70c4"
      },
      "outputs": [
        {
          "data": {
            "text/plain": [
              "set()"
            ]
          },
          "execution_count": 10,
          "metadata": {},
          "output_type": "execute_result"
        }
      ],
      "source": [
        "s = set()  # Un conjunto vacío\n",
        "s"
      ]
    },
    {
      "cell_type": "code",
      "execution_count": null,
      "metadata": {
        "scrolled": true,
        "id": "O3B_XxNj1RpU",
        "outputId": "f72c3288-ce35-4782-c31c-27656e789ad1"
      },
      "outputs": [
        {
          "data": {
            "text/plain": [
              "set"
            ]
          },
          "execution_count": 11,
          "metadata": {},
          "output_type": "execute_result"
        }
      ],
      "source": [
        "type(s)"
      ]
    },
    {
      "cell_type": "code",
      "execution_count": null,
      "metadata": {
        "scrolled": true,
        "id": "unb3n-hU1RpU",
        "outputId": "ca180863-0ca4-4f5f-92c6-eee6c9fed0ff"
      },
      "outputs": [
        {
          "data": {
            "text/plain": [
              "{4}"
            ]
          },
          "execution_count": 13,
          "metadata": {},
          "output_type": "execute_result"
        }
      ],
      "source": [
        "# Agreguemos un elemento al Conjunto\n",
        "s.add(4)\n",
        "s"
      ]
    },
    {
      "cell_type": "code",
      "execution_count": null,
      "metadata": {
        "id": "tJol3kx31RpV",
        "outputId": "9e577257-8bd3-4e69-8029-23ddab1968b6"
      },
      "outputs": [
        {
          "data": {
            "text/plain": [
              "{1, 2, 3}"
            ]
          },
          "execution_count": 14,
          "metadata": {},
          "output_type": "execute_result"
        }
      ],
      "source": [
        "s = set((1, 2, 3)) # Crear un conjunto de una lista o tupla\n",
        "s"
      ]
    },
    {
      "cell_type": "code",
      "execution_count": null,
      "metadata": {
        "id": "ei_a79lA1RpV",
        "outputId": "171c8189-71f4-457d-d1f9-7b22657bb9c5"
      },
      "outputs": [
        {
          "data": {
            "text/plain": [
              "{1, 2, 3, 'Hola Mundo'}"
            ]
          },
          "execution_count": 15,
          "metadata": {},
          "output_type": "execute_result"
        }
      ],
      "source": [
        "s.add('Hola Mundo')\n",
        "s"
      ]
    },
    {
      "cell_type": "markdown",
      "metadata": {
        "id": "TsRJeS0R1RpW"
      },
      "source": [
        "### Operaciones de Conjuntos"
      ]
    },
    {
      "cell_type": "code",
      "execution_count": null,
      "metadata": {
        "id": "old-dayW1RpW",
        "outputId": "2db2ef79-9d0d-412c-e78d-d08e6f66f3f0"
      },
      "outputs": [
        {
          "data": {
            "text/plain": [
              "{1, 2, 3, 4}"
            ]
          },
          "execution_count": 16,
          "metadata": {},
          "output_type": "execute_result"
        }
      ],
      "source": [
        "s1 = {1, 2, 3}\n",
        "s2 = {1, 3, 4}\n",
        "s1 | s2  # Union de conjuntos"
      ]
    },
    {
      "cell_type": "code",
      "execution_count": null,
      "metadata": {
        "id": "btp3HIpd1RpW",
        "outputId": "67ae3b6f-0912-4f65-ebf8-ac273e357153"
      },
      "outputs": [
        {
          "data": {
            "text/plain": [
              "{1, 3}"
            ]
          },
          "execution_count": 18,
          "metadata": {},
          "output_type": "execute_result"
        }
      ],
      "source": [
        "s1 = {1, 2, 3}\n",
        "s2 = {1, 3, 4}\n",
        "s1 & s2  # Interseccion de conjuntos"
      ]
    },
    {
      "cell_type": "code",
      "execution_count": null,
      "metadata": {
        "id": "YP0Q8UlD1RpX",
        "outputId": "6c621701-10db-4ab9-9eee-cdbb77fa6ba8"
      },
      "outputs": [
        {
          "data": {
            "text/plain": [
              "{2}"
            ]
          },
          "execution_count": 19,
          "metadata": {},
          "output_type": "execute_result"
        }
      ],
      "source": [
        "s1 = {1, 2, 3}\n",
        "s2 = {1, 3, 4}\n",
        "s1 - s2  # Diferencia de conjuntos"
      ]
    },
    {
      "cell_type": "code",
      "execution_count": null,
      "metadata": {
        "id": "dZqlHe3t1RpY",
        "outputId": "c818f6d6-0c7e-4993-bbd7-4aaf3927f95e"
      },
      "outputs": [
        {
          "data": {
            "text/plain": [
              "{4}"
            ]
          },
          "execution_count": 20,
          "metadata": {},
          "output_type": "execute_result"
        }
      ],
      "source": [
        "s2 - s1  # Diferencia de conjuntos"
      ]
    },
    {
      "cell_type": "code",
      "execution_count": null,
      "metadata": {
        "id": "NtUnqpRz1RpY",
        "outputId": "b0136f7c-5d57-40e9-e875-d5a573982762"
      },
      "outputs": [
        {
          "data": {
            "text/plain": [
              "{2, 4}"
            ]
          },
          "execution_count": 21,
          "metadata": {},
          "output_type": "execute_result"
        }
      ],
      "source": [
        "s1 = {1, 2, 3}\n",
        "s2 = {1, 3, 4}\n",
        "s1 ^ s2  # Diferencia simétrica"
      ]
    },
    {
      "cell_type": "code",
      "execution_count": null,
      "metadata": {
        "id": "ZI58BT7V1RpY",
        "outputId": "0826a1a4-b499-4b76-da0f-49ee7a4a958f"
      },
      "outputs": [
        {
          "data": {
            "text/plain": [
              "False"
            ]
          },
          "execution_count": 22,
          "metadata": {},
          "output_type": "execute_result"
        }
      ],
      "source": [
        "s1 = {1, 2, 3}\n",
        "s2 = {1, 3, 4}\n",
        "s1 <= s2  # Subsets: s1 ⊆ s2?"
      ]
    },
    {
      "cell_type": "code",
      "execution_count": null,
      "metadata": {
        "id": "gs3hoesk1Rpj",
        "outputId": "b826b711-2515-49ab-c665-31dd0ca05130"
      },
      "outputs": [
        {
          "data": {
            "text/plain": [
              "False"
            ]
          },
          "execution_count": 23,
          "metadata": {},
          "output_type": "execute_result"
        }
      ],
      "source": [
        "s2 <= s1  # Subsets: s2 ⊆ s1?"
      ]
    },
    {
      "cell_type": "code",
      "execution_count": null,
      "metadata": {
        "id": "XdwSjlW01Rpk",
        "outputId": "e5e113d2-4287-49be-936e-a689ee94290b"
      },
      "outputs": [
        {
          "data": {
            "text/plain": [
              "True"
            ]
          },
          "execution_count": 24,
          "metadata": {},
          "output_type": "execute_result"
        }
      ],
      "source": [
        "s1 = {1, 2, 3}\n",
        "s3 = {1, 2}\n",
        "s1 > s3   # s1 ⊃ s3?"
      ]
    },
    {
      "cell_type": "markdown",
      "metadata": {
        "id": "41XEmmHV1Rpl"
      },
      "source": [
        "### Ejemplo: empleados"
      ]
    },
    {
      "cell_type": "code",
      "execution_count": null,
      "metadata": {
        "id": "-Mu-tZr91Rpm"
      },
      "outputs": [],
      "source": [
        "fisicos = {'Jane', 'Jack', 'Julie'}\n",
        "programadores = {'Jack', 'Sam', 'Susan'}\n",
        "matematicos = {'Jane', 'Susan', 'Zack'}"
      ]
    },
    {
      "cell_type": "code",
      "execution_count": null,
      "metadata": {
        "id": "OA0Bfcgn1Rpm",
        "outputId": "4db32c07-cfde-4c14-c0f1-fadfc07a5906"
      },
      "outputs": [
        {
          "data": {
            "text/plain": [
              "{'Jack', 'Jane', 'Julie', 'Sam', 'Susan', 'Zack'}"
            ]
          },
          "execution_count": 26,
          "metadata": {},
          "output_type": "execute_result"
        }
      ],
      "source": [
        "todosempleados = fisicos | programadores | matematicos\n",
        "todosempleados"
      ]
    },
    {
      "cell_type": "code",
      "execution_count": null,
      "metadata": {
        "id": "Vu4tZd5v1Rpn",
        "outputId": "4fb7f694-f12e-4564-c10c-baaf0fe2c460"
      },
      "outputs": [
        {
          "data": {
            "text/plain": [
              "{'Jane'}"
            ]
          },
          "execution_count": 27,
          "metadata": {},
          "output_type": "execute_result"
        }
      ],
      "source": [
        "fisic_matemat = fisicos & matematicos\n",
        "fisic_matemat"
      ]
    },
    {
      "cell_type": "code",
      "execution_count": null,
      "metadata": {
        "id": "ZfUxgEVi1Rpn",
        "outputId": "d7d602e6-8467-4942-d29c-cb7cfd86ceae"
      },
      "outputs": [
        {
          "data": {
            "text/plain": [
              "{'Zack'}"
            ]
          },
          "execution_count": 28,
          "metadata": {},
          "output_type": "execute_result"
        }
      ],
      "source": [
        "fulltime_matematicos = matematicos - fisicos - programadores\n",
        "fulltime_matematicos"
      ]
    },
    {
      "cell_type": "code",
      "execution_count": null,
      "metadata": {
        "id": "EM5d0Yc_1Rpn",
        "outputId": "005d9b19-f85b-4914-8a43-10ba53170b2a"
      },
      "outputs": [
        {
          "data": {
            "text/plain": [
              "{'Jack', 'Jane', 'Julie', 'Mark'}"
            ]
          },
          "execution_count": 29,
          "metadata": {},
          "output_type": "execute_result"
        }
      ],
      "source": [
        "fisicos.add('Mark')  #Se une Mark\n",
        "fisicos"
      ]
    },
    {
      "cell_type": "code",
      "execution_count": null,
      "metadata": {
        "id": "mW9ewVQS1Rpp",
        "outputId": "13ae7954-91cc-4ee8-b77d-c27c7ed6717b"
      },
      "outputs": [
        {
          "data": {
            "text/plain": [
              "{'Jack', 'Jane', 'Julie', 'Mark', 'Sam', 'Susan', 'Zack'}"
            ]
          },
          "execution_count": 30,
          "metadata": {},
          "output_type": "execute_result"
        }
      ],
      "source": [
        "todosempleados.add('Mark')\n",
        "todosempleados"
      ]
    },
    {
      "cell_type": "code",
      "execution_count": null,
      "metadata": {
        "id": "KKI-PYBV1Rpp",
        "outputId": "7fe67cc2-9094-4464-cf20-9211279cf242"
      },
      "outputs": [
        {
          "name": "stdout",
          "output_type": "stream",
          "text": [
            "{'Mark', 'Julie', 'Jack', 'Jane'}\n",
            "{'Jack', 'Sam'}\n",
            "{'Zack', 'Jane'}\n",
            "{'Julie', 'Jack', 'Zack', 'Sam', 'Mark', 'Jane'}\n"
          ]
        }
      ],
      "source": [
        "for group in [fisicos, programadores, matematicos, todosempleados]:\n",
        "    group.discard('Susan')   #Se va Susan\n",
        "    print(group)"
      ]
    },
    {
      "cell_type": "code",
      "execution_count": null,
      "metadata": {
        "id": "J6GkaMuV1Rpq",
        "outputId": "a1256896-616b-4bd8-c19d-f704f4e2355e"
      },
      "outputs": [
        {
          "name": "stdout",
          "output_type": "stream",
          "text": [
            "{'Zack', 'Jane'}\n"
          ]
        }
      ],
      "source": [
        "print(matematicos)"
      ]
    },
    {
      "cell_type": "code",
      "execution_count": null,
      "metadata": {
        "id": "r0GRJIQc1Rpq"
      },
      "outputs": [],
      "source": []
    }
  ],
  "metadata": {
    "kernelspec": {
      "display_name": "Python 3 (ipykernel)",
      "language": "python",
      "name": "python3"
    },
    "language_info": {
      "codemirror_mode": {
        "name": "ipython",
        "version": 3
      },
      "file_extension": ".py",
      "mimetype": "text/x-python",
      "name": "python",
      "nbconvert_exporter": "python",
      "pygments_lexer": "ipython3",
      "version": "3.9.7"
    },
    "colab": {
      "provenance": [],
      "toc_visible": true
    }
  },
  "nbformat": 4,
  "nbformat_minor": 0
}