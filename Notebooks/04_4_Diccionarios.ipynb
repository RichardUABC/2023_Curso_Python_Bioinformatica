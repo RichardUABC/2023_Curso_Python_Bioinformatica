{
  "cells": [
    {
      "cell_type": "markdown",
      "metadata": {
        "id": "RZn3o-xD1jbu"
      },
      "source": [
        "# Dictionarios"
      ]
    },
    {
      "cell_type": "markdown",
      "metadata": {
        "id": "5dXlZaA91jbv"
      },
      "source": [
        "### Lo Básico"
      ]
    },
    {
      "cell_type": "markdown",
      "metadata": {
        "id": "5fg7khh71jbw"
      },
      "source": [
        "- Un diccionario representa una lista de claves: pares de valores contenidos entre llaves, {}."
      ]
    },
    {
      "cell_type": "code",
      "execution_count": null,
      "metadata": {
        "id": "vKF_jxn-1jbx",
        "outputId": "4d50bc63-a9af-4874-ebf4-56a592afa949"
      },
      "outputs": [
        {
          "data": {
            "text/plain": [
              "{'apples': 430, 'bananas': 312, 'oranges': 525}"
            ]
          },
          "execution_count": 2,
          "metadata": {},
          "output_type": "execute_result"
        }
      ],
      "source": [
        "inventario = {'apples': 430, 'bananas': 312, 'oranges': 525}\n",
        "inventario"
      ]
    },
    {
      "cell_type": "code",
      "execution_count": null,
      "metadata": {
        "id": "k-x6N_-K1jb0",
        "outputId": "d9a3092f-3b5b-4304-9b03-2c9b67ca8a0d"
      },
      "outputs": [
        {
          "data": {
            "text/plain": [
              "dict"
            ]
          },
          "execution_count": 3,
          "metadata": {},
          "output_type": "execute_result"
        }
      ],
      "source": [
        "type(inventario)"
      ]
    },
    {
      "cell_type": "code",
      "execution_count": null,
      "metadata": {
        "scrolled": true,
        "id": "ErtrUwkF1jb0",
        "outputId": "decafeb5-73c6-478e-eaee-ba28335a414b"
      },
      "outputs": [
        {
          "data": {
            "text/plain": [
              "312"
            ]
          },
          "execution_count": 4,
          "metadata": {},
          "output_type": "execute_result"
        }
      ],
      "source": [
        "inventario['bananas']  # Indexing"
      ]
    },
    {
      "cell_type": "code",
      "execution_count": null,
      "metadata": {
        "id": "-vTR8Fb71jb1",
        "outputId": "a22ab8c6-5a38-458d-b3f8-a57f2d7bbc11"
      },
      "outputs": [
        {
          "data": {
            "text/plain": [
              "3"
            ]
          },
          "execution_count": 5,
          "metadata": {},
          "output_type": "execute_result"
        }
      ],
      "source": [
        "len(inventario)"
      ]
    },
    {
      "cell_type": "code",
      "execution_count": null,
      "metadata": {
        "id": "bBCUHGJz1jb2",
        "outputId": "f107d51f-e4ee-4ff6-d95b-fb58eced41d6"
      },
      "outputs": [
        {
          "data": {
            "text/plain": [
              "True"
            ]
          },
          "execution_count": 6,
          "metadata": {},
          "output_type": "execute_result"
        }
      ],
      "source": [
        "'apples' in inventario"
      ]
    },
    {
      "cell_type": "code",
      "execution_count": null,
      "metadata": {
        "id": "zcy_o1SZ1jb3",
        "outputId": "f4821c90-02a5-446b-f6c8-efb03d25450a"
      },
      "outputs": [
        {
          "data": {
            "text/plain": [
              "True"
            ]
          },
          "execution_count": 9,
          "metadata": {},
          "output_type": "execute_result"
        }
      ],
      "source": [
        "'blueberries'not in inventario"
      ]
    },
    {
      "cell_type": "markdown",
      "metadata": {
        "id": "hBjPidE21jb4"
      },
      "source": [
        "- Las claves deben ser únicas dentro de un diccionario."
      ]
    },
    {
      "cell_type": "code",
      "execution_count": null,
      "metadata": {
        "scrolled": true,
        "id": "Vo5FtUJT1jb5",
        "outputId": "0ada09dc-0239-4fed-d51a-bc65d1951671"
      },
      "outputs": [
        {
          "data": {
            "text/plain": [
              "{'apples': 312, 'oranges': 525}"
            ]
          },
          "execution_count": 10,
          "metadata": {},
          "output_type": "execute_result"
        }
      ],
      "source": [
        "inventario = {'apples': 430, 'apples': 312, 'oranges': 525}\n",
        "inventario"
      ]
    },
    {
      "cell_type": "markdown",
      "metadata": {
        "id": "XzgnB6J41jb7"
      },
      "source": [
        "- La clave: los pares de valores no están ordenados."
      ]
    },
    {
      "cell_type": "code",
      "execution_count": null,
      "metadata": {
        "id": "WSI4Gnyg1jb8",
        "outputId": "fc618016-544a-4525-b7cf-65ff083bfbb6"
      },
      "outputs": [
        {
          "data": {
            "text/plain": [
              "{'Emma': 14, 'Tom': 10, 'Jacob': 8}"
            ]
          },
          "execution_count": 12,
          "metadata": {},
          "output_type": "execute_result"
        }
      ],
      "source": [
        "kids = {'Emma': 14, 'Tom': 10, 'Jacob': 8}\n",
        "kids"
      ]
    },
    {
      "cell_type": "code",
      "execution_count": null,
      "metadata": {
        "id": "3uH2eCcE1jb8",
        "outputId": "0fae2bef-17c8-4178-c386-f1758ac92647"
      },
      "outputs": [
        {
          "data": {
            "text/plain": [
              "{'Emma': 14, 'Tom': 10, 'Jacob': 8}"
            ]
          },
          "execution_count": 13,
          "metadata": {},
          "output_type": "execute_result"
        }
      ],
      "source": [
        "kids = dict([('Emma', 14), ('Tom', 10), ('Jacob', 8)])\n",
        "kids"
      ]
    },
    {
      "cell_type": "code",
      "execution_count": null,
      "metadata": {
        "id": "yfi3PP4z1jb9",
        "outputId": "b5013b23-1f90-41ec-f234-a17d876b751d"
      },
      "outputs": [
        {
          "data": {
            "text/plain": [
              "dict_keys(['Emma', 'Tom', 'Jacob'])"
            ]
          },
          "execution_count": 14,
          "metadata": {},
          "output_type": "execute_result"
        }
      ],
      "source": [
        "kids.keys()"
      ]
    },
    {
      "cell_type": "code",
      "execution_count": null,
      "metadata": {
        "id": "3A9sNODW1jb-",
        "outputId": "10508fcf-473b-49c1-8d7e-0a542d77ec83"
      },
      "outputs": [
        {
          "data": {
            "text/plain": [
              "['Emma', 'Tom', 'Jacob']"
            ]
          },
          "execution_count": 11,
          "metadata": {},
          "output_type": "execute_result"
        }
      ],
      "source": [
        "list(kids.keys())  # Devuelve una lista de todas las claves utilizadas en el diccionario, en orden arbitrario"
      ]
    },
    {
      "cell_type": "code",
      "execution_count": null,
      "metadata": {
        "scrolled": true,
        "id": "EeEN7EoS1jb_",
        "outputId": "43960dd4-5d30-4904-c8de-0e915a52cea9"
      },
      "outputs": [
        {
          "data": {
            "text/plain": [
              "['Emma', 'Jacob', 'Tom']"
            ]
          },
          "execution_count": 12,
          "metadata": {},
          "output_type": "execute_result"
        }
      ],
      "source": [
        "sorted(kids.keys())  # Lista ordenada de todas las claves utilizadas en el diccionario."
      ]
    },
    {
      "cell_type": "code",
      "execution_count": null,
      "metadata": {
        "id": "BQGnAP1B1jcG",
        "outputId": "d76fc91a-bcd0-43a1-8eba-86ebf2313421"
      },
      "outputs": [
        {
          "data": {
            "text/plain": [
              "dict_values([14, 10, 8])"
            ]
          },
          "execution_count": 15,
          "metadata": {},
          "output_type": "execute_result"
        }
      ],
      "source": [
        "kids.values()"
      ]
    },
    {
      "cell_type": "code",
      "execution_count": null,
      "metadata": {
        "id": "MZQc_QHg1jcH",
        "outputId": "a45eae40-09bc-4654-f1a3-23e1cfe68d68"
      },
      "outputs": [
        {
          "data": {
            "text/plain": [
              "dict_items([('Emma', 14), ('Tom', 10), ('Jacob', 8)])"
            ]
          },
          "execution_count": 16,
          "metadata": {},
          "output_type": "execute_result"
        }
      ],
      "source": [
        "kids.items()  # Devuelve una lista de pares de tuplas de diccionario (clave, valor)"
      ]
    },
    {
      "cell_type": "code",
      "execution_count": null,
      "metadata": {
        "id": "7IkLdwZ21jcI",
        "outputId": "cbc4dc75-fb5c-47fc-8222-5bf0f1fdaa46"
      },
      "outputs": [
        {
          "name": "stdout",
          "output_type": "stream",
          "text": [
            "Emma 14\n",
            "Tom 10\n",
            "Jacob 8\n"
          ]
        }
      ],
      "source": [
        "for name, age in kids.items():\n",
        "    print(name, age)"
      ]
    },
    {
      "cell_type": "markdown",
      "metadata": {
        "id": "lJWxLNB01jcI"
      },
      "source": [
        "- Cuando las claves son cadenas simples, podemos especificar pares usando argumentos de palabras clave:"
      ]
    },
    {
      "cell_type": "code",
      "execution_count": null,
      "metadata": {
        "id": "DOGovi8e1jcI",
        "outputId": "31a910a4-15df-433f-b69e-2be8c0559455"
      },
      "outputs": [
        {
          "data": {
            "text/plain": [
              "{'hello': 'hola', 'yes': 'si'}"
            ]
          },
          "execution_count": 20,
          "metadata": {},
          "output_type": "execute_result"
        }
      ],
      "source": [
        "spanish = dict(hello='hola', yes='si')\n",
        "spanish"
      ]
    },
    {
      "cell_type": "code",
      "execution_count": null,
      "metadata": {
        "id": "pAPMUlW21jcJ",
        "outputId": "82e59488-26c5-4c0a-b379-9cebaed83a4d"
      },
      "outputs": [
        {
          "ename": "SyntaxError",
          "evalue": "expression cannot contain assignment, perhaps you meant \"==\"? (4117433920.py, line 1)",
          "output_type": "error",
          "traceback": [
            "\u001b[0;36m  Input \u001b[0;32mIn [21]\u001b[0;36m\u001b[0m\n\u001b[0;31m    spanish = dict('hello'='hola', 'yes'='si')  # Esto está mal\u001b[0m\n\u001b[0m                   ^\u001b[0m\n\u001b[0;31mSyntaxError\u001b[0m\u001b[0;31m:\u001b[0m expression cannot contain assignment, perhaps you meant \"==\"?\n"
          ]
        }
      ],
      "source": [
        "spanish = dict('hello'='hola', 'yes'='si')  # Esto está mal"
      ]
    },
    {
      "cell_type": "markdown",
      "metadata": {
        "id": "-y8xqQFL1jcJ"
      },
      "source": [
        "### Los diccionarios son mutables"
      ]
    },
    {
      "cell_type": "code",
      "execution_count": null,
      "metadata": {
        "id": "TRb5_OLI1jcJ",
        "outputId": "9e592087-bee0-4134-b933-59c6da2936e4"
      },
      "outputs": [
        {
          "data": {
            "text/plain": [
              "{'apples': 430, 'bananas': 312, 'oranges': 525}"
            ]
          },
          "execution_count": 22,
          "metadata": {},
          "output_type": "execute_result"
        }
      ],
      "source": [
        "inventario = {'apples': 430, 'bananas': 312, 'oranges': 525}\n",
        "inventario"
      ]
    },
    {
      "cell_type": "code",
      "execution_count": null,
      "metadata": {
        "id": "r2hYP40y1jcK",
        "outputId": "b8612929-822c-4af1-f5a5-2186f95107f5"
      },
      "outputs": [
        {
          "data": {
            "text/plain": [
              "{'apples': 430, 'oranges': 525}"
            ]
          },
          "execution_count": 23,
          "metadata": {},
          "output_type": "execute_result"
        }
      ],
      "source": [
        "del inventario['bananas']\n",
        "inventario"
      ]
    },
    {
      "cell_type": "code",
      "execution_count": null,
      "metadata": {
        "id": "51RiliHW1jcK",
        "outputId": "719054a3-dcb7-4207-b74e-c4c8623a569c"
      },
      "outputs": [
        {
          "data": {
            "text/plain": [
              "{'apples': 430, 'oranges': 0}"
            ]
          },
          "execution_count": 25,
          "metadata": {},
          "output_type": "execute_result"
        }
      ],
      "source": [
        "inventario['oranges'] = 0\n",
        "inventario"
      ]
    },
    {
      "cell_type": "code",
      "execution_count": null,
      "metadata": {
        "id": "haz3fuov1jcL",
        "outputId": "13e97ba4-5904-40dc-976d-04f6803f3b1c"
      },
      "outputs": [
        {
          "data": {
            "text/plain": [
              "{}"
            ]
          },
          "execution_count": 26,
          "metadata": {},
          "output_type": "execute_result"
        }
      ],
      "source": [
        "spanish = {}  # Diccionario vacio\n",
        "spanish"
      ]
    },
    {
      "cell_type": "code",
      "execution_count": null,
      "metadata": {
        "id": "9fpaY3FZ1jcL",
        "outputId": "e81a3b90-f46f-4150-9d47-1ccbb5a1752f"
      },
      "outputs": [
        {
          "data": {
            "text/plain": [
              "{}"
            ]
          },
          "execution_count": 27,
          "metadata": {},
          "output_type": "execute_result"
        }
      ],
      "source": [
        "spanish = dict()  # Diccionario vacio\n",
        "spanish"
      ]
    },
    {
      "cell_type": "code",
      "execution_count": null,
      "metadata": {
        "id": "51grPzKj1jcL",
        "outputId": "094ea308-420a-4eba-d8ed-bcf0b44b3dcb"
      },
      "outputs": [
        {
          "data": {
            "text/plain": [
              "{'hello': 'hola', 'yes': 'si'}"
            ]
          },
          "execution_count": 29,
          "metadata": {},
          "output_type": "execute_result"
        }
      ],
      "source": [
        "spanish['hello'] = 'hola'\n",
        "spanish['yes'] = 'si'\n",
        "spanish"
      ]
    },
    {
      "cell_type": "code",
      "execution_count": null,
      "metadata": {
        "id": "vqPS6dAw1jcM",
        "outputId": "2dce033f-4d04-4194-ed66-4c1f8e0bb32a"
      },
      "outputs": [
        {
          "data": {
            "text/plain": [
              "{}"
            ]
          },
          "execution_count": 30,
          "metadata": {},
          "output_type": "execute_result"
        }
      ],
      "source": [
        "spanish.clear()  # Elimina todos los elementos.\n",
        "spanish"
      ]
    },
    {
      "cell_type": "markdown",
      "metadata": {
        "id": "6zaZhUdr1jcM"
      },
      "source": [
        "### Comprensiones de diccionario"
      ]
    },
    {
      "cell_type": "markdown",
      "metadata": {
        "id": "7K61IC4V1jcN"
      },
      "source": [
        "- La comprensión de diccionario se pueden usar para crear diccionarios a partir de expresiones de valores y claves arbitrarias."
      ]
    },
    {
      "cell_type": "code",
      "execution_count": null,
      "metadata": {
        "id": "3_bpfnvw1jcN",
        "outputId": "25e4e92f-14e5-4d59-b92d-fc4296617602"
      },
      "outputs": [
        {
          "data": {
            "text/plain": [
              "{2: 4, 4: 16, 6: 36}"
            ]
          },
          "execution_count": 31,
          "metadata": {},
          "output_type": "execute_result"
        }
      ],
      "source": [
        "squares = {x: x**2 for x in (2, 4, 6)}\n",
        "squares"
      ]
    },
    {
      "cell_type": "markdown",
      "metadata": {
        "id": "MeRPgY1P1jcP"
      },
      "source": [
        "- Es equivalente a:"
      ]
    },
    {
      "cell_type": "code",
      "execution_count": null,
      "metadata": {
        "id": "0OM6KP7I1jcP",
        "outputId": "4791f8e4-9b1e-4abd-b40e-f1321b42416d"
      },
      "outputs": [
        {
          "data": {
            "text/plain": [
              "{2: 4, 4: 16, 6: 36}"
            ]
          },
          "execution_count": 32,
          "metadata": {},
          "output_type": "execute_result"
        }
      ],
      "source": [
        "squares = dict()\n",
        "for x in (2, 4, 6):\n",
        "    squares[x] = x**2\n",
        "squares"
      ]
    },
    {
      "cell_type": "code",
      "execution_count": null,
      "metadata": {
        "id": "iSPyevMU1jcP"
      },
      "outputs": [],
      "source": []
    },
    {
      "cell_type": "code",
      "execution_count": null,
      "metadata": {
        "id": "LNaJF6Q61jcQ"
      },
      "outputs": [],
      "source": []
    }
  ],
  "metadata": {
    "kernelspec": {
      "display_name": "Python 3 (ipykernel)",
      "language": "python",
      "name": "python3"
    },
    "language_info": {
      "codemirror_mode": {
        "name": "ipython",
        "version": 3
      },
      "file_extension": ".py",
      "mimetype": "text/x-python",
      "name": "python",
      "nbconvert_exporter": "python",
      "pygments_lexer": "ipython3",
      "version": "3.9.7"
    },
    "colab": {
      "provenance": []
    }
  },
  "nbformat": 4,
  "nbformat_minor": 0
}