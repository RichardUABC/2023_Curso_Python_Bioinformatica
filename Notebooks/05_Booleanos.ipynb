{
  "cells": [
    {
      "cell_type": "markdown",
      "metadata": {
        "id": "Q8Qn_C5A1rKJ"
      },
      "source": [
        "# Operaciones booleanas"
      ]
    },
    {
      "cell_type": "markdown",
      "metadata": {
        "id": "7Anaj52r1rKK"
      },
      "source": [
        "### George Boole\n",
        "(Lincoln, Reino Unido, 1815 - Ballintemple, actual Irlanda, 1864) Matemático británico, creador de un nuevo sistema de cálculo lógico que póstumamente sería llamado **Álgebra de Boole**. Dicho sistema, en el que las proposiciones se reducen a símbolos sobre los que puede operarse matemáticamente, supuso un avance fundamental en el **desarrollo de la lógica** y, más de un siglo después, hallaría un formidable e insospechado campo de **aplicación en la informática y los microprocesadores**, cuyo funcionamiento se basa en la **lógica binaria de Boole**."
      ]
    },
    {
      "cell_type": "markdown",
      "metadata": {
        "id": "qe8lVo571rKM"
      },
      "source": [
        "### Comparación booleana simple"
      ]
    },
    {
      "cell_type": "markdown",
      "metadata": {
        "id": "4nDERuxu1rKN"
      },
      "source": [
        "- Una expresión booleana solo puede devolver `True` or `False`.\n",
        "- Operadores de comparación booleanos simples:\n",
        "\n",
        "| Operador | Significado                 |\n",
        "|:---------|:------------------------|\n",
        "| <        | strictly less than      |\n",
        "| <=       | less than or equal      |\n",
        "| >        | strictly greater than   |\n",
        "| >=       | greater than or equal   |\n",
        "| ==       | equal                   |\n",
        "| !=       | not equal               |\n",
        "| is       | object identity         |\n",
        "| is not   | negated object identity |"
      ]
    },
    {
      "cell_type": "markdown",
      "metadata": {
        "id": "YpO1y1jY1rKO"
      },
      "source": [
        "- Estos operadores tienen la misma prioridad.\n",
        "- Las comparaciones se pueden encadenar. `x < y <= z` es equivalente a `x < y and y <= z`."
      ]
    },
    {
      "cell_type": "code",
      "execution_count": null,
      "metadata": {
        "scrolled": true,
        "tags": [],
        "id": "Wom9zZYA1rKO",
        "outputId": "8c5aeb1e-fd23-4a7e-c33d-2dc573d25a04"
      },
      "outputs": [
        {
          "data": {
            "text/plain": [
              "True"
            ]
          },
          "execution_count": 24,
          "metadata": {},
          "output_type": "execute_result"
        }
      ],
      "source": [
        "3 < 4"
      ]
    },
    {
      "cell_type": "markdown",
      "metadata": {
        "id": "tJ_W78Xg1rKS"
      },
      "source": [
        "### Equivalencia con y son parentesis"
      ]
    },
    {
      "cell_type": "code",
      "execution_count": null,
      "metadata": {
        "tags": [],
        "id": "Hyq9l0sT1rKT",
        "outputId": "cf2fb9f2-d750-4d8c-b84f-b43bbfe1a573"
      },
      "outputs": [
        {
          "data": {
            "text/plain": [
              "False"
            ]
          },
          "execution_count": 27,
          "metadata": {},
          "output_type": "execute_result"
        }
      ],
      "source": [
        "4 * 3 < 4 + 3  # Equivalente a (4 * 3) < (4 + 3)"
      ]
    },
    {
      "cell_type": "markdown",
      "metadata": {
        "id": "es4ABqEe1rKV"
      },
      "source": [
        "- Las comparaciones de cadenas se basan en el orden de ASCII y Unicode subyacentes."
      ]
    },
    {
      "cell_type": "code",
      "execution_count": null,
      "metadata": {
        "id": "e0MWH5rC1rKW",
        "outputId": "8b23c2d2-927e-4f3c-caa6-7825509de381"
      },
      "outputs": [
        {
          "data": {
            "text/plain": [
              "True"
            ]
          },
          "execution_count": 28,
          "metadata": {},
          "output_type": "execute_result"
        }
      ],
      "source": [
        "\"hello\" == \"hello\""
      ]
    },
    {
      "cell_type": "code",
      "execution_count": null,
      "metadata": {
        "id": "umRZSx9u1rKX",
        "outputId": "e970eb98-9c1a-45b4-e83d-d08cd3e3024e"
      },
      "outputs": [
        {
          "data": {
            "text/plain": [
              "True"
            ]
          },
          "execution_count": 32,
          "metadata": {},
          "output_type": "execute_result"
        }
      ],
      "source": [
        "\"hello\" > \"Hello\"  # Las letras minúsculas van después de las mayúsculas"
      ]
    },
    {
      "cell_type": "markdown",
      "metadata": {
        "id": "XryIewau1rKZ"
      },
      "source": [
        "- Los dos lados deben ser del mismo tipo de datos."
      ]
    },
    {
      "cell_type": "code",
      "execution_count": null,
      "metadata": {
        "scrolled": true,
        "id": "i4Qz1HpN1rKZ",
        "outputId": "991bd0d2-144d-4eb7-de5b-23ba42132126"
      },
      "outputs": [
        {
          "ename": "TypeError",
          "evalue": "'>' not supported between instances of 'str' and 'int'",
          "output_type": "error",
          "traceback": [
            "\u001b[0;31m---------------------------------------------------------------------------\u001b[0m",
            "\u001b[0;31mTypeError\u001b[0m                                 Traceback (most recent call last)",
            "Input \u001b[0;32mIn [39]\u001b[0m, in \u001b[0;36m<cell line: 1>\u001b[0;34m()\u001b[0m\n\u001b[0;32m----> 1\u001b[0m \u001b[38;5;124;43m'\u001b[39;49m\u001b[38;5;124;43mhello\u001b[39;49m\u001b[38;5;124;43m'\u001b[39;49m\u001b[43m \u001b[49m\u001b[38;5;241;43m>\u001b[39;49m\u001b[43m \u001b[49m\u001b[38;5;241;43m256\u001b[39;49m\n",
            "\u001b[0;31mTypeError\u001b[0m: '>' not supported between instances of 'str' and 'int'"
          ]
        }
      ],
      "source": [
        "'hello' > 256  # This will not work"
      ]
    },
    {
      "cell_type": "code",
      "execution_count": null,
      "metadata": {
        "id": "OhhVKMaZ1rKb",
        "outputId": "a01552a3-44aa-46a8-d8c3-430a5c2dc31f"
      },
      "outputs": [
        {
          "ename": "TypeError",
          "evalue": "'<' not supported between instances of 'str' and 'int'",
          "output_type": "error",
          "traceback": [
            "\u001b[0;31m---------------------------------------------------------------------------\u001b[0m",
            "\u001b[0;31mTypeError\u001b[0m                                 Traceback (most recent call last)",
            "Input \u001b[0;32mIn [38]\u001b[0m, in \u001b[0;36m<cell line: 1>\u001b[0;34m()\u001b[0m\n\u001b[0;32m----> 1\u001b[0m \u001b[38;5;124;43m'\u001b[39;49m\u001b[38;5;124;43m0\u001b[39;49m\u001b[38;5;124;43m'\u001b[39;49m\u001b[43m \u001b[49m\u001b[38;5;241;43m<\u001b[39;49m\u001b[43m \u001b[49m\u001b[38;5;241;43m1\u001b[39;49m\n",
            "\u001b[0;31mTypeError\u001b[0m: '<' not supported between instances of 'str' and 'int'"
          ]
        }
      ],
      "source": [
        "'0' < 1"
      ]
    },
    {
      "cell_type": "code",
      "execution_count": null,
      "metadata": {
        "id": "i-tEX6Q21rKb",
        "outputId": "a5fad0fa-ca36-4197-fe84-9203fde3eba1"
      },
      "outputs": [
        {
          "data": {
            "text/plain": [
              "bool"
            ]
          },
          "execution_count": 40,
          "metadata": {},
          "output_type": "execute_result"
        }
      ],
      "source": [
        "type(True)"
      ]
    },
    {
      "cell_type": "code",
      "execution_count": null,
      "metadata": {
        "id": "Y83k0MzJ1rKc",
        "outputId": "b4b62517-fb09-4988-96fc-1ea4d67e0c2f"
      },
      "outputs": [
        {
          "data": {
            "text/plain": [
              "bool"
            ]
          },
          "execution_count": 41,
          "metadata": {},
          "output_type": "execute_result"
        }
      ],
      "source": [
        "type(False)"
      ]
    },
    {
      "cell_type": "code",
      "execution_count": null,
      "metadata": {
        "id": "4XGIlJmO1rKd",
        "outputId": "601d80f6-8f93-4bca-ba6e-b35e493385b6"
      },
      "outputs": [
        {
          "name": "stdout",
          "output_type": "stream",
          "text": [
            "False\n"
          ]
        }
      ],
      "source": [
        "print(True==0)"
      ]
    },
    {
      "cell_type": "code",
      "execution_count": null,
      "metadata": {
        "id": "jL2hn7pr1rKe",
        "outputId": "61d85791-5af1-4958-edce-a0c300ec68d3"
      },
      "outputs": [
        {
          "ename": "NameError",
          "evalue": "name 'true' is not defined",
          "output_type": "error",
          "traceback": [
            "\u001b[0;31m---------------------------------------------------------------------------\u001b[0m",
            "\u001b[0;31mNameError\u001b[0m                                 Traceback (most recent call last)",
            "Input \u001b[0;32mIn [42]\u001b[0m, in \u001b[0;36m<cell line: 1>\u001b[0;34m()\u001b[0m\n\u001b[0;32m----> 1\u001b[0m \u001b[38;5;28mtype\u001b[39m(\u001b[43mtrue\u001b[49m)\n",
            "\u001b[0;31mNameError\u001b[0m: name 'true' is not defined"
          ]
        }
      ],
      "source": [
        "type(true)  # Caso equivocado"
      ]
    },
    {
      "cell_type": "code",
      "execution_count": null,
      "metadata": {
        "scrolled": true,
        "tags": [],
        "id": "I9V0EP2M1rKf",
        "outputId": "5c72800e-2975-4c1f-c51b-b736f78c7647"
      },
      "outputs": [
        {
          "ename": "NameError",
          "evalue": "name 'false' is not defined",
          "output_type": "error",
          "traceback": [
            "\u001b[0;31m---------------------------------------------------------------------------\u001b[0m",
            "\u001b[0;31mNameError\u001b[0m                                 Traceback (most recent call last)",
            "Input \u001b[0;32mIn [43]\u001b[0m, in \u001b[0;36m<cell line: 1>\u001b[0;34m()\u001b[0m\n\u001b[0;32m----> 1\u001b[0m \u001b[38;5;28mtype\u001b[39m(\u001b[43mfalse\u001b[49m)\n",
            "\u001b[0;31mNameError\u001b[0m: name 'false' is not defined"
          ]
        }
      ],
      "source": [
        "type(false)  # Caso equivocado"
      ]
    },
    {
      "cell_type": "markdown",
      "metadata": {
        "id": "IXfpEzR41rKi"
      },
      "source": [
        "### Operaciones And, Or, y Not"
      ]
    },
    {
      "cell_type": "markdown",
      "metadata": {
        "id": "zXQ64qbb1rKj"
      },
      "source": [
        "- Podemos ensamblar múltiples expresiones booleanas simples juntas para hacer una expresión booleana compleja.\n",
        "- La operación `and` de dos variables booleanas `x` y `y` es `True` solo si ambos `x` y `y` son `True`.\n",
        "\n",
        "| x     | y     | x AND y |\n",
        "|:-----:|:-----:|:-------:|\n",
        "| True  | True  | True    |\n",
        "| True  | False | False   |\n",
        "| False | True  | False   |\n",
        "| False | False | False   |"
      ]
    },
    {
      "cell_type": "markdown",
      "metadata": {
        "id": "uhbOCY8x1rKk"
      },
      "source": [
        "- La operación `or` de dos variables booleanas `x` and `y` is `True` cuando cualquiera `x` o `y` es `True`.\n",
        "\n",
        "| x     | y     | x OR y |\n",
        "|:-----:|:-----:|:------:|\n",
        "| True  | True  | True   |\n",
        "| True  | False | True   |\n",
        "| False | True  | True   |\n",
        "| False | False | False  |"
      ]
    },
    {
      "cell_type": "markdown",
      "metadata": {
        "id": "MSX8C-e61rKk"
      },
      "source": [
        "- `not` es el operador negación.\n",
        "\n",
        "| x     | not x |\n",
        "|:-----:|:-----:|\n",
        "| True  | False |\n",
        "| False | True  |"
      ]
    },
    {
      "cell_type": "code",
      "execution_count": null,
      "metadata": {
        "id": "9wI5Tdoy1rKl",
        "outputId": "4a9a014e-224a-44e5-c5be-52203d97b6fb"
      },
      "outputs": [
        {
          "data": {
            "text/plain": [
              "True"
            ]
          },
          "execution_count": 49,
          "metadata": {},
          "output_type": "execute_result"
        }
      ],
      "source": [
        "x = False\n",
        "y = not x\n",
        "y"
      ]
    },
    {
      "cell_type": "code",
      "execution_count": null,
      "metadata": {
        "id": "unlx6nau1rKl",
        "outputId": "2381f921-e7b2-47cd-96f4-17b3af6d1918"
      },
      "outputs": [
        {
          "data": {
            "text/plain": [
              "True"
            ]
          },
          "execution_count": 60,
          "metadata": {},
          "output_type": "execute_result"
        }
      ],
      "source": [
        "y = 3 <= 5 # Equivalente a y = (3 <= 5)\n",
        "y"
      ]
    },
    {
      "cell_type": "code",
      "execution_count": null,
      "metadata": {
        "id": "0EJXk-IE1rKm",
        "outputId": "3476a80d-4dae-44de-bc00-0a6da805c7f6"
      },
      "outputs": [
        {
          "data": {
            "text/plain": [
              "True"
            ]
          },
          "execution_count": 63,
          "metadata": {},
          "output_type": "execute_result"
        }
      ],
      "source": [
        "(not x) and y"
      ]
    },
    {
      "cell_type": "code",
      "execution_count": null,
      "metadata": {
        "id": "E2LnXZ_q1rKm",
        "outputId": "00e8428b-3cd9-4a26-da91-3e6c71d9a45d"
      },
      "outputs": [
        {
          "data": {
            "text/plain": [
              "True"
            ]
          },
          "execution_count": 69,
          "metadata": {},
          "output_type": "execute_result"
        }
      ],
      "source": [
        "z = \" \" != \"\"  # Equivalente a z = (\" \" != \"\")\n",
        "z"
      ]
    },
    {
      "cell_type": "code",
      "execution_count": null,
      "metadata": {
        "id": "auP4a_M_1rKn",
        "outputId": "f935d4cb-968c-4a08-abc5-0bdd6136a43e"
      },
      "outputs": [
        {
          "data": {
            "text/plain": [
              "True"
            ]
          },
          "execution_count": 72,
          "metadata": {},
          "output_type": "execute_result"
        }
      ],
      "source": [
        "x or z"
      ]
    },
    {
      "cell_type": "markdown",
      "metadata": {
        "id": "_pKtKhIM1rKn"
      },
      "source": [
        "### Reglas de precedencia"
      ]
    },
    {
      "cell_type": "markdown",
      "metadata": {
        "id": "Bm_yZoqD1rKn"
      },
      "source": [
        "- El orden de precedencia, de mayor a menor, es `not, and, or`.\n",
        "- Estos operadores tienen menor prioridad que los operadores de comparación.\n",
        "- Una buena práctica es usar paréntesis para evitar confusiones."
      ]
    },
    {
      "cell_type": "code",
      "execution_count": null,
      "metadata": {
        "id": "yEgqMfcC1rKn",
        "outputId": "21e03d1e-506c-4fd1-bee8-0dd3fab4637d"
      },
      "outputs": [
        {
          "data": {
            "text/plain": [
              "False"
            ]
          },
          "execution_count": 75,
          "metadata": {},
          "output_type": "execute_result"
        }
      ],
      "source": [
        "x, y, z = False, True, True\n",
        "x and (not y) or z  # Equivalente a (x and (not y)) or z"
      ]
    },
    {
      "cell_type": "markdown",
      "metadata": {
        "id": "mEoTc91l1rKo"
      },
      "source": [
        "### Algebra Booleana"
      ]
    },
    {
      "cell_type": "markdown",
      "metadata": {
        "id": "0QfQIRMy1rKp"
      },
      "source": [
        "- Doble Negación:\n",
        "    - `not (not x) == x`\n",
        "\n",
        "- Ley Comutativa:\n",
        "    - `x and y == y and x`\n",
        "    - `x or y == y or x`\n",
        "\n",
        "- Ley Asociativa:\n",
        "    - `(x and y) and z == x and (y and z)`\n",
        "    - `(x or y) or z == x or (y or z)`\n",
        "\n",
        "- Ley Distributiva:\n",
        "    - `x and (y or z) == (x and y) or (x and z)`\n",
        "    - `x or (y and z) == (x or y) and (x or z)`\n",
        "\n",
        "- Leyes de DeMorgan:\n",
        "    - `not (x and y) == (not x) or (not y)`\n",
        "    - `not (x or y) == (not x) and (not y)`"
      ]
    },
    {
      "cell_type": "markdown",
      "metadata": {
        "id": "tyM63kEF1rKp"
      },
      "source": [
        "- En un juego de dados, un jugador gana si tira dos seises con dos dados: `(d1 == 6) and (d2 == 6)`;\n",
        "- Pierde con otras combinaciones de números: `not ((d1 == 6) and (d2 == 6))`.\n",
        "- Podemos reescribir la condición perdedora como `(not (d1 == 6)) or (not (d2 == 6))`, que es equivalente a`(d1 != 6) or (d2 != 6)`."
      ]
    },
    {
      "cell_type": "markdown",
      "metadata": {
        "id": "6G4IPamS1rKq"
      },
      "source": [
        "### Conversión de otros tipos de datos a booleanos"
      ]
    },
    {
      "cell_type": "markdown",
      "metadata": {
        "id": "Gzb4GPQJ1rKq"
      },
      "source": [
        "- La función Python `bool` puede convertir otros tipos de datos integrados a un booleano.\n",
        "- Para un número (int o float), el valor `0` será convertido a uno `False`, Y un valor distinto de cero se convertirá en un `True`.\n",
        "- Para una secuencia (cadena, lista, tupla, dict, set), se convertirá en un `False` si está vacía y un `True` Si no está vacía."
      ]
    },
    {
      "cell_type": "code",
      "execution_count": null,
      "metadata": {
        "id": "sE8fl3De1rKr",
        "outputId": "a8a23ab0-3171-4bcc-8665-c5599a9a0405"
      },
      "outputs": [
        {
          "data": {
            "text/plain": [
              "False"
            ]
          },
          "execution_count": 81,
          "metadata": {},
          "output_type": "execute_result"
        }
      ],
      "source": [
        "bool(0)"
      ]
    },
    {
      "cell_type": "code",
      "execution_count": null,
      "metadata": {
        "id": "ViNlyysN1rKr",
        "outputId": "a0e4d0b9-a6d1-4bba-e8b9-7b5c32748a65"
      },
      "outputs": [
        {
          "data": {
            "text/plain": [
              "True"
            ]
          },
          "execution_count": 82,
          "metadata": {},
          "output_type": "execute_result"
        }
      ],
      "source": [
        "bool(1)"
      ]
    },
    {
      "cell_type": "code",
      "execution_count": null,
      "metadata": {
        "id": "d3D1lzvt1rKs",
        "outputId": "7ae57cd5-9c85-411b-c24d-d70bdc63c087"
      },
      "outputs": [
        {
          "data": {
            "text/plain": [
              "True"
            ]
          },
          "execution_count": 83,
          "metadata": {},
          "output_type": "execute_result"
        }
      ],
      "source": [
        "bool(-2.1)"
      ]
    },
    {
      "cell_type": "code",
      "execution_count": null,
      "metadata": {
        "id": "cjypr4Cj1rKs",
        "outputId": "95da8685-d117-41f1-c7ec-31e64710e941"
      },
      "outputs": [
        {
          "data": {
            "text/plain": [
              "True"
            ]
          },
          "execution_count": 84,
          "metadata": {},
          "output_type": "execute_result"
        }
      ],
      "source": [
        "bool('hello')"
      ]
    },
    {
      "cell_type": "code",
      "execution_count": null,
      "metadata": {
        "id": "-tgJURZW1rKt",
        "outputId": "5ce97173-c630-4868-d79c-e2f6f7d8702e"
      },
      "outputs": [
        {
          "data": {
            "text/plain": [
              "False"
            ]
          },
          "execution_count": 87,
          "metadata": {},
          "output_type": "execute_result"
        }
      ],
      "source": [
        "bool('')"
      ]
    },
    {
      "cell_type": "code",
      "execution_count": null,
      "metadata": {
        "id": "V8XpRfhb1rKt",
        "outputId": "a278a83c-9463-4236-e56f-b03ac89d1cd9"
      },
      "outputs": [
        {
          "data": {
            "text/plain": [
              "True"
            ]
          },
          "execution_count": 88,
          "metadata": {},
          "output_type": "execute_result"
        }
      ],
      "source": [
        "bool(['Apple', 10, -3.14])"
      ]
    },
    {
      "cell_type": "code",
      "execution_count": null,
      "metadata": {
        "id": "k7iT2CxI1rKu",
        "outputId": "7869114d-67fe-4775-b811-6b9e64fd1a8f"
      },
      "outputs": [
        {
          "data": {
            "text/plain": [
              "True"
            ]
          },
          "execution_count": 90,
          "metadata": {},
          "output_type": "execute_result"
        }
      ],
      "source": [
        "bool([1])"
      ]
    },
    {
      "cell_type": "code",
      "execution_count": null,
      "metadata": {
        "id": "RBY9BLD31rKv",
        "outputId": "3ad9913f-fd0f-4989-8270-da94d63e57bc"
      },
      "outputs": [
        {
          "data": {
            "text/plain": [
              "False"
            ]
          },
          "execution_count": 94,
          "metadata": {},
          "output_type": "execute_result"
        }
      ],
      "source": [
        "bool(())"
      ]
    },
    {
      "cell_type": "code",
      "execution_count": 1,
      "metadata": {
        "id": "OXHQ-Mcu1rKv",
        "outputId": "442a34dd-9ad7-4c1a-8064-1255ecba18d3",
        "colab": {
          "base_uri": "https://localhost:8080/"
        }
      },
      "outputs": [
        {
          "output_type": "execute_result",
          "data": {
            "text/plain": [
              "True"
            ]
          },
          "metadata": {},
          "execution_count": 1
        }
      ],
      "source": [
        "bool({3, 4, 5})"
      ]
    },
    {
      "cell_type": "code",
      "execution_count": null,
      "metadata": {
        "id": "lSGc7Tj61rKx"
      },
      "outputs": [],
      "source": []
    }
  ],
  "metadata": {
    "kernelspec": {
      "display_name": "Python 3 (ipykernel)",
      "language": "python",
      "name": "python3"
    },
    "language_info": {
      "codemirror_mode": {
        "name": "ipython",
        "version": 3
      },
      "file_extension": ".py",
      "mimetype": "text/x-python",
      "name": "python",
      "nbconvert_exporter": "python",
      "pygments_lexer": "ipython3",
      "version": "3.9.7"
    },
    "colab": {
      "provenance": []
    }
  },
  "nbformat": 4,
  "nbformat_minor": 0
}