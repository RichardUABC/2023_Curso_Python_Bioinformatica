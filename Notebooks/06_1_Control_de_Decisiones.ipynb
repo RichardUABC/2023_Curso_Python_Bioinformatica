{
  "cells": [
    {
      "cell_type": "markdown",
      "metadata": {
        "id": "Yz7QiOku14Dh"
      },
      "source": [
        "# Control de decisiones"
      ]
    },
    {
      "cell_type": "markdown",
      "metadata": {
        "id": "_2xMXQMH14Dh"
      },
      "source": [
        "###  La declaración de `if`"
      ]
    },
    {
      "cell_type": "markdown",
      "metadata": {
        "id": "oaaSgjl_14Di"
      },
      "source": [
        "**Syntaxis**"
      ]
    },
    {
      "cell_type": "markdown",
      "metadata": {
        "id": "7K-uU-C_14Dj"
      },
      "source": [
        "- El bloque de instrucciones. Se ejecutará solo si `condition` es `True`.\n",
        "```python\n",
        "    if condition:\n",
        "        bloque de enunciado 1\n",
        "        bloque de enunciado 2\n",
        "        bloque de enunciado 3\n",
        "    print('termino el if')\n",
        "```"
      ]
    },
    {
      "cell_type": "markdown",
      "metadata": {
        "id": "B-6rbFIU14Dj"
      },
      "source": [
        "**Ejemplo**"
      ]
    },
    {
      "cell_type": "markdown",
      "metadata": {
        "id": "jBipHE9q14Dk"
      },
      "source": [
        "- El siguiente programa convierte la velocidad de un automóvil de kilómetros por hora (kph) a millas por hora (mph).\n",
        "- Se emitirán advertencias si el automóvil es demasiado rápido o demasiado lento"
      ]
    },
    {
      "cell_type": "code",
      "execution_count": 1,
      "metadata": {
        "scrolled": true,
        "id": "69f4Ty8b14Dl"
      },
      "outputs": [],
      "source": [
        "def speed1():\n",
        "    kph = float(input('¿Cuál es la velocidad en km / h?'))\n",
        "    mph = 0.621371 * kph\n",
        "    print('La velocidad es de', mph, 'mph.')\n",
        "\n",
        "    if mph > 65:\n",
        "        print('Está por encima del límite de velocidad (65 mph). ¡Maneja más despacio!')\n",
        "    if mph <= 65:\n",
        "        print('Estás dentro del límite de velocidad. ¡Buen trabajo!')"
      ]
    },
    {
      "cell_type": "code",
      "execution_count": 2,
      "metadata": {
        "id": "HfL03emk14Do",
        "outputId": "a87bea3e-2184-4fa5-b8b6-cf30da4bbdfd",
        "colab": {
          "base_uri": "https://localhost:8080/"
        }
      },
      "outputs": [
        {
          "output_type": "stream",
          "name": "stdout",
          "text": [
            "¿Cuál es la velocidad en km / h?10\n",
            "La velocidad es de 6.21371 mph.\n",
            "Estás dentro del límite de velocidad. ¡Buen trabajo!\n"
          ]
        }
      ],
      "source": [
        "speed1()"
      ]
    },
    {
      "cell_type": "code",
      "execution_count": null,
      "metadata": {
        "id": "3odetNVg14Ds",
        "outputId": "5c5e11c1-439c-4ccc-940f-312347a29b8d"
      },
      "outputs": [
        {
          "name": "stdin",
          "output_type": "stream",
          "text": [
            "¿Cuál es la velocidad en km / h? 135\n"
          ]
        },
        {
          "name": "stdout",
          "output_type": "stream",
          "text": [
            "La velocidad es de 83.885085 mph.\n",
            "Está por encima del límite de velocidad (65 mph). ¡Maneja más despacio!\n"
          ]
        }
      ],
      "source": [
        "speed1()"
      ]
    },
    {
      "cell_type": "markdown",
      "metadata": {
        "id": "_KtBWtB814Du"
      },
      "source": [
        "### La declaración `if-else`"
      ]
    },
    {
      "cell_type": "markdown",
      "metadata": {
        "id": "bgaDP_Qu14Du"
      },
      "source": [
        "**Syntaxis**"
      ]
    },
    {
      "cell_type": "markdown",
      "metadata": {
        "id": "T7Y8lqCI14Dv"
      },
      "source": [
        "- El `bloque de enunciado_1` se ejecutará si la condición es `True`;\n",
        "- De lo contrario, `bloque de enunciado_2` se ejecutará.\n",
        "```python\n",
        "if condition:\n",
        "    statement_block_1\n",
        "else:\n",
        "    statement_block_2\n",
        "```"
      ]
    },
    {
      "cell_type": "markdown",
      "metadata": {
        "id": "lOaVJIaM14Dv"
      },
      "source": [
        "**Ejemplo**"
      ]
    },
    {
      "cell_type": "code",
      "execution_count": null,
      "metadata": {
        "id": "MM1GgTbD14Dw"
      },
      "outputs": [],
      "source": [
        "def speed2():\n",
        "    kph = float(input('¿Cuál es la velocidad en km / h?  '))\n",
        "    mph = 0.621371 * kph\n",
        "    print('La velocidad es ', mph, 'mph.')\n",
        "\n",
        "    if mph > 65:\n",
        "        print('Está por encima del límite de velocidad (65 mph). ¡Maneja más despacio!')\n",
        "    else:\n",
        "        print('Estás dentro del límite de velocidad. ¡Buen trabajo!')"
      ]
    },
    {
      "cell_type": "code",
      "execution_count": null,
      "metadata": {
        "id": "8_Drpy3714Dy",
        "outputId": "e8bf1510-4ee7-43ef-aeaf-b628c62bf795"
      },
      "outputs": [
        {
          "name": "stdin",
          "output_type": "stream",
          "text": [
            "¿Cuál es la velocidad en km / h?   87\n"
          ]
        },
        {
          "name": "stdout",
          "output_type": "stream",
          "text": [
            "La velocidad es  54.059277 mph.\n",
            "Estás dentro del límite de velocidad. ¡Buen trabajo!\n"
          ]
        }
      ],
      "source": [
        "speed2()"
      ]
    },
    {
      "cell_type": "code",
      "execution_count": null,
      "metadata": {
        "id": "aBJYZKA014Dy",
        "outputId": "a1bb06ec-fcd2-4e2f-86fe-3971a95b201b"
      },
      "outputs": [
        {
          "name": "stdin",
          "output_type": "stream",
          "text": [
            "¿Cuál es la velocidad en km / h?   135\n"
          ]
        },
        {
          "name": "stdout",
          "output_type": "stream",
          "text": [
            "La velocidad es  83.885085 mph.\n",
            "Está por encima del límite de velocidad (65 mph). ¡Maneja más despacio!\n"
          ]
        }
      ],
      "source": [
        "speed2()"
      ]
    },
    {
      "cell_type": "markdown",
      "metadata": {
        "id": "D_CbLGH_14D0"
      },
      "source": [
        "### La declaración `if-elif-else`"
      ]
    },
    {
      "cell_type": "markdown",
      "metadata": {
        "id": "k0T2p4Up14D1"
      },
      "source": [
        "**Syntaxis**"
      ]
    },
    {
      "cell_type": "markdown",
      "metadata": {
        "id": "lxjW4i3X14D1"
      },
      "source": [
        "- Python evalúa cada condición en orden, buscando la primera que sea `True`.\n",
        "- Si se encuentra una condición `True`, se ejecutará el bloque de instrucción correspondiente.\n",
        "- Si ninguna de las condiciones es `True`, se ejecutará el `else` con el último`statement_block_n`.\n",
        "\n",
        "```python\n",
        "if condition_1:\n",
        "    statement_block_1\n",
        "elif condition_2:\n",
        "    statement_block_2\n",
        "elif condition_3:\n",
        "    statement_block_3\n",
        "...\n",
        "else:\n",
        "    statement_block_n\n",
        "```"
      ]
    },
    {
      "cell_type": "markdown",
      "metadata": {
        "id": "ec9vCL2e14D2"
      },
      "source": [
        "**Ejemplo**"
      ]
    },
    {
      "cell_type": "code",
      "execution_count": null,
      "metadata": {
        "id": "kVnF7i8n14D2"
      },
      "outputs": [],
      "source": [
        "def speed3():\n",
        "    kph = float(input('¿Cuál es la velocidad en km / h?'))\n",
        "    mph = 0.621371 * kph\n",
        "    print('La velocidad es de', mph, 'mph.')\n",
        "\n",
        "    if mph > 80:\n",
        "        print('Estás MUY por encima del límite de velocidad. ¡Tu multa es de $ 200!')\n",
        "    elif 65 < mph <= 80:\n",
        "        print('Está por encima del límite de velocidad (65 mph). ¡Maneja más despacio!')\n",
        "    elif 30 <= mph <=65:\n",
        "        print('Estás dentro del límite de velocidad. ¡Buen trabajo!')\n",
        "    else:\n",
        "        print('Eres muy lento. ¡Sal de la autopista y usa las carreteras locales!')"
      ]
    },
    {
      "cell_type": "code",
      "execution_count": null,
      "metadata": {
        "id": "47Tr8M5m14D3",
        "outputId": "e85260b0-484e-463a-9bd3-2fdc71a2e4e0"
      },
      "outputs": [
        {
          "name": "stdin",
          "output_type": "stream",
          "text": [
            "¿Cuál es la velocidad en km / h? 45\n"
          ]
        },
        {
          "name": "stdout",
          "output_type": "stream",
          "text": [
            "La velocidad es de 27.961695 mph.\n",
            "Eres muy lento. ¡Sal de la autopista y usa las carreteras locales!\n"
          ]
        }
      ],
      "source": [
        "speed3()"
      ]
    },
    {
      "cell_type": "code",
      "execution_count": null,
      "metadata": {
        "id": "hEkKGCvs14D4",
        "outputId": "584d005d-e734-400b-d75d-07ae141cc8cf"
      },
      "outputs": [
        {
          "name": "stdin",
          "output_type": "stream",
          "text": [
            "¿Cuál es la velocidad en km / h? 87\n"
          ]
        },
        {
          "name": "stdout",
          "output_type": "stream",
          "text": [
            "La velocidad es de 54.059277 mph.\n",
            "Estás dentro del límite de velocidad. ¡Buen trabajo!\n"
          ]
        }
      ],
      "source": [
        "speed3()"
      ]
    },
    {
      "cell_type": "code",
      "execution_count": null,
      "metadata": {
        "id": "Nrk-WiRb14D5",
        "outputId": "8807a8c1-bfdb-49fe-c6e8-82b3bad71b3d"
      },
      "outputs": [
        {
          "name": "stdout",
          "output_type": "stream",
          "text": [
            "¿Cuál es la velocidad en km / h?34\n",
            "La velocidad es de 21.126614 mph.\n",
            "Eres muy lento. ¡Sal de la autopista y usa las carreteras locales!\n"
          ]
        }
      ],
      "source": [
        "speed3()"
      ]
    },
    {
      "cell_type": "code",
      "execution_count": null,
      "metadata": {
        "id": "SCbjbzcC14D6",
        "outputId": "e49e1c10-6ea1-4ad3-d097-c20855754591"
      },
      "outputs": [
        {
          "name": "stdout",
          "output_type": "stream",
          "text": [
            "¿Cuál es la velocidad en km / h?34\n",
            "La velocidad es de 21.126614 mph.\n",
            "Eres muy lento. ¡Sal de la autopista y usa las carreteras locales!\n"
          ]
        }
      ],
      "source": [
        "speed3()"
      ]
    },
    {
      "cell_type": "code",
      "execution_count": null,
      "metadata": {
        "id": "zj6FolJO14D7"
      },
      "outputs": [],
      "source": []
    }
  ],
  "metadata": {
    "kernelspec": {
      "display_name": "Python 3 (ipykernel)",
      "language": "python",
      "name": "python3"
    },
    "language_info": {
      "codemirror_mode": {
        "name": "ipython",
        "version": 3
      },
      "file_extension": ".py",
      "mimetype": "text/x-python",
      "name": "python",
      "nbconvert_exporter": "python",
      "pygments_lexer": "ipython3",
      "version": "3.9.7"
    },
    "colab": {
      "provenance": []
    }
  },
  "nbformat": 4,
  "nbformat_minor": 0
}