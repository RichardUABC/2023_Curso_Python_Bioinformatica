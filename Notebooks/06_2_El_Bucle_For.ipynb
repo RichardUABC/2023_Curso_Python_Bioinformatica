{
  "cells": [
    {
      "cell_type": "markdown",
      "metadata": {
        "id": "0YguUzuS1_29"
      },
      "source": [
        "# El Loop `for`\n"
      ]
    },
    {
      "cell_type": "markdown",
      "metadata": {
        "id": "dhE3vwTL1_2_"
      },
      "source": [
        "### Syntaxis"
      ]
    },
    {
      "cell_type": "markdown",
      "metadata": {
        "id": "uvnw9jB_1_3A"
      },
      "source": [
        "```python  \n",
        "for item in sequence:\n",
        "    statement block 1\n",
        "    statement block 2\n",
        "    statement block 3\n",
        "```\n",
        "\n",
        "- El bucle `for` es un bucle definido. El número de iteraciones se determina antes de que comience el ciclo."
      ]
    },
    {
      "cell_type": "markdown",
      "metadata": {
        "id": "6PAMZUbv1_3C"
      },
      "source": [
        "### Examples"
      ]
    },
    {
      "cell_type": "code",
      "execution_count": null,
      "metadata": {
        "id": "xy-zaJnq1_3E",
        "outputId": "92d342de-3417-4375-a2fb-aa884ceda859"
      },
      "outputs": [
        {
          "name": "stdout",
          "output_type": "stream",
          "text": [
            "H\n",
            "o\n",
            "l\n",
            "a\n"
          ]
        }
      ],
      "source": [
        "for letter in 'Hola':\n",
        "    print(letter)"
      ]
    },
    {
      "cell_type": "code",
      "execution_count": null,
      "metadata": {
        "id": "K7iNwL6t1_3H",
        "outputId": "5d0fefc8-1a75-423e-e22e-e12f2f291b28"
      },
      "outputs": [
        {
          "name": "stdout",
          "output_type": "stream",
          "text": [
            "Current color: red\n",
            "Current color: green\n",
            "Current color: blue\n"
          ]
        }
      ],
      "source": [
        "colors = ['red', 'green', 'blue']\n",
        "for color in colors:\n",
        "    print('Current color:', color)"
      ]
    },
    {
      "cell_type": "code",
      "execution_count": null,
      "metadata": {
        "scrolled": true,
        "id": "Ab6gLBq81_3J",
        "outputId": "af4741ac-da9d-4fda-a2ce-b9c46a14ba94"
      },
      "outputs": [
        {
          "name": "stdout",
          "output_type": "stream",
          "text": [
            "x = -2\n",
            "sin(x) = -0.9092974268256817\n",
            "\n",
            "x = -1\n",
            "sin(x) = -0.8414709848078965\n",
            "\n",
            "x = 0\n",
            "sin(x) = 0.0\n",
            "\n",
            "x = 1\n",
            "sin(x) = 0.8414709848078965\n",
            "\n",
            "x = 2\n",
            "sin(x) = 0.9092974268256817\n",
            "\n"
          ]
        }
      ],
      "source": [
        "import math\n",
        "for x in range(-2, 3): # [0, 1, 2]\n",
        "    print('x =', x)\n",
        "    print('sin(x) =', math.sin(x))\n",
        "    print()"
      ]
    },
    {
      "cell_type": "code",
      "execution_count": null,
      "metadata": {
        "id": "L2ga7z271_3K",
        "outputId": "69871554-509d-4fdc-fe62-243557536e6b"
      },
      "outputs": [
        {
          "name": "stdout",
          "output_type": "stream",
          "text": [
            "[3.14]\n",
            "3.14\n",
            "['Apple', 'Orange']\n",
            "Apple\n",
            "Orange\n",
            "[3, 4, 5]\n",
            "3\n",
            "4\n",
            "5\n"
          ]
        }
      ],
      "source": [
        "lists = [[3.14], ['Apple', 'Orange'], [3, 4, 5]]\n",
        "for sublist in lists:\n",
        "    print(sublist)\n",
        "    for x in sublist:  # Nested loop\n",
        "        print(x)"
      ]
    },
    {
      "cell_type": "code",
      "execution_count": null,
      "metadata": {
        "scrolled": true,
        "id": "gTDQ3_RJ1_3M",
        "outputId": "0ea074d7-a4c9-47c0-e5b7-e79bc89deba0"
      },
      "outputs": [
        {
          "name": "stdin",
          "output_type": "stream",
          "text": [
            "Ingrese el valor de k:  2\n",
            "Ingrese un numero:  1\n",
            "Ingrese un numero:  2\n"
          ]
        },
        {
          "name": "stdout",
          "output_type": "stream",
          "text": [
            "\n",
            "Ingresaste 2 numbers.\n",
            "El total es 3.0\n",
            "El promedio es 1.5\n"
          ]
        }
      ],
      "source": [
        "def main():\n",
        "    k = int(input('Ingrese el valor de k: '))\n",
        "    total = 0.0\n",
        "    for i in range(k):\n",
        "        num = float(input('Ingrese un numero: '))\n",
        "        total += num\n",
        "    avg = total / k\n",
        "    print()\n",
        "    print('Ingresaste', k, 'numbers.')\n",
        "    print('El total es', total)\n",
        "    print(\"El promedio es\", avg)\n",
        "\n",
        "main()"
      ]
    },
    {
      "cell_type": "markdown",
      "metadata": {
        "id": "uHtbqq7b1_3N"
      },
      "source": [
        "### Recorriendo archivos"
      ]
    },
    {
      "cell_type": "markdown",
      "metadata": {
        "id": "lfMJNrFS1_3O"
      },
      "source": [
        "- El siguiente programa calcula el promedio de todos los 30 números en el `data1.txt` archivo.\n",
        "- Cada línea contiene como máximo un número. Algunas líneas están vacías."
      ]
    },
    {
      "cell_type": "code",
      "execution_count": null,
      "metadata": {
        "scrolled": true,
        "id": "LR2VHepz1_3P",
        "outputId": "3b0f8cbf-bdbc-4795-b4fe-bcadb24121cb"
      },
      "outputs": [
        {
          "name": "stdout",
          "output_type": "stream",
          "text": [
            "['85\\n', '82\\n', '\\n', '80\\n', '10\\n', '50\\n', '5\\n', '67\\n', '14\\n', '40\\n', '\\n', '33\\n', '26\\n', '78\\n', '4\\n', '57\\n', '80\\n', '68\\n', '93\\n', '30\\n', '77\\n', '83\\n', '49\\n', '64\\n', '26\\n', '54\\n', '11\\n', '19\\n', '74\\n', '29\\n', '\\n', '\\n', '82\\n', '30\\n', '56\\n']\n",
            "\n",
            "31 los números fueron leídos del archivo.\n",
            "El total es 1556.0\n",
            "El promedio es 50.193548387096776\n"
          ]
        }
      ],
      "source": [
        "def main():\n",
        "    k = 0\n",
        "    total = 0.0\n",
        "\n",
        "    with open('data1.txt','r') as archivito:\n",
        "        data = archivito.readlines()  # Leer todas las líneas del archivo\n",
        "        print(data)\n",
        "\n",
        "        for num in data:\n",
        "            if num !='\\n':  # Excluyendo las líneas vacías\n",
        "                k += 1\n",
        "                total += float(num)\n",
        "\n",
        "    avg = total / k\n",
        "    print()\n",
        "    print(k, 'los números fueron leídos del archivo.')\n",
        "    print('El total es', total)\n",
        "    print(\"El promedio es\", avg)\n",
        "\n",
        "main()"
      ]
    },
    {
      "cell_type": "markdown",
      "metadata": {
        "id": "jLIyWx-R1_3Q"
      },
      "source": [
        "- El siguiente programa calcula el promedio de todos los 30 números en el `data2.txt` archivo.\n",
        "- Cada línea puede contener uno o más números, separados por una coma y un espacio (', ').\n",
        "- Algunas lineas estan vacias."
      ]
    },
    {
      "cell_type": "code",
      "execution_count": null,
      "metadata": {
        "scrolled": true,
        "id": "E1Fjk-GZ1_3Q",
        "outputId": "fc5a5f01-8b67-4b16-90b3-c4187fda1731"
      },
      "outputs": [
        {
          "name": "stdout",
          "output_type": "stream",
          "text": [
            "['85, 82\\n', '\\n', '\\n', '80, 10, 50, 5\\n', '67\\n', '14, 40\\n', '\\n', '33\\n', '26, 78, 4, 57\\n', '80, 68\\n', '93, 30, 77, 83, 49\\n', '64, 26, 54\\n', '11, 19, 74, 29\\n', '\\n', '\\n', '82, 30\\n', '102, 450, 350\\n', '23.3456']\n",
            "\n",
            "34 números se leyeron del archivo.\n",
            "El total es 2425.3456\n",
            "El promedio es 71.33369411764706\n"
          ]
        }
      ],
      "source": [
        "def main():\n",
        "    k = 0\n",
        "    total = 0.0\n",
        "\n",
        "    with open('data2.txt','r') as f:\n",
        "        data = f.readlines()  # Leer todas las líneas de los datos\n",
        "        print(data)\n",
        "\n",
        "        # Este es un bucle anidado\n",
        "        for line in data:  # Procesar cada línea en el archivo\n",
        "            for num in line.split(', '):  # Procesar cada número en la línea.\n",
        "                if num !='\\n':  # Excluyendo las líneas vacías\n",
        "                    k += 1\n",
        "                    total += float(num)\n",
        "\n",
        "    avg = total / k\n",
        "    print()\n",
        "    print(k, 'números se leyeron del archivo.')\n",
        "    print('El total es', total)\n",
        "    print(\"El promedio es\", avg)\n",
        "\n",
        "main()"
      ]
    },
    {
      "cell_type": "code",
      "execution_count": null,
      "metadata": {
        "id": "CoKHHykg1_3R"
      },
      "outputs": [],
      "source": []
    },
    {
      "cell_type": "code",
      "execution_count": null,
      "metadata": {
        "id": "V8FM1daf1_3R"
      },
      "outputs": [],
      "source": []
    }
  ],
  "metadata": {
    "kernelspec": {
      "display_name": "Python 3 (ipykernel)",
      "language": "python",
      "name": "python3"
    },
    "language_info": {
      "codemirror_mode": {
        "name": "ipython",
        "version": 3
      },
      "file_extension": ".py",
      "mimetype": "text/x-python",
      "name": "python",
      "nbconvert_exporter": "python",
      "pygments_lexer": "ipython3",
      "version": "3.9.7"
    },
    "colab": {
      "provenance": []
    }
  },
  "nbformat": 4,
  "nbformat_minor": 0
}