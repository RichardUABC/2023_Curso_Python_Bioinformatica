{
  "cells": [
    {
      "cell_type": "markdown",
      "metadata": {
        "id": "SQx82OlI2G1j"
      },
      "source": [
        "# El bucle `while`"
      ]
    },
    {
      "cell_type": "markdown",
      "metadata": {
        "id": "Rrvf_zZJ2G1k"
      },
      "source": [
        "### Sintaxis"
      ]
    },
    {
      "cell_type": "markdown",
      "metadata": {
        "id": "-NJUjByp2G1l"
      },
      "source": [
        "```python\n",
        "while condicion:\n",
        "    bloque de enunciado\n",
        "```\n",
        "- El bucle `while`  es un bucle indefinido. El número de iteraciones no se conoce hasta que el ciclo haya finalizado."
      ]
    },
    {
      "cell_type": "markdown",
      "metadata": {
        "id": "GjIltNaw2G1n"
      },
      "source": [
        "### Ejemplos"
      ]
    },
    {
      "cell_type": "markdown",
      "metadata": {
        "id": "0uMQ_VQo2G1o"
      },
      "source": [
        "```python\n",
        "for i in range(5):\n",
        "    print(i)\n",
        "```"
      ]
    },
    {
      "cell_type": "markdown",
      "metadata": {
        "id": "1nvI-57r2G1q"
      },
      "source": [
        "- El bucle while equivalente es el siguiente:"
      ]
    },
    {
      "cell_type": "code",
      "execution_count": null,
      "metadata": {
        "scrolled": true,
        "id": "dA_s5A9i2G1r",
        "outputId": "f573960b-18d5-46bd-d889-e42290114228"
      },
      "outputs": [
        {
          "name": "stdout",
          "output_type": "stream",
          "text": [
            "0\n",
            "1\n",
            "2\n",
            "3\n",
            "4\n"
          ]
        }
      ],
      "source": [
        "i = 0\n",
        "while i < 5:\n",
        "    print(i)\n",
        "    i += 1"
      ]
    },
    {
      "cell_type": "markdown",
      "metadata": {
        "id": "CFM5kTRh2G1u"
      },
      "source": [
        "- El siguiente código conducirá a un bucle infinito o infinito:\n",
        "## No lo corra"
      ]
    },
    {
      "cell_type": "code",
      "execution_count": null,
      "metadata": {
        "scrolled": true,
        "id": "W1Rx0yXv2G1w"
      },
      "outputs": [],
      "source": [
        "i = 0\n",
        "while i < 5:\n",
        "    print(i)"
      ]
    },
    {
      "cell_type": "markdown",
      "metadata": {
        "id": "ExATjiGc2G10"
      },
      "source": [
        "- Para forzar la terminación del código, puede intentar lo siguiente:\n",
        "\n",
        "    - Haga clic en el menú de Jupyter Notebook \"Kernel / Reiniciar\".\n",
        "    \n",
        "    - Si no funciona, presione CTRL + C varias veces en el terminal para interrumpir el servidor Jupyter Notebook conectado.\n",
        "\n",
        "    - Si el navegador no responde, intente abrir el Administrador de tareas usando CTRL + ALT + SUPR y elimine el programa del navegador.\n",
        "    \n",
        "    - Si su computadora se congela, desconecte la alimentación y retire la batería.\n",
        "    \n",
        "    - Si su computadora continúa, corra!"
      ]
    },
    {
      "cell_type": "markdown",
      "metadata": {
        "id": "7Fs3FcyH2G12"
      },
      "source": [
        "### Bucle interactivo"
      ]
    },
    {
      "cell_type": "markdown",
      "metadata": {
        "id": "dvtfXc7h2G12"
      },
      "source": [
        "- Este ejemplo pregunta si el usuario necesita ingresar más datos durante cada iteración del ciclo."
      ]
    },
    {
      "cell_type": "code",
      "execution_count": null,
      "metadata": {
        "id": "_HL5qgXO2G13",
        "outputId": "55faee70-caf1-4506-d2d8-8ec43510f25b"
      },
      "outputs": [
        {
          "name": "stdin",
          "output_type": "stream",
          "text": [
            "Ingrese un número:  3\n",
            "¿Más números? s/n? s\n",
            "Ingrese un número:  5\n",
            "¿Más números? s/n? s\n",
            "Ingrese un número:  8\n",
            "¿Más números? s/n? n\n"
          ]
        },
        {
          "name": "stdout",
          "output_type": "stream",
          "text": [
            "\n",
            "Ingresaste 3 numeros.\n",
            "El total es 16.0\n",
            "El promedio es 5.333333333333333\n"
          ]
        }
      ],
      "source": [
        "def main():\n",
        "    k = 0\n",
        "    total = 0.0\n",
        "    more = \"si\"\n",
        "    while more[0] == \"s\" or more[0] == \"S\":\n",
        "        num = float(input(\"Ingrese un número: \"))\n",
        "        k += 1\n",
        "        total += num\n",
        "        more = input(\"¿Más números? s/n?\")\n",
        "    avg = total / k\n",
        "    print()\n",
        "    print('Ingresaste', k, 'numeros.')\n",
        "    print('El total es', total)\n",
        "    print(\"El promedio es\", avg)\n",
        "\n",
        "main()"
      ]
    },
    {
      "cell_type": "markdown",
      "metadata": {
        "id": "CI6pjytO2G14"
      },
      "source": [
        "### El Loop centinela"
      ]
    },
    {
      "cell_type": "markdown",
      "metadata": {
        "id": "LHQEXpnR2G15"
      },
      "source": [
        "- El centinela es la condición que señala el final del bucle.\n",
        "\n",
        "- En el siguiente ejemplo, calculamos el promedio de puntajes de prueba ingresados ​​por el usuario.\n",
        "\n",
        "- Si una entrada está fuera del rango [0, 100], el bucle se detiene."
      ]
    },
    {
      "cell_type": "code",
      "execution_count": null,
      "metadata": {
        "id": "dDPbOFI12G15",
        "outputId": "da8ecc8a-0bac-4d68-ca4c-f3bd21ea175d"
      },
      "outputs": [
        {
          "name": "stdin",
          "output_type": "stream",
          "text": [
            "Ingrese un número entre 0 y 100 (otros para salir):  34\n",
            "Ingrese un número entre 0 y 100 (otros para salir, por ej: 500):  54\n",
            "Ingrese un número entre 0 y 100 (otros para salir, por ej: 500):  78\n",
            "Ingrese un número entre 0 y 100 (otros para salir, por ej: 500):  102\n"
          ]
        },
        {
          "name": "stdout",
          "output_type": "stream",
          "text": [
            "\n",
            "Ingresó  3 números entre 0 y 100.\n",
            "El total es 166.0\n",
            "El promedio es 55.333333333333336\n"
          ]
        }
      ],
      "source": [
        "def main():\n",
        "    k = 0\n",
        "    total = 0.0\n",
        "    num = float(input(\"Ingrese un número entre 0 y 100 (otros para salir): \"))\n",
        "    while 0 <= num <= 100:  # num is the test score\n",
        "        k += 1\n",
        "        total += num\n",
        "        num = float(input(\"Ingrese un número entre 0 y 100 (otros para salir, por ej: 500): \"))\n",
        "    avg = total / k\n",
        "    print()\n",
        "    print('Ingresó ', k, 'números entre 0 y 100.')\n",
        "    print('El total es', total)\n",
        "    print(\"El promedio es\", avg)\n",
        "\n",
        "main()"
      ]
    },
    {
      "cell_type": "markdown",
      "metadata": {
        "id": "zbNhJir92G17"
      },
      "source": [
        "- Si los números pueden tomar valores positivos y negativos (por ejemplo, temperatura), podemos usar un carácter especial como 'q' (salir), 'e' (salir) o incluso '' (vacío) para señalar el final de el lazo."
      ]
    },
    {
      "cell_type": "code",
      "execution_count": null,
      "metadata": {
        "scrolled": true,
        "id": "iMJxYC3r2G17",
        "outputId": "421ede36-e2ba-4df5-840f-d7555198ddaa"
      },
      "outputs": [
        {
          "name": "stdin",
          "output_type": "stream",
          "text": [
            "Ingrese un número (o presione ENTER para salir):  -10\n",
            "Ingrese un número (o presione ENTER para salir):  239\n",
            "Ingrese un número (o presione ENTER para salir):  40456\n",
            "Ingrese un número (o presione ENTER para salir):  \n"
          ]
        },
        {
          "name": "stdout",
          "output_type": "stream",
          "text": [
            "\n",
            "Ingresaste 3 números.\n",
            "El total es 40685.0\n",
            "El promedio es 13561.666666666666\n"
          ]
        }
      ],
      "source": [
        "def main():\n",
        "    k = 0\n",
        "    total = 0.0\n",
        "    string = input(\"Ingrese un número (o presione ENTER para salir): \")\n",
        "    while string != \"\":\n",
        "        num = float(string)\n",
        "        k += 1\n",
        "        total += num\n",
        "        string = input(\"Ingrese un número (o presione ENTER para salir): \")\n",
        "    avg = total / k\n",
        "    print()\n",
        "    print('Ingresaste', k, 'números.')\n",
        "    print('El total es', total)\n",
        "    print(\"El promedio es\", avg)\n",
        "\n",
        "main()"
      ]
    },
    {
      "cell_type": "markdown",
      "metadata": {
        "id": "vljsBKhJ2G18"
      },
      "source": [
        "1\n",
        "2\n",
        "3\n",
        "4\n",
        "5\n",
        "5"
      ]
    }
  ],
  "metadata": {
    "kernelspec": {
      "display_name": "Python 3 (ipykernel)",
      "language": "python",
      "name": "python3"
    },
    "language_info": {
      "codemirror_mode": {
        "name": "ipython",
        "version": 3
      },
      "file_extension": ".py",
      "mimetype": "text/x-python",
      "name": "python",
      "nbconvert_exporter": "python",
      "pygments_lexer": "ipython3",
      "version": "3.9.7"
    },
    "colab": {
      "provenance": []
    }
  },
  "nbformat": 4,
  "nbformat_minor": 0
}