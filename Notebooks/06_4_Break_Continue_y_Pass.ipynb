{
  "cells": [
    {
      "cell_type": "markdown",
      "metadata": {
        "id": "9rUtwctf2M9E"
      },
      "source": [
        "# Break, Continue, y Pass"
      ]
    },
    {
      "cell_type": "markdown",
      "metadata": {
        "id": "ewotf2uj2M9G"
      },
      "source": [
        "### La declaración de Break"
      ]
    },
    {
      "cell_type": "markdown",
      "metadata": {
        "id": "NonamfFZ2M9J"
      },
      "source": [
        "- Si se cumple una condición, la instrucción `break` sale del bucle de cierre en medio de una iteración.\n",
        "- El siguiente programa solicita al usuario que ingrese un puntaje de prueba entre 0 y 100."
      ]
    },
    {
      "cell_type": "code",
      "execution_count": 1,
      "metadata": {
        "id": "9-oPZDXZ2M9L",
        "outputId": "0589e1e5-94ed-4f56-c29b-b8c8969eda91",
        "colab": {
          "base_uri": "https://localhost:8080/"
        }
      },
      "outputs": [
        {
          "output_type": "stream",
          "name": "stdout",
          "text": [
            "Ingrese un puntaje de prueba entre 0 y 100: 1\n",
            "El puntaje es 1.0\n"
          ]
        }
      ],
      "source": [
        "def main():\n",
        "    while True:\n",
        "        score = float(input(\"Ingrese un puntaje de prueba entre 0 y 100: \"))\n",
        "        if 0 <= score <= 100:\n",
        "            break  # Exit the while loop\n",
        "        print(\"El puntaje no estaba entre 0 y 100. Hazlo de nuevo.\")\n",
        "    print(\"El puntaje es\", score)\n",
        "\n",
        "main()"
      ]
    },
    {
      "cell_type": "markdown",
      "metadata": {
        "id": "FHqSW2we2M9O"
      },
      "source": [
        "### La declaración de continue"
      ]
    },
    {
      "cell_type": "markdown",
      "metadata": {
        "id": "JjcvzGrO2M9P"
      },
      "source": [
        "- Si se cumple una condición, la instrucción `continue` omite el resto del bucle en medio de una iteración.\n",
        "- El siguiente programa imprime los números positivos en una lista y omite los negativos y los ceros."
      ]
    },
    {
      "cell_type": "code",
      "execution_count": null,
      "metadata": {
        "id": "aLGffv832M9Q",
        "outputId": "9f377988-cf46-405a-cad1-1a7df9bb2cf0"
      },
      "outputs": [
        {
          "name": "stdout",
          "output_type": "stream",
          "text": [
            "30\n",
            "Hola\n",
            "64\n",
            "Hola\n",
            "50\n",
            "Hola\n",
            "90\n",
            "Hola\n"
          ]
        }
      ],
      "source": [
        "def main():\n",
        "    temperature = [30, 64, -5, -10, 50, 0, 90]\n",
        "    for t in temperature:\n",
        "        if t <= 0:\n",
        "            continue  # Salta sobre el resto de la iteración\n",
        "        print(t)\n",
        "\n",
        "main()"
      ]
    },
    {
      "cell_type": "markdown",
      "metadata": {
        "id": "AFFapPL82M9S"
      },
      "source": [
        "### Break y Continue en Loops anidados"
      ]
    },
    {
      "cell_type": "markdown",
      "metadata": {
        "id": "Z_IyBOWp2M9V"
      },
      "source": [
        "- Las sentencias break y continue solo afectarán al ciclo de cierre más cercano cuando se usen en bucles anidados."
      ]
    },
    {
      "cell_type": "markdown",
      "metadata": {
        "id": "G9rE-4c52M9W"
      },
      "source": [
        "### La Declaración de Pass"
      ]
    },
    {
      "cell_type": "markdown",
      "metadata": {
        "id": "8Rfao4Nu2M9X"
      },
      "source": [
        "- La declaración `pass` no hace nada cuando se ejecuta.\n",
        "- Por lo general, se usa como marcador de posición para el código que aún no se ha escrito."
      ]
    },
    {
      "cell_type": "code",
      "execution_count": null,
      "metadata": {
        "id": "beHnARFl2M9Y"
      },
      "outputs": [],
      "source": [
        "def func1():\n",
        "    pass  # Recordar implementar esta función!"
      ]
    },
    {
      "cell_type": "code",
      "execution_count": null,
      "metadata": {
        "id": "pf9ao9SQ2M9Z"
      },
      "outputs": [],
      "source": [
        "class MyClass:\n",
        "    pass  # Recordar implementar esta clase!"
      ]
    },
    {
      "cell_type": "code",
      "execution_count": null,
      "metadata": {
        "id": "G3reXypU2M9a"
      },
      "outputs": [],
      "source": [
        "func1()"
      ]
    },
    {
      "cell_type": "code",
      "execution_count": null,
      "metadata": {
        "id": "AZhUNiqb2M9b"
      },
      "outputs": [],
      "source": []
    }
  ],
  "metadata": {
    "kernelspec": {
      "display_name": "Python 3 (ipykernel)",
      "language": "python",
      "name": "python3"
    },
    "language_info": {
      "codemirror_mode": {
        "name": "ipython",
        "version": 3
      },
      "file_extension": ".py",
      "mimetype": "text/x-python",
      "name": "python",
      "nbconvert_exporter": "python",
      "pygments_lexer": "ipython3",
      "version": "3.9.7"
    },
    "colab": {
      "provenance": []
    }
  },
  "nbformat": 4,
  "nbformat_minor": 0
}