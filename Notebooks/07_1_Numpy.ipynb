{
  "cells": [
    {
      "cell_type": "markdown",
      "metadata": {
        "id": "a6NcR4l62S2-"
      },
      "source": [
        "# Importando bibliotecas"
      ]
    },
    {
      "cell_type": "markdown",
      "metadata": {
        "id": "v8wBdGdg2S2_"
      },
      "source": [
        "Python es un lenguaje que está altamente modularizado: está dividido en __bibliotecas que realizan tareas específicas__.  \n",
        "Para hacer uso de ellas debemos importarlas.\n",
        "\n",
        "Podemos importar cosas de la [biblioteca estándar](https://docs.python.org/3.4/library/), de paquetes que hayamos descargado (o se encuentren en la [organización PIP](https://pypi.org/project/pip/) o se encuentren en la [distribución de Anaconda](https://docs.anaconda.com/)) o de módulos que nosotros mismos construyamos."
      ]
    },
    {
      "cell_type": "markdown",
      "metadata": {
        "id": "q6EwDkA62S3B"
      },
      "source": [
        "### Instalando Numpy\n",
        "https://numpy.org/install/"
      ]
    },
    {
      "cell_type": "markdown",
      "metadata": {
        "id": "hyPvmkqS2S3C"
      },
      "source": [
        "### PIP\n",
        "\n",
        "If you use pip, you can install NumPy with:\n",
        "```python\n",
        "pip install numpy\n",
        "```\n"
      ]
    },
    {
      "cell_type": "markdown",
      "metadata": {
        "id": "mLwSZeoZ2S3C"
      },
      "source": [
        "## Comando `import ______`"
      ]
    },
    {
      "cell_type": "markdown",
      "metadata": {
        "id": "FllJ5Z6W2S3D"
      },
      "source": [
        "Existen varias formas de importar:\n",
        "\n",
        "    import numpy\n",
        "    \n",
        "Cada vez que queramos acceder a una función de numpy, deberemos escribir:\n",
        "    \n",
        "    numpy.sin(5)\n",
        "    numpy.linspace(0,100,50)\n",
        "    "
      ]
    },
    {
      "cell_type": "code",
      "execution_count": null,
      "metadata": {
        "id": "loPMdvlh2S3D"
      },
      "outputs": [],
      "source": [
        "# !pip install numpy"
      ]
    },
    {
      "cell_type": "code",
      "execution_count": null,
      "metadata": {
        "id": "W3jm3owS2S3F"
      },
      "outputs": [],
      "source": [
        "import numpy"
      ]
    },
    {
      "cell_type": "code",
      "execution_count": null,
      "metadata": {
        "id": "PCPtLge82S3G",
        "outputId": "aa517ed1-0c65-4c40-b1a8-2ac1c3ff730f"
      },
      "outputs": [
        {
          "data": {
            "text/plain": [
              "'1.21.2'"
            ]
          },
          "execution_count": 3,
          "metadata": {},
          "output_type": "execute_result"
        }
      ],
      "source": [
        "# Cómo saber la version de numpy que estoy usando\n",
        "numpy.version.version"
      ]
    },
    {
      "cell_type": "code",
      "execution_count": null,
      "metadata": {
        "id": "eWjRmcaQ2S3I"
      },
      "outputs": [],
      "source": [
        "# help(numpy)"
      ]
    },
    {
      "cell_type": "code",
      "execution_count": null,
      "metadata": {
        "id": "f3XFQhcT2S3J",
        "outputId": "220ccbef-aba7-4532-dccb-4cc7709c152b"
      },
      "outputs": [
        {
          "data": {
            "text/plain": [
              "1.2246467991473532e-16"
            ]
          },
          "execution_count": 15,
          "metadata": {},
          "output_type": "execute_result"
        }
      ],
      "source": [
        "numpy.sin(numpy.pi)"
      ]
    },
    {
      "cell_type": "markdown",
      "metadata": {
        "id": "zWtfDChz2S3K"
      },
      "source": [
        "## Comando `import _____ as __`"
      ]
    },
    {
      "cell_type": "markdown",
      "metadata": {
        "id": "404ikB2_2S3K"
      },
      "source": [
        "Como esto puede resultar tedioso, suele utilizarse un __namespace__ o __alias__, el recomendado en la documentación oficial y que usaremos en el curso es:\n",
        "```python\n",
        "    import numpy as np\n",
        "```\n",
        "Ahora podremos llamar a funciones escribiendo:\n",
        "```python\n",
        "    np.sin(5)\n",
        "    np.sin(np.pi)\n",
        "    np.linspace(0,100,50)\n",
        "```    "
      ]
    },
    {
      "cell_type": "code",
      "execution_count": null,
      "metadata": {
        "id": "UmMdU-ma2S3L"
      },
      "outputs": [],
      "source": [
        "import numpy as np"
      ]
    },
    {
      "cell_type": "code",
      "execution_count": null,
      "metadata": {
        "id": "Nhb9IU_H2S3L",
        "outputId": "578750a1-9f93-405c-a5f5-caee64400049"
      },
      "outputs": [
        {
          "data": {
            "text/plain": [
              "1.2246467991473532e-16"
            ]
          },
          "execution_count": 17,
          "metadata": {},
          "output_type": "execute_result"
        }
      ],
      "source": [
        "np.sin(np.pi)"
      ]
    },
    {
      "cell_type": "markdown",
      "metadata": {
        "id": "rB77wIeX2S3L"
      },
      "source": [
        "## Comando `from _____ import ___, ___, ___`"
      ]
    },
    {
      "cell_type": "markdown",
      "metadata": {
        "id": "Ps6qpIrr2S3M"
      },
      "source": [
        "También podríamos importar funciones concretas dentro del paquete que queramos usar, por ejemplo:\n",
        "\n",
        "```python\n",
        "from numpy import linspace, sin\n",
        "```"
      ]
    },
    {
      "cell_type": "code",
      "execution_count": null,
      "metadata": {
        "id": "9rjpb9sh2S3M"
      },
      "outputs": [],
      "source": [
        "from numpy import linspace, sin, cos, pi"
      ]
    },
    {
      "cell_type": "code",
      "execution_count": null,
      "metadata": {
        "id": "GyTvWorY2S3M",
        "outputId": "33fdb99c-f32b-4cdd-b161-51719e3aa599"
      },
      "outputs": [
        {
          "data": {
            "text/plain": [
              "1.2246467991473532e-16"
            ]
          },
          "execution_count": 22,
          "metadata": {},
          "output_type": "execute_result"
        }
      ],
      "source": [
        "sin(pi)"
      ]
    },
    {
      "cell_type": "code",
      "execution_count": null,
      "metadata": {
        "id": "yNF4OhgI2S3N",
        "outputId": "4e2ddef5-93e7-4495-d915-917f9634a082"
      },
      "outputs": [
        {
          "name": "stdout",
          "output_type": "stream",
          "text": [
            "[  0.  10.  20.  30.  40.  50.  60.  70.  80.  90. 100.]\n"
          ]
        }
      ],
      "source": [
        "a = linspace(0,100,11)\n",
        "print(a)"
      ]
    },
    {
      "cell_type": "code",
      "execution_count": null,
      "metadata": {
        "id": "Re8fXv832S3O",
        "outputId": "1c9665b9-e463-41a7-9a8f-2617057cca0e"
      },
      "outputs": [
        {
          "name": "stdout",
          "output_type": "stream",
          "text": [
            "[1.00000000e+001 7.94328235e+010 6.30957344e+020 5.01187234e+030\n",
            " 3.98107171e+040 3.16227766e+050 2.51188643e+060 1.99526231e+070\n",
            " 1.58489319e+080 1.25892541e+090 1.00000000e+100]\n"
          ]
        }
      ],
      "source": [
        "lg = np.logspace(1,100,11)\n",
        "print(lg)"
      ]
    },
    {
      "cell_type": "markdown",
      "metadata": {
        "id": "s3DC4GN_2S3P"
      },
      "source": [
        "## Comando `from _____ import *`"
      ]
    },
    {
      "cell_type": "markdown",
      "metadata": {
        "id": "uM_P2HhJ2S3P"
      },
      "source": [
        "Si esto te sigue pareciendo demasido escribir puedes hacer (__altamente no recomendado__):\n",
        "```python\n",
        "    from numpy import *\n",
        "```    \n",
        "El asterisco, quiere decir _TODO_. Esto genera varios problemas:\n",
        "\n",
        "* __Importará gran cantidad de funciones y clases que puede que no necesites__.\n",
        "* El nombre de estas funciones, puede coincidir con el de alguna de otro módulo que hayas importado, de manera que \"la machacará\", por lo que __se producirán ambigüedades__."
      ]
    },
    {
      "cell_type": "markdown",
      "metadata": {
        "id": "4_SehOw42S3R"
      },
      "source": [
        "## Ejemplo: ¿por qué no hacer from numpy import * ?"
      ]
    },
    {
      "cell_type": "code",
      "execution_count": null,
      "metadata": {
        "id": "-HRbh9G22S3R",
        "outputId": "731bdf8e-d59c-48e5-8ba4-3545bbfac606"
      },
      "outputs": [
        {
          "data": {
            "text/plain": [
              "array([ 0.84147098,  0.90929743,  0.14112001, -0.7568025 , -0.95892427])"
            ]
          },
          "execution_count": 39,
          "metadata": {},
          "output_type": "execute_result"
        }
      ],
      "source": [
        "from numpy import *\n",
        "\n",
        "a = [1,2,3,4,5]\n",
        "sin(a)"
      ]
    },
    {
      "cell_type": "code",
      "execution_count": null,
      "metadata": {
        "id": "a2MM2u0S2S3S",
        "outputId": "5e29e59c-635e-4930-a4fe-47f41cb761c1"
      },
      "outputs": [
        {
          "data": {
            "text/plain": [
              "1.2246467991473532e-16"
            ]
          },
          "execution_count": 41,
          "metadata": {},
          "output_type": "execute_result"
        }
      ],
      "source": [
        "from math import *\n",
        "sin(np.pi)"
      ]
    },
    {
      "cell_type": "markdown",
      "metadata": {
        "id": "ExXmHRZb2S3S"
      },
      "source": [
        "__La función seno que incorporá math no es la misma que la de NumPy__.  \n",
        "Ambas proporcionarán el seno de un número, evidentemente, el mismo resultado para el mismo número, pero una acepta listas y la otra no.  \n",
        "Al hacer la segunda importación, la función seno de NumPy se ha sustituido por la de math y la misma sentencia, da un error. Esto puede hacer que te vuelvas un poco loco si tu código es grande o acabes volviendo loco a alguien si usa tu código."
      ]
    }
  ],
  "metadata": {
    "anaconda-cloud": {},
    "kernelspec": {
      "display_name": "Python 3 (ipykernel)",
      "language": "python",
      "name": "python3"
    },
    "language_info": {
      "codemirror_mode": {
        "name": "ipython",
        "version": 3
      },
      "file_extension": ".py",
      "mimetype": "text/x-python",
      "name": "python",
      "nbconvert_exporter": "python",
      "pygments_lexer": "ipython3",
      "version": "3.9.7"
    },
    "colab": {
      "provenance": []
    }
  },
  "nbformat": 4,
  "nbformat_minor": 0
}