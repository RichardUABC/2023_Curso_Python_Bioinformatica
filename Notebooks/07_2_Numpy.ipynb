{
  "cells": [
    {
      "cell_type": "markdown",
      "metadata": {
        "id": "9J6p3gLp2ZrQ"
      },
      "source": [
        "# Introducción a NumPy"
      ]
    },
    {
      "cell_type": "markdown",
      "metadata": {
        "id": "fB-GLOC02ZrT"
      },
      "source": [
        "_Hasta ahora hemos visto los tipos de datos más básicos que nos ofrece Python: integer, real, complex, boolean, list, tuple...  Pero nos faltan los arreglos o vectores, en Pyhton son los  __arrays__._\n",
        "\n",
        "_En esta parte, nos introduciremos en el paquete __NumPy__ y aprenderemos a crear arrays y a operar con ellos_."
      ]
    },
    {
      "cell_type": "markdown",
      "metadata": {
        "id": "Mzocy1vm2ZrU"
      },
      "source": [
        "## ¿Qué es un array?"
      ]
    },
    {
      "cell_type": "markdown",
      "metadata": {
        "id": "2x1C8gH72ZrW"
      },
      "source": [
        "Un array es un __bloque de memoria que contiene elementos del mismo tipo__. Básicamente:\n",
        "\n",
        "* nos _recuerdan_ a los vectores, matrices, tensores...\n",
        "* podemos almacenar el array con un nombre y acceder a sus __elementos__ mediante sus __índices__.\n",
        "* ayudan a gestionar de manera eficiente la memoria y a acelerar los cálculos.\n",
        "\n",
        "\n",
        "---\n",
        "\n",
        "| Índice     | 0     | 1     | 2     | 3     | ...   | n-1   | n  |\n",
        "| ---------- | :---: | :---: | :---: | :---: | :---: | :---: | :---: |\n",
        "| Valor      | 2.1   | 3.6   | 7.8   | 1.5   | ...   | 5.4   | 6.3 |\n",
        "\n",
        "---\n",
        "\n",
        "__¿Qué podemos guardar en arrays?__\n",
        "\n",
        "* Vectores y matrices.\n",
        "* Datos de experimentos:\n",
        "    - En distintos instantes discretos.\n",
        "    - En distintos puntos del espacio.\n",
        "* Resultado de evaluar funciones con los datos anteriores.\n",
        "* Discretizaciones para usar algoritmos de: integración, derivación, interpolación...\n",
        "* ..."
      ]
    },
    {
      "cell_type": "markdown",
      "metadata": {
        "id": "9sR7votn2ZrX"
      },
      "source": [
        "## NumPy"
      ]
    },
    {
      "cell_type": "markdown",
      "metadata": {
        "id": "kD5RW_Xj2ZrY"
      },
      "source": [
        "NumPy es un paquete fundamental para la programación científica que __proporciona un objeto tipo array__ para almacenar datos de forma eficiente y una serie de __funciones__ para operar y manipular esos datos.\n",
        "\n",
        "Para usar NumPy lo primero que debemos hacer es importarlo:"
      ]
    },
    {
      "cell_type": "code",
      "execution_count": null,
      "metadata": {
        "id": "KftorkHb2ZrZ",
        "outputId": "93b47346-01a6-4b76-d894-a199f86020ba"
      },
      "outputs": [
        {
          "data": {
            "text/plain": [
              "'1.21.2'"
            ]
          },
          "execution_count": 1,
          "metadata": {},
          "output_type": "execute_result"
        }
      ],
      "source": [
        "import numpy as np\n",
        "#para ver la versión que tenemos instalada:\n",
        "np.__version__\n",
        "# es usual y recomendable, y todos los hace, importar a numpy con el alias \"np\""
      ]
    },
    {
      "cell_type": "markdown",
      "metadata": {
        "id": "qIj6BJoF2Zrc"
      },
      "source": [
        "## Apliquemos NumPy"
      ]
    },
    {
      "cell_type": "markdown",
      "metadata": {
        "id": "4KKOh9PG2Zre"
      },
      "source": [
        "Vamos a __crear nuestros primeros arrays__:\n",
        "\n",
        "Los arrays de una dimensión se crean pasándole __una lista__ como argumento a la función `np.array`."
      ]
    },
    {
      "cell_type": "code",
      "execution_count": null,
      "metadata": {
        "id": "r4q3w1f02Zrf",
        "outputId": "03fc121f-ab48-4708-ca3d-f10a52a56f17"
      },
      "outputs": [
        {
          "data": {
            "text/plain": [
              "array([1, 2, 3, 4])"
            ]
          },
          "execution_count": 2,
          "metadata": {},
          "output_type": "execute_result"
        }
      ],
      "source": [
        "# Array de una dimensión\n",
        "primer_array = np.array([1, 2, 3, 4])\n",
        "primer_array"
      ]
    },
    {
      "cell_type": "code",
      "execution_count": null,
      "metadata": {
        "id": "RXV9uQHw2Zrg",
        "outputId": "7bfa6b83-ef66-46c7-ead9-9ffb1868aa62"
      },
      "outputs": [
        {
          "name": "stdout",
          "output_type": "stream",
          "text": [
            "[1 2 3 4]\n"
          ]
        }
      ],
      "source": [
        "# Podemos usar print\n",
        "print(primer_array)"
      ]
    },
    {
      "cell_type": "code",
      "execution_count": null,
      "metadata": {
        "id": "8jugAdCp2Zrh",
        "outputId": "a51cc2df-56d8-4461-b4cf-02ef60c60764"
      },
      "outputs": [
        {
          "data": {
            "text/plain": [
              "numpy.ndarray"
            ]
          },
          "execution_count": 4,
          "metadata": {},
          "output_type": "execute_result"
        }
      ],
      "source": [
        "# Podemos comprobar el tipo de primer_array\n",
        "type(primer_array)"
      ]
    },
    {
      "cell_type": "code",
      "execution_count": null,
      "metadata": {
        "id": "VSPDPdU92Zrj",
        "outputId": "4bba0894-da3a-4fb9-9e29-57eef4bb9527"
      },
      "outputs": [
        {
          "data": {
            "text/plain": [
              "dtype('int64')"
            ]
          },
          "execution_count": 5,
          "metadata": {},
          "output_type": "execute_result"
        }
      ],
      "source": [
        "# Podemos comprobar el tipo de datos que contiene\n",
        "primer_array.dtype"
      ]
    },
    {
      "cell_type": "markdown",
      "metadata": {
        "id": "V9UYjU342Zrk"
      },
      "source": [
        "Para crear un array de dos dimensiones le pasaremos una _lista de listas_:"
      ]
    },
    {
      "cell_type": "code",
      "execution_count": null,
      "metadata": {
        "id": "cXO9Kbg72Zrk",
        "outputId": "b5dfa1c1-030b-4e50-8960-ec08f2d6a512"
      },
      "outputs": [
        {
          "name": "stdout",
          "output_type": "stream",
          "text": [
            "[[1 2 3]\n",
            " [4 5 6]]\n"
          ]
        }
      ],
      "source": [
        "# Array de dos dimensiones\n",
        "segundo_array = np.array([[1, 2, 3], [4, 5, 6]])\n",
        "print(segundo_array)"
      ]
    },
    {
      "cell_type": "code",
      "execution_count": null,
      "metadata": {
        "id": "iu2Cw0F42Zrl"
      },
      "outputs": [],
      "source": [
        "# Array de dos dimensiones\n",
        "tercer_array = np.array([[1,2,3],[4,5,6],[7,8,9]])"
      ]
    },
    {
      "cell_type": "code",
      "execution_count": null,
      "metadata": {
        "id": "x-XZ-AJK2Zrm",
        "outputId": "b13fdb74-0f41-445f-b374-f0d529e652f3"
      },
      "outputs": [
        {
          "name": "stdout",
          "output_type": "stream",
          "text": [
            "[[1 2 3]\n",
            " [4 5 6]\n",
            " [7 8 9]]\n"
          ]
        }
      ],
      "source": [
        "print(tercer_array)"
      ]
    },
    {
      "cell_type": "markdown",
      "metadata": {
        "id": "vxnyiJ9E2Zrm"
      },
      "source": [
        "<div class=\"alert alert-info\">Podemos continuar en la siguiente línea usando `\\`, pero no es necesario escribirlo dentro de paréntesis o corchetes</div>"
      ]
    },
    {
      "cell_type": "markdown",
      "metadata": {
        "id": "s7XYBhNc2Zrn"
      },
      "source": [
        "Esto sería una buena manera de definirlo, de acuerdo con el [PEP 8 (indentation)](http://legacy.python.org/dev/peps/pep-0008/#indentation):"
      ]
    },
    {
      "cell_type": "code",
      "execution_count": null,
      "metadata": {
        "id": "skVTvxZX2Zrn"
      },
      "outputs": [],
      "source": [
        "cuarto_array = np.array([\n",
        "    [1, 2, 3],\n",
        "    [4, 5, 6],\n",
        "    [7, 8, 9]])"
      ]
    },
    {
      "cell_type": "code",
      "execution_count": null,
      "metadata": {
        "id": "UQUVS9cM2Zro",
        "outputId": "2a179746-438c-4774-d575-acf64e5f8099"
      },
      "outputs": [
        {
          "name": "stdout",
          "output_type": "stream",
          "text": [
            "[[1 2 3]\n",
            " [4 5 6]\n",
            " [7 8 9]]\n"
          ]
        }
      ],
      "source": [
        "print(cuarto_array)"
      ]
    },
    {
      "cell_type": "markdown",
      "metadata": {
        "id": "lzVeuq0d2Zrp"
      },
      "source": [
        "### Funciones y constantes de NumPy"
      ]
    },
    {
      "cell_type": "markdown",
      "metadata": {
        "id": "_aGldi7n2Zrp"
      },
      "source": [
        "NumPy también incorporá __funciones__. Veamos un ejemplo sencillo:"
      ]
    },
    {
      "cell_type": "code",
      "execution_count": null,
      "metadata": {
        "id": "mppPS5dv2Zru",
        "outputId": "57f079e0-9729-4809-c600-7c5e7d962d97"
      },
      "outputs": [
        {
          "data": {
            "text/plain": [
              "10"
            ]
          },
          "execution_count": 12,
          "metadata": {},
          "output_type": "execute_result"
        }
      ],
      "source": [
        "# Suma\n",
        "np.sum(primer_array)"
      ]
    },
    {
      "cell_type": "code",
      "execution_count": null,
      "metadata": {
        "id": "6WSeveb92Zrv",
        "outputId": "c891bb68-0b81-41d6-ba33-383573400496"
      },
      "outputs": [
        {
          "data": {
            "text/plain": [
              "4"
            ]
          },
          "execution_count": 13,
          "metadata": {},
          "output_type": "execute_result"
        }
      ],
      "source": [
        "# Máximo\n",
        "np.max(primer_array)"
      ]
    },
    {
      "cell_type": "code",
      "execution_count": null,
      "metadata": {
        "id": "WvcRW8YG2Zrv",
        "outputId": "58b40d4f-9576-4605-c5f3-916692f76f35"
      },
      "outputs": [
        {
          "data": {
            "text/plain": [
              "1"
            ]
          },
          "execution_count": 14,
          "metadata": {},
          "output_type": "execute_result"
        }
      ],
      "source": [
        "# Mínimo\n",
        "np.min(primer_array)"
      ]
    },
    {
      "cell_type": "code",
      "execution_count": null,
      "metadata": {
        "id": "hz7L15Gq2Zrw",
        "outputId": "0d837177-1eeb-4859-8526-2340d6c8e2c9"
      },
      "outputs": [
        {
          "data": {
            "text/plain": [
              "2.5"
            ]
          },
          "execution_count": 18,
          "metadata": {},
          "output_type": "execute_result"
        }
      ],
      "source": [
        "np.average(primer_array)"
      ]
    },
    {
      "cell_type": "code",
      "execution_count": null,
      "metadata": {
        "id": "p7cJWh_g2Zrx",
        "outputId": "203fb8c1-957c-4f1a-bea5-64e497c7ee0f"
      },
      "outputs": [
        {
          "name": "stdout",
          "output_type": "stream",
          "text": [
            "3 3\n"
          ]
        }
      ],
      "source": [
        "n, m = tercer_array.shape\n",
        "print(n,m)"
      ]
    },
    {
      "cell_type": "markdown",
      "metadata": {
        "id": "vYYuvo9b2Zrx"
      },
      "source": [
        "#### Vectorización\n",
        "Este es un aspecto muy interesante que tiene incluido Python, similar a otros lenguajes de alto nivel."
      ]
    },
    {
      "cell_type": "code",
      "execution_count": null,
      "metadata": {
        "id": "qfK0ng9R2Zry",
        "outputId": "6ae64162-0e40-4460-c6c7-0e8363e3bb54"
      },
      "outputs": [
        {
          "name": "stdout",
          "output_type": "stream",
          "text": [
            "[[ 0.84147098  0.90929743  0.14112001]\n",
            " [-0.7568025  -0.95892427 -0.2794155 ]]\n"
          ]
        }
      ],
      "source": [
        "# Seno\n",
        "seno_primr_array = np.sin(segundo_array)\n",
        "print(seno_primr_array)"
      ]
    },
    {
      "cell_type": "markdown",
      "metadata": {
        "id": "bDjBcrDa2Zrz"
      },
      "source": [
        "Además de algunas __constantes__ que pueden sernos útiles:"
      ]
    },
    {
      "cell_type": "code",
      "execution_count": null,
      "metadata": {
        "id": "ykyi4Y3g2Zrz",
        "outputId": "e489986c-0ba3-45be-e98f-1025e5f55446"
      },
      "outputs": [
        {
          "data": {
            "text/plain": [
              "(3.141592653589793, 2.718281828459045)"
            ]
          },
          "execution_count": 25,
          "metadata": {},
          "output_type": "execute_result"
        }
      ],
      "source": [
        "np.pi, np.e"
      ]
    },
    {
      "cell_type": "markdown",
      "metadata": {
        "id": "pgBvAL002Zr0"
      },
      "source": [
        "## Funciones para crear arrays"
      ]
    },
    {
      "cell_type": "markdown",
      "metadata": {
        "id": "8o0YS02k2Zr0"
      },
      "source": [
        "Hemos visto que la función `np.array()` nos permite crear arrays con los valores que nosotros introduzcamos manualmente a través de listas.\n",
        "Más adelante, aprenderemos a leer ficheros y almacenarlos en arrays.\n",
        "Mientras tanto, ¿qué puede hacernos falta?"
      ]
    },
    {
      "cell_type": "markdown",
      "metadata": {
        "id": "dHWW51V32Zr0"
      },
      "source": [
        "#### Array de ceros\n",
        "En caso que necesitemos un vector lleno de ceros ..."
      ]
    },
    {
      "cell_type": "code",
      "execution_count": null,
      "metadata": {
        "id": "zyxShvHR2Zr1",
        "outputId": "07ccc08e-417f-4bc3-b42f-45dfe126aeca"
      },
      "outputs": [
        {
          "name": "stdout",
          "output_type": "stream",
          "text": [
            "[0.+0.j 0.+0.j 0.+0.j 0.+0.j 0.+0.j 0.+0.j 0.+0.j 0.+0.j 0.+0.j 0.+0.j\n",
            " 0.+0.j 0.+0.j 0.+0.j 0.+0.j 0.+0.j 0.+0.j 0.+0.j 0.+0.j 0.+0.j 0.+0.j\n",
            " 0.+0.j 0.+0.j 0.+0.j 0.+0.j 0.+0.j 0.+0.j 0.+0.j 0.+0.j 0.+0.j 0.+0.j\n",
            " 0.+0.j 0.+0.j 0.+0.j 0.+0.j 0.+0.j 0.+0.j 0.+0.j 0.+0.j 0.+0.j 0.+0.j\n",
            " 0.+0.j 0.+0.j 0.+0.j 0.+0.j 0.+0.j 0.+0.j 0.+0.j 0.+0.j 0.+0.j 0.+0.j\n",
            " 0.+0.j 0.+0.j 0.+0.j 0.+0.j 0.+0.j 0.+0.j 0.+0.j 0.+0.j 0.+0.j 0.+0.j\n",
            " 0.+0.j 0.+0.j 0.+0.j 0.+0.j 0.+0.j 0.+0.j 0.+0.j 0.+0.j 0.+0.j 0.+0.j\n",
            " 0.+0.j 0.+0.j 0.+0.j 0.+0.j 0.+0.j 0.+0.j 0.+0.j 0.+0.j 0.+0.j 0.+0.j\n",
            " 0.+0.j 0.+0.j 0.+0.j 0.+0.j 0.+0.j 0.+0.j 0.+0.j 0.+0.j 0.+0.j 0.+0.j\n",
            " 0.+0.j 0.+0.j 0.+0.j 0.+0.j 0.+0.j 0.+0.j 0.+0.j 0.+0.j 0.+0.j 0.+0.j]\n"
          ]
        }
      ],
      "source": [
        "# En una dimensión, creamos un arreglo de largo 100, lleno de ceros\n",
        "cero = np.zeros(100, complex)\n",
        "print(cero)"
      ]
    },
    {
      "cell_type": "code",
      "execution_count": null,
      "metadata": {
        "id": "WR1BBePT2Zr1",
        "outputId": "affd8e1e-15d2-4ced-fddf-e9d63689c32d"
      },
      "outputs": [
        {
          "name": "stdout",
          "output_type": "stream",
          "text": [
            "[0.+0.j 0.+0.j 0.+0.j 0.+0.j 0.+0.j 0.+0.j 0.+0.j 0.+0.j 0.+0.j 0.+0.j\n",
            " 0.+0.j 0.+0.j 0.+0.j 0.+0.j 0.+0.j 0.+0.j 0.+0.j 0.+0.j 0.+0.j 0.+0.j\n",
            " 0.+0.j 0.+0.j 0.+0.j 0.+0.j 0.+0.j 0.+0.j 0.+0.j 0.+0.j 0.+0.j 0.+0.j\n",
            " 0.+0.j 0.+0.j 0.+0.j 0.+0.j 0.+0.j 0.+0.j 0.+0.j 0.+0.j 0.+0.j 0.+0.j\n",
            " 0.+0.j 0.+0.j 0.+0.j 0.+0.j 0.+0.j 0.+0.j 0.+0.j 0.+0.j 0.+0.j 0.+0.j\n",
            " 0.+0.j 0.+0.j 0.+0.j 0.+0.j 0.+0.j 0.+0.j 0.+0.j 0.+0.j 0.+0.j 0.+0.j\n",
            " 0.+0.j 0.+0.j 0.+0.j 0.+0.j 0.+0.j 0.+0.j 0.+0.j 0.+0.j 0.+0.j 0.+0.j\n",
            " 0.+0.j 0.+0.j 0.+0.j 0.+0.j 0.+0.j 0.+0.j 0.+0.j 0.+0.j 0.+0.j 0.+0.j\n",
            " 0.+0.j 0.+0.j 0.+0.j 0.+0.j 0.+0.j 0.+0.j 0.+0.j 0.+0.j 0.+0.j 0.+0.j\n",
            " 0.+0.j 0.+0.j 0.+0.j 0.+0.j 0.+0.j 0.+0.j 0.+0.j 0.+0.j 0.+0.j 0.+0.j]\n"
          ]
        }
      ],
      "source": [
        "# Observen la diferencia\n",
        "ceros = np.zeros([100], complex)\n",
        "print(ceros)"
      ]
    },
    {
      "cell_type": "code",
      "execution_count": null,
      "metadata": {
        "id": "wOAyUAbA2Zr4",
        "outputId": "20eb95cf-8a6c-455d-a81a-0a7cc24dcddc"
      },
      "outputs": [
        {
          "name": "stdout",
          "output_type": "stream",
          "text": [
            "[[[0. 0. 0.]\n",
            "  [0. 0. 0.]\n",
            "  [0. 0. 0.]\n",
            "  [0. 0. 0.]]\n",
            "\n",
            " [[0. 0. 0.]\n",
            "  [0. 0. 0.]\n",
            "  [0. 0. 0.]\n",
            "  [0. 0. 0.]]\n",
            "\n",
            " [[0. 0. 0.]\n",
            "  [0. 0. 0.]\n",
            "  [0. 0. 0.]\n",
            "  [0. 0. 0.]]\n",
            "\n",
            " [[0. 0. 0.]\n",
            "  [0. 0. 0.]\n",
            "  [0. 0. 0.]\n",
            "  [0. 0. 0.]]\n",
            "\n",
            " [[0. 0. 0.]\n",
            "  [0. 0. 0.]\n",
            "  [0. 0. 0.]\n",
            "  [0. 0. 0.]]]\n"
          ]
        }
      ],
      "source": [
        "# En dos dimensiones, ídem ...\n",
        "cero2D = np.zeros([5, 4, 3])\n",
        "print(cero2D)"
      ]
    },
    {
      "cell_type": "markdown",
      "metadata": {
        "id": "E44Vxmsu2Zr5"
      },
      "source": [
        "<div class=\"alert alert-info\"><strong>Nota:</strong>\n",
        "En el caso 1D es válido tanto `np.zeros([5])` como `np.zeros(5)` (sin los corchetes), pero no lo será para el caso nD\n",
        "</div>"
      ]
    },
    {
      "cell_type": "markdown",
      "metadata": {
        "id": "Atl607Hz2Zr5"
      },
      "source": [
        "#### Array \"vacío\"\n",
        "supongamos que necesitamos un vector vacío"
      ]
    },
    {
      "cell_type": "code",
      "execution_count": null,
      "metadata": {
        "id": "t3gf0QMQ2Zr5",
        "outputId": "b741823c-0c2f-4593-9da3-dcbcf22e7e63"
      },
      "outputs": [
        {
          "name": "stdout",
          "output_type": "stream",
          "text": [
            "[4.64985807e-310 0.00000000e+000 0.00000000e+000 0.00000000e+000\n",
            " 6.90157911e-310 8.82931459e+169 1.38053643e-047 5.49510908e-090\n",
            " 2.51563945e+180 4.65082078e-310]\n"
          ]
        }
      ],
      "source": [
        "array_vacio = np.empty(10)\n",
        "print(array_vacio)"
      ]
    },
    {
      "cell_type": "markdown",
      "metadata": {
        "id": "z2-Zes9K2Zr6"
      },
      "source": [
        "<div class=\"alert alert-warning\"><strong>Importante:</strong>\n",
        "El array vacío se crea en un tiempo algo inferior al array de ceros. Sin embargo, el valor de sus elementos será arbitrario y dependerá del estado de la memoria. Cuandpo lo utilicemos debemos asegurarnos de que se llenen bien todos sus elementos, pues seguramente introducirá resultados erróneos.\n",
        "</div>"
      ]
    },
    {
      "cell_type": "markdown",
      "metadata": {
        "id": "ltsHnNE42Zr6"
      },
      "source": [
        "#### Array de unos\n",
        "Vamos a crear un vector lleno de unos.\n",
        "Observemos que crearemos 3 filas y 2 columnas."
      ]
    },
    {
      "cell_type": "code",
      "execution_count": null,
      "metadata": {
        "id": "xmsOxcHI2Zr6",
        "outputId": "b797fb7b-f1a9-40b6-de2d-000c14e2ca61"
      },
      "outputs": [
        {
          "name": "stdout",
          "output_type": "stream",
          "text": [
            "[[1. 1.]\n",
            " [1. 1.]\n",
            " [1. 1.]]\n"
          ]
        }
      ],
      "source": [
        "unos = np.ones([3, 2])\n",
        "print(unos)"
      ]
    },
    {
      "cell_type": "markdown",
      "metadata": {
        "id": "y401USoV2Zr7"
      },
      "source": [
        "<div class=\"alert alert-info\"><strong>Nota:</strong>\n",
        "Otras funciones muy útiles son `np.zeros_like` y `np.ones_like`. Usa la ayuda para ver lo que hacen si lo necesitas.\n",
        "</div>"
      ]
    },
    {
      "cell_type": "code",
      "execution_count": null,
      "metadata": {
        "id": "lSBI5T1F2Zr7"
      },
      "outputs": [],
      "source": [
        "# help(np.zeros_like)"
      ]
    },
    {
      "cell_type": "code",
      "execution_count": null,
      "metadata": {
        "id": "p562vK6O2Zr8",
        "outputId": "5eb84fad-c763-48f8-9b64-d11b1e328186"
      },
      "outputs": [
        {
          "name": "stdout",
          "output_type": "stream",
          "text": [
            "[[1 2 3]\n",
            " [4 5 6]\n",
            " [7 8 9]]\n"
          ]
        }
      ],
      "source": [
        "print(cuarto_array)"
      ]
    },
    {
      "cell_type": "code",
      "execution_count": null,
      "metadata": {
        "id": "VewN190r2Zr9",
        "outputId": "354d3b4b-661b-4d4f-c0ba-0b832a919ab4"
      },
      "outputs": [
        {
          "name": "stdout",
          "output_type": "stream",
          "text": [
            "[[0 0 0]\n",
            " [0 0 0]\n",
            " [0 0 0]]\n"
          ]
        }
      ],
      "source": [
        "quinto_array = np.zeros_like(cuarto_array)\n",
        "print(quinto_array)"
      ]
    },
    {
      "cell_type": "code",
      "execution_count": null,
      "metadata": {
        "id": "1rECxcKU2Zr9",
        "outputId": "15f94d4d-f911-4230-f3e1-9b196304345d"
      },
      "outputs": [
        {
          "name": "stdout",
          "output_type": "stream",
          "text": [
            "[0. 1. 2.]\n"
          ]
        }
      ],
      "source": [
        "y = np.arange(3, dtype=float)\n",
        "print(y)"
      ]
    },
    {
      "cell_type": "code",
      "execution_count": null,
      "metadata": {
        "id": "CeZYTs8v2Zr-",
        "outputId": "7090ca63-e992-484d-f4e2-9adfc1b9c46e"
      },
      "outputs": [
        {
          "name": "stdout",
          "output_type": "stream",
          "text": [
            "[ 8.+0.j  9.+0.j 10.+0.j 11.+0.j 12.+0.j]\n"
          ]
        }
      ],
      "source": [
        "y = np.arange(8, 13, dtype=complex)\n",
        "print(y)"
      ]
    },
    {
      "cell_type": "code",
      "execution_count": null,
      "metadata": {
        "id": "UElMQNyq2ZsA",
        "outputId": "99e91231-3c96-4a74-8011-86c425e24470"
      },
      "outputs": [
        {
          "name": "stdout",
          "output_type": "stream",
          "text": [
            "[0.+0.j 0.+0.j 0.+0.j 0.+0.j 0.+0.j]\n"
          ]
        }
      ],
      "source": [
        "simil_ceros = np.zeros_like(y)\n",
        "print(simil_ceros)"
      ]
    },
    {
      "cell_type": "code",
      "execution_count": null,
      "metadata": {
        "id": "3Jrl0xev2ZsB",
        "outputId": "806e3f96-6414-49c5-b452-49bb4dd4c150"
      },
      "outputs": [
        {
          "name": "stdout",
          "output_type": "stream",
          "text": [
            "[0.+0.j 0.+0.j 0.+0.j 0.+0.j 0.+0.j]\n",
            "[1.+0.j 1.+0.j 1.+0.j 1.+0.j 1.+0.j]\n"
          ]
        }
      ],
      "source": [
        "simil = np.zeros_like(y)\n",
        "simil_unos = np.ones_like(y)\n",
        "print(simil)\n",
        "print(simil_unos)"
      ]
    },
    {
      "cell_type": "markdown",
      "metadata": {
        "id": "mF_3DmBF2ZsB"
      },
      "source": [
        "#### Array identidad\n",
        "Una Matriz identidad, siempre debe ser cuadrada, por lo que sólo es necesario indicar una dimensión."
      ]
    },
    {
      "cell_type": "code",
      "execution_count": null,
      "metadata": {
        "id": "18av7-sN2ZsC",
        "outputId": "d88b32a8-2dc3-4a26-ae65-2854e78b0709"
      },
      "outputs": [
        {
          "name": "stdout",
          "output_type": "stream",
          "text": [
            "[[1. 0. 0. 0.]\n",
            " [0. 1. 0. 0.]\n",
            " [0. 0. 1. 0.]\n",
            " [0. 0. 0. 1.]]\n"
          ]
        }
      ],
      "source": [
        "A = np.identity(4)\n",
        "print(A)"
      ]
    },
    {
      "cell_type": "markdown",
      "metadata": {
        "id": "0emA1Elq2ZsC"
      },
      "source": [
        "<div class=\"alert alert-info\"><strong>Nota:</strong>\n",
        "También puedes probar `np.eye()` y `np.diag()`.\n",
        "</div>"
      ]
    },
    {
      "cell_type": "code",
      "execution_count": null,
      "metadata": {
        "id": "AQXZ8LIl2ZsD"
      },
      "outputs": [],
      "source": [
        "help(np.eye)"
      ]
    },
    {
      "cell_type": "code",
      "execution_count": null,
      "metadata": {
        "id": "ZZbrf3ZO2ZsD",
        "outputId": "1d57abe8-627d-479b-ee2e-74f358c29e16"
      },
      "outputs": [
        {
          "name": "stdout",
          "output_type": "stream",
          "text": [
            "[[1. 0. 0. 0.]\n",
            " [0. 1. 0. 0.]\n",
            " [0. 0. 1. 0.]\n",
            " [0. 0. 0. 1.]]\n"
          ]
        }
      ],
      "source": [
        "print(np.eye(4))"
      ]
    },
    {
      "cell_type": "code",
      "execution_count": null,
      "metadata": {
        "id": "Bpw-bSRE2ZsD",
        "outputId": "43b2d813-71b8-48e0-f36f-e041c6401224"
      },
      "outputs": [
        {
          "data": {
            "text/plain": [
              "array([[1., 0., 0., 0., 0.],\n",
              "       [0., 1., 0., 0., 0.],\n",
              "       [0., 0., 1., 0., 0.],\n",
              "       [0., 0., 0., 1., 0.],\n",
              "       [0., 0., 0., 0., 1.]])"
            ]
          },
          "execution_count": 93,
          "metadata": {},
          "output_type": "execute_result"
        }
      ],
      "source": [
        "np.eye(5, dtype=float)"
      ]
    },
    {
      "cell_type": "code",
      "execution_count": null,
      "metadata": {
        "id": "Mn97xLP-2ZsE",
        "outputId": "5c479d64-9c01-4b96-d51b-83c2a332988c"
      },
      "outputs": [
        {
          "data": {
            "text/plain": [
              "array([[1, 0, 0, 0],\n",
              "       [0, 1, 0, 0],\n",
              "       [0, 0, 1, 0],\n",
              "       [0, 0, 0, 1]])"
            ]
          },
          "execution_count": 60,
          "metadata": {},
          "output_type": "execute_result"
        }
      ],
      "source": [
        "np.eye(4, dtype=int)"
      ]
    },
    {
      "cell_type": "code",
      "execution_count": null,
      "metadata": {
        "id": "-MX1DVqE2ZsE",
        "outputId": "876bd9ca-9e86-4bdb-832d-5c1fac6759cd"
      },
      "outputs": [
        {
          "data": {
            "text/plain": [
              "array([[1.+0.j, 0.+0.j, 0.+0.j, 0.+0.j],\n",
              "       [0.+0.j, 1.+0.j, 0.+0.j, 0.+0.j],\n",
              "       [0.+0.j, 0.+0.j, 1.+0.j, 0.+0.j],\n",
              "       [0.+0.j, 0.+0.j, 0.+0.j, 1.+0.j]])"
            ]
          },
          "execution_count": 61,
          "metadata": {},
          "output_type": "execute_result"
        }
      ],
      "source": [
        "np.eye(4, dtype=complex)"
      ]
    },
    {
      "cell_type": "code",
      "execution_count": null,
      "metadata": {
        "id": "w-ujKtNI2ZsF",
        "outputId": "102203b1-a079-4d17-c1ae-1da8022cb5f0"
      },
      "outputs": [
        {
          "data": {
            "text/plain": [
              "array([[0., 0., 0., 0.],\n",
              "       [1., 0., 0., 0.],\n",
              "       [0., 1., 0., 0.],\n",
              "       [0., 0., 1., 0.]])"
            ]
          },
          "execution_count": 103,
          "metadata": {},
          "output_type": "execute_result"
        }
      ],
      "source": [
        "np.eye(4, k = -1)"
      ]
    },
    {
      "cell_type": "code",
      "execution_count": null,
      "metadata": {
        "id": "XRFTe3MN2ZsG"
      },
      "outputs": [],
      "source": [
        "help(np.diag)"
      ]
    },
    {
      "cell_type": "code",
      "execution_count": null,
      "metadata": {
        "id": "bkrSSf_R2ZsG",
        "outputId": "ed03b56f-07cb-4003-a29c-3ab5330b1ae2"
      },
      "outputs": [
        {
          "name": "stdout",
          "output_type": "stream",
          "text": [
            "[[0 1 2]\n",
            " [3 4 5]\n",
            " [6 7 8]]\n",
            "[0 4 8]\n",
            "[3 7]\n",
            "[2]\n"
          ]
        }
      ],
      "source": [
        "a = np.array([[0, 1, 2],\n",
        "              [3, 4, 5],\n",
        "              [6, 7, 8]])\n",
        "print(a)\n",
        "b = np.diag(a)\n",
        "print(b)\n",
        "c = np.diag(a, k=-1)\n",
        "print(c)\n",
        "d = np.diag(a, k=2)\n",
        "print(d)"
      ]
    },
    {
      "cell_type": "markdown",
      "metadata": {
        "id": "ij9r9-gH2ZsI"
      },
      "source": [
        "### Rangos\n",
        "Veamos como hacer arreglos de un determinado rango"
      ]
    },
    {
      "cell_type": "markdown",
      "metadata": {
        "id": "Q4hUjeaw2ZsI"
      },
      "source": [
        "#### np.arange"
      ]
    },
    {
      "cell_type": "markdown",
      "metadata": {
        "id": "_7ViYY822ZsI"
      },
      "source": [
        "NumPy, definamos __un array que vaya de 2 a 7__:"
      ]
    },
    {
      "cell_type": "code",
      "execution_count": null,
      "metadata": {
        "id": "RmjjBvsU2ZsJ",
        "outputId": "69b65a59-95ae-4d70-a71f-7f7cdae4b12c"
      },
      "outputs": [
        {
          "data": {
            "text/plain": [
              "array([2, 3, 4, 5, 6])"
            ]
          },
          "execution_count": 105,
          "metadata": {},
          "output_type": "execute_result"
        }
      ],
      "source": [
        "a = np.arange(2, 7)\n",
        "a"
      ]
    },
    {
      "cell_type": "markdown",
      "metadata": {
        "id": "FbQoMVwC2ZsJ"
      },
      "source": [
        "__Observa con atención el resultado anterior__\n",
        "Hay algo que deberías grabar para simpre?\n",
        "__El último elemento no es 7 sino 6__"
      ]
    },
    {
      "cell_type": "markdown",
      "metadata": {
        "id": "UaUjirfj2ZsK"
      },
      "source": [
        "NumPy, hagamos __un array que vaya de 0 a 10, de 3 en 3__:"
      ]
    },
    {
      "cell_type": "code",
      "execution_count": null,
      "metadata": {
        "id": "KB-530Pw2ZsK",
        "outputId": "cc95e7b1-94d9-471a-95bd-416460b1c778"
      },
      "outputs": [
        {
          "name": "stdout",
          "output_type": "stream",
          "text": [
            "[ 0  4  8 12]\n"
          ]
        }
      ],
      "source": [
        "s = np.arange(0, 15, 4)\n",
        "print(s)"
      ]
    },
    {
      "cell_type": "markdown",
      "metadata": {
        "id": "Ytv7SOhl2ZsL"
      },
      "source": [
        "#### np.linspace"
      ]
    },
    {
      "cell_type": "markdown",
      "metadata": {
        "id": "zlrW7uqx2ZsM"
      },
      "source": [
        "El que ha usado `MATLAB` alguna vez, seguro que esto le parece conocido:"
      ]
    },
    {
      "cell_type": "code",
      "execution_count": null,
      "metadata": {
        "id": "usD4B5_V2ZsM",
        "outputId": "2ac8b3e9-e685-43b8-db44-52a1ccdfb08a"
      },
      "outputs": [
        {
          "name": "stdout",
          "output_type": "stream",
          "text": [
            "[ 0.  1.  2.  3.  4.  5.  6.  7.  8.  9. 10.]\n"
          ]
        }
      ],
      "source": [
        "# Definamos una variable, por ejemplo x, desde 0 hasta 10, con un total de 21 pasos\n",
        "x = np.linspace(0, 10, 11)\n",
        "print(x)"
      ]
    },
    {
      "cell_type": "markdown",
      "metadata": {
        "id": "dlCeQvo32ZsN"
      },
      "source": [
        "En este caso sí que se incluye el último elemento."
      ]
    },
    {
      "cell_type": "markdown",
      "metadata": {
        "id": "ATcEzjsp2ZsN"
      },
      "source": [
        "<div class=\"alert alert-info\"><strong>Nota:</strong>\n",
        "También puedes probar `np.logspace()`\n",
        "</div>"
      ]
    },
    {
      "cell_type": "code",
      "execution_count": null,
      "metadata": {
        "id": "zCOIr-vw2ZsO",
        "outputId": "69e9a554-87b6-44a2-8fc7-a07eb692afc8"
      },
      "outputs": [
        {
          "name": "stdout",
          "output_type": "stream",
          "text": [
            "[1.e+00 1.e+01 1.e+02 1.e+03 1.e+04 1.e+05 1.e+06 1.e+07 1.e+08 1.e+09\n",
            " 1.e+10]\n"
          ]
        }
      ],
      "source": [
        "y = np.logspace(0, 10, 11)\n",
        "print(y)"
      ]
    },
    {
      "cell_type": "markdown",
      "metadata": {
        "id": "SMkSGthO2ZsP"
      },
      "source": [
        "### reshape\n",
        "Supongamos que tenemos un vector con datos y queremos darle el formato de una matriz."
      ]
    },
    {
      "cell_type": "markdown",
      "metadata": {
        "id": "9cBdhkrb2ZsQ"
      },
      "source": [
        "Con `np.arange()` es posible crear \"vectores\" cuyos elementos tomen valores consecutivos o equiespaciados, como hemos visto anteriormente. ¿Podemos hacer lo mismo con \"matrices\"? Pues no, pero sí.\n",
        "Imaginemos que queremos crear algo como esto:\n",
        "\n",
        "\\begin{pmatrix}\n",
        "    1 & 2 & 3\\\\\n",
        "    4 & 5 & 6\\\\\n",
        "    7 & 8 & 9\\\\\n",
        "    \\end{pmatrix}\n",
        "\n",
        "* Comenzaremos por crear un array 1d con los valores $(1,2,3,4,5,6,7,8,9)$ usando `np.arange()`.\n",
        "* Luego le daremos forma de array 2d. con `np.reshape(array, (dim0, dim1))`.\n",
        "Esto es:"
      ]
    },
    {
      "cell_type": "code",
      "execution_count": null,
      "metadata": {
        "id": "vdk1azI_2ZsQ",
        "outputId": "503bc4b9-6f09-4a2c-c01f-7b1bef5e29b7"
      },
      "outputs": [
        {
          "name": "stdout",
          "output_type": "stream",
          "text": [
            "[ 1  2  3  4  5  6  7  8  9 10 11 12]\n"
          ]
        },
        {
          "data": {
            "text/plain": [
              "array([[ 1,  2,  3,  4,  5,  6],\n",
              "       [ 7,  8,  9, 10, 11, 12]])"
            ]
          },
          "execution_count": 120,
          "metadata": {},
          "output_type": "execute_result"
        }
      ],
      "source": [
        "a = np.arange(1, 13)\n",
        "print(a)\n",
        "M = np.reshape(a, [2, 6])\n",
        "M"
      ]
    },
    {
      "cell_type": "code",
      "execution_count": null,
      "metadata": {
        "id": "ZnJhd22l2ZsR",
        "outputId": "b5d292c2-29c7-43e5-aa89-303f679c72a8"
      },
      "outputs": [
        {
          "data": {
            "text/plain": [
              "array([[ 1,  2,  3,  4,  5,  6],\n",
              "       [ 7,  8,  9, 10, 11, 12]])"
            ]
          },
          "execution_count": 90,
          "metadata": {},
          "output_type": "execute_result"
        }
      ],
      "source": [
        "# También funciona como método\n",
        "N = a.reshape([2,6])\n",
        "N"
      ]
    },
    {
      "cell_type": "markdown",
      "metadata": {
        "id": "g6PJbcjZ2ZsR"
      },
      "source": [
        "<div class=\"alert alert-info\"><strong>Nota:</strong>\n",
        "No vamos a entrar demasiado en qué son los métodos, pero debes saber que están asociados a la programación orientada a objetos y que en Python todo es un objeto. Lo que debes pensar es que son unas funciones especiales en las que el argumento más importante (sobre el que se realiza la acción) se escribe delante seguido de un punto. Por ejemplo: `<objeto>.método(argumentos)`\n",
        "</div>"
      ]
    },
    {
      "cell_type": "markdown",
      "metadata": {
        "id": "BlNX5aiZ2ZsS"
      },
      "source": [
        "<div class=\"alert alert-success\"><strong>Nota:</strong>\n",
        "¿Vieron que bonita la matriz?\n",
        " Esto se puede lograr, gracias a que en Markdown, podemos utilizar <b><em>LaTex</em></b> para escribir, por ejemplo, ecuaciones.\n",
        "</div>\n",
        "\n",
        "   $$ x_i = \\log\\left[{\\frac{y^{2 . z}}{5-\\sin\\left(\\theta \\cdot \\sqrt{\\Phi}\\right)}}\\right] $$"
      ]
    },
    {
      "cell_type": "markdown",
      "metadata": {
        "id": "OQdmOE8V2ZsS"
      },
      "source": [
        "## Operaciones"
      ]
    },
    {
      "cell_type": "markdown",
      "metadata": {
        "id": "Zig_c58-2ZsT"
      },
      "source": [
        "### Operaciones elemento a elemento"
      ]
    },
    {
      "cell_type": "markdown",
      "metadata": {
        "id": "i8O0KuCa2ZsU"
      },
      "source": [
        "Ahora que sabemos varias cosas de los arrays, hagamos algunas operaciones.\n",
        "El funcionamiento es el habitual en _FORTRAN_ y _MATLAB_ y poco hay que añadir:"
      ]
    },
    {
      "cell_type": "code",
      "execution_count": null,
      "metadata": {
        "id": "gs0IkfXd2ZsU",
        "outputId": "b878e93d-aea5-47fa-96d9-fcbe06d227f9"
      },
      "outputs": [
        {
          "name": "stdout",
          "output_type": "stream",
          "text": [
            "arr = [ 0  1  2  3  4  5  6  7  8  9 10]\n",
            "[55 56 57 58 59 60 61 62 63 64 65]\n"
          ]
        }
      ],
      "source": [
        "#crear un array y sumarle un número\n",
        "arr = np.arange(11)\n",
        "print('arr =', arr)\n",
        "print(arr + 55)"
      ]
    },
    {
      "cell_type": "code",
      "execution_count": null,
      "metadata": {
        "id": "VLoTPE9j2ZsU",
        "outputId": "bb7d8efd-b9ef-4cfc-f0e3-76efd73d7e5a"
      },
      "outputs": [
        {
          "data": {
            "text/plain": [
              "array([ 0,  2,  4,  6,  8, 10, 12, 14, 16, 18, 20])"
            ]
          },
          "execution_count": 122,
          "metadata": {},
          "output_type": "execute_result"
        }
      ],
      "source": [
        "#multiplicarlo por un número\n",
        "arr * 2"
      ]
    },
    {
      "cell_type": "code",
      "execution_count": null,
      "metadata": {
        "id": "zwlGBVjR2ZsV",
        "outputId": "f67fcc8d-5706-40a5-9eed-607127ba759c"
      },
      "outputs": [
        {
          "data": {
            "text/plain": [
              "array([  0,   1,   4,   9,  16,  25,  36,  49,  64,  81, 100])"
            ]
          },
          "execution_count": 123,
          "metadata": {},
          "output_type": "execute_result"
        }
      ],
      "source": [
        "#elevarlo al cuadrado\n",
        "arr ** 2"
      ]
    },
    {
      "cell_type": "code",
      "execution_count": null,
      "metadata": {
        "id": "Jgfw5rv02ZsV",
        "outputId": "a38aa208-2e83-429f-f854-a0976943da8a"
      },
      "outputs": [
        {
          "data": {
            "text/plain": [
              "array([0.        , 0.76159416, 0.96402758, 0.99505475, 0.9993293 ,\n",
              "       0.9999092 , 0.99998771, 0.99999834, 0.99999977, 0.99999997,\n",
              "       1.        ])"
            ]
          },
          "execution_count": 124,
          "metadata": {},
          "output_type": "execute_result"
        }
      ],
      "source": [
        "#calcular una función\n",
        "np.tanh(arr)"
      ]
    },
    {
      "cell_type": "markdown",
      "metadata": {
        "id": "O75NNrVN2ZsW"
      },
      "source": [
        "<div class=\"alert alert-info\"><strong>Entrenamiento:</strong>\n",
        "Puedes tratar de comparar la diferencia de tiempo entre realizar la operación en bloque, como ahora, y realizarla elemento a elemento, recorriendo el array con un bucle.\n",
        "</div>"
      ]
    },
    {
      "cell_type": "code",
      "execution_count": null,
      "metadata": {
        "id": "Zplcpuln2ZsW",
        "outputId": "1622111e-8a89-4c81-dfe6-3d598a2f9770"
      },
      "outputs": [
        {
          "name": "stdout",
          "output_type": "stream",
          "text": [
            "CPU times: user 43 µs, sys: 4 µs, total: 47 µs\n",
            "Wall time: 52.7 µs\n"
          ]
        },
        {
          "data": {
            "text/plain": [
              "array([0.        , 0.76159416, 0.96402758, 0.99505475, 0.9993293 ,\n",
              "       0.9999092 , 0.99998771, 0.99999834, 0.99999977, 0.99999997,\n",
              "       1.        ])"
            ]
          },
          "execution_count": 125,
          "metadata": {},
          "output_type": "execute_result"
        }
      ],
      "source": [
        "#medir el tiempo utilizado para calcular la función\n",
        "%time np.tanh(arr)"
      ]
    },
    {
      "cell_type": "markdown",
      "metadata": {
        "id": "j0Xqpqlm2ZsY"
      },
      "source": [
        "__Si las operaciones involucran dos arrays también se realizan elemento a elemento__"
      ]
    },
    {
      "cell_type": "code",
      "execution_count": null,
      "metadata": {
        "id": "XDc8Zvur2ZsZ",
        "outputId": "63fffdbc-6b9c-4cd2-9811-c87f1cefac20"
      },
      "outputs": [
        {
          "name": "stdout",
          "output_type": "stream",
          "text": [
            "[ 0  1  2  3  4  5  6  7  8  9 10]\n",
            "[20 21 22 23 24 25 26 27 28 29 30]\n"
          ]
        }
      ],
      "source": [
        "#creamos dos arrays\n",
        "arr1 = np.arange(0, 11)\n",
        "arr2 = np.arange(20, 31)\n",
        "print(arr1)\n",
        "print(arr2)"
      ]
    },
    {
      "cell_type": "code",
      "execution_count": null,
      "metadata": {
        "id": "P2JJIR5o2Zsa",
        "outputId": "631c06d4-930b-4a73-eb73-35d64018e7f9"
      },
      "outputs": [
        {
          "data": {
            "text/plain": [
              "array([20, 22, 24, 26, 28, 30, 32, 34, 36, 38, 40])"
            ]
          },
          "execution_count": 127,
          "metadata": {},
          "output_type": "execute_result"
        }
      ],
      "source": [
        "#los sumamos\n",
        "arr1 + arr2"
      ]
    },
    {
      "cell_type": "code",
      "execution_count": null,
      "metadata": {
        "id": "cre8YkP82Zsa",
        "outputId": "fc488688-2039-4d51-9e91-cc59b691549a"
      },
      "outputs": [
        {
          "data": {
            "text/plain": [
              "array([  0,  21,  44,  69,  96, 125, 156, 189, 224, 261, 300])"
            ]
          },
          "execution_count": 128,
          "metadata": {},
          "output_type": "execute_result"
        }
      ],
      "source": [
        "#multiplicamos\n",
        "arr1 * arr2"
      ]
    },
    {
      "cell_type": "markdown",
      "metadata": {
        "id": "UOrVkKft2Zsb"
      },
      "source": [
        "#### Comparaciones"
      ]
    },
    {
      "cell_type": "code",
      "execution_count": null,
      "metadata": {
        "id": "QKTnexum2Zsd",
        "outputId": "2aaa3c10-8576-4853-b36a-229922d36cc7"
      },
      "outputs": [
        {
          "data": {
            "text/plain": [
              "array([ True,  True,  True,  True,  True,  True,  True,  True,  True,\n",
              "        True,  True])"
            ]
          },
          "execution_count": 130,
          "metadata": {},
          "output_type": "execute_result"
        }
      ],
      "source": [
        "# >,<\n",
        "arr1 < arr2"
      ]
    },
    {
      "cell_type": "code",
      "execution_count": null,
      "metadata": {
        "id": "7JJqzuvo2Zse",
        "outputId": "56cf5195-4bf8-47ea-b9e3-be1ffc01cc47"
      },
      "outputs": [
        {
          "data": {
            "text/plain": [
              "array([False, False, False, False, False, False, False, False, False,\n",
              "       False, False])"
            ]
          },
          "execution_count": 131,
          "metadata": {},
          "output_type": "execute_result"
        }
      ],
      "source": [
        "# ==\n",
        "arr1 == arr2 # ¡Cuidado! en este caso, los arrays son de integers, no de floats"
      ]
    },
    {
      "cell_type": "code",
      "execution_count": null,
      "metadata": {
        "id": "zgrHmmOm2Zsg"
      },
      "outputs": [],
      "source": [
        "# >,<\n",
        "arr1 < arr2"
      ]
    },
    {
      "cell_type": "markdown",
      "metadata": {
        "id": "Ln6i4gFN2Zsj"
      },
      "source": [
        "---"
      ]
    }
  ],
  "metadata": {
    "anaconda-cloud": {},
    "kernelspec": {
      "display_name": "Python 3 (ipykernel)",
      "language": "python",
      "name": "python3"
    },
    "language_info": {
      "codemirror_mode": {
        "name": "ipython",
        "version": 3
      },
      "file_extension": ".py",
      "mimetype": "text/x-python",
      "name": "python",
      "nbconvert_exporter": "python",
      "pygments_lexer": "ipython3",
      "version": "3.9.7"
    },
    "colab": {
      "provenance": []
    }
  },
  "nbformat": 4,
  "nbformat_minor": 0
}