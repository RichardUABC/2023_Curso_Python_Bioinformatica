{
  "cells": [
    {
      "cell_type": "markdown",
      "metadata": {
        "id": "njLAtkir2jnR"
      },
      "source": [
        "# Secciones de arrays"
      ]
    },
    {
      "cell_type": "markdown",
      "metadata": {
        "id": "VIOh_mmZ2jnT"
      },
      "source": [
        "_Hasta ahora sabemos cómo crear arrays y realizar algunas operaciones con ellos, sin embargo, todavía no hemos aprendido cómo acceder a elementos concretos del array_"
      ]
    },
    {
      "cell_type": "code",
      "execution_count": null,
      "metadata": {
        "id": "tztfM6lT2jnU"
      },
      "outputs": [],
      "source": [
        "import numpy as np"
      ]
    },
    {
      "cell_type": "markdown",
      "metadata": {
        "id": "X0av401y2jnW"
      },
      "source": [
        "## Arrays de una dimensión"
      ]
    },
    {
      "cell_type": "markdown",
      "metadata": {
        "id": "9BxOf6s92jnX"
      },
      "source": [
        "<div class=\"alert alert-warning\" role=\"alert\">\n",
        "  Observemos que aqui usaremos el comando de <b> np.arange</b>, que crea un array de dimensión definida y lo llena con valores.\n",
        "</div>"
      ]
    },
    {
      "cell_type": "code",
      "execution_count": null,
      "metadata": {
        "id": "fOSu4NGA2jnY",
        "outputId": "a5240d54-7260-4f4a-95c2-3203dfa786b7"
      },
      "outputs": [
        {
          "data": {
            "text/plain": [
              "array([0, 1, 2, 3, 4, 5, 6, 7, 8, 9])"
            ]
          },
          "execution_count": 27,
          "metadata": {},
          "output_type": "execute_result"
        }
      ],
      "source": [
        "arr = np.arange(10)\n",
        "arr"
      ]
    },
    {
      "cell_type": "markdown",
      "metadata": {
        "id": "EndHpLGl2jna"
      },
      "source": [
        "### Acceso a los datos"
      ]
    },
    {
      "cell_type": "code",
      "execution_count": null,
      "metadata": {
        "id": "aeJQ5jR02jnb",
        "outputId": "2b421f78-850a-4200-959f-8a5333c94b20"
      },
      "outputs": [
        {
          "data": {
            "text/plain": [
              "4"
            ]
          },
          "execution_count": 30,
          "metadata": {},
          "output_type": "execute_result"
        }
      ],
      "source": [
        "# Accediendo al primer elemento\n",
        "arr[4]"
      ]
    },
    {
      "cell_type": "code",
      "execution_count": null,
      "metadata": {
        "id": "BzNPG-ej2jnd",
        "outputId": "16dbc8df-228a-4bf7-ebdb-8960a18cf01e"
      },
      "outputs": [
        {
          "data": {
            "text/plain": [
              "7"
            ]
          },
          "execution_count": 32,
          "metadata": {},
          "output_type": "execute_result"
        }
      ],
      "source": [
        "# Accediendo al último\n",
        "arr[-3]"
      ]
    },
    {
      "cell_type": "markdown",
      "metadata": {
        "id": "AG0DPMdc2jne"
      },
      "source": [
        "### __¡Atención!__"
      ]
    },
    {
      "cell_type": "markdown",
      "metadata": {
        "id": "8ekNjMAs2jnf"
      },
      "source": [
        "<div class=\"alert alert-danger\" role=\"alert\">\n",
        "NumPy devuelve <b>__vistas__ </b> de la sección que le pidamos, no <b>__copias__ </b>. Esto quiere decir que debemos prestar mucha atención a este comportamiento:\n",
        "</div>"
      ]
    },
    {
      "cell_type": "code",
      "execution_count": null,
      "metadata": {
        "id": "8xp1PkF12jnf",
        "outputId": "c29bdb47-fa18-436e-8b80-900383047426"
      },
      "outputs": [
        {
          "name": "stdout",
          "output_type": "stream",
          "text": [
            "[0 1 2 3 4 5 6 7 8 9] [0 1 2 3 4 5 6 7 8 9]\n"
          ]
        }
      ],
      "source": [
        "arr_a = np.arange(10)\n",
        "arr_b = arr_a\n",
        "print(arr_a, arr_b)"
      ]
    },
    {
      "cell_type": "code",
      "execution_count": null,
      "metadata": {
        "id": "zS5xzGCJ2jnh",
        "outputId": "423f1012-4a0c-4b84-ff35-123f6c498145"
      },
      "outputs": [
        {
          "name": "stdout",
          "output_type": "stream",
          "text": [
            "[2 1 2 3 4 5 6 7 8 9] [2 1 2 3 4 5 6 7 8 9]\n"
          ]
        }
      ],
      "source": [
        "arr_b[0] = 2\n",
        "print(arr_a, arr_b)"
      ]
    },
    {
      "cell_type": "code",
      "execution_count": null,
      "metadata": {
        "id": "9PjQHpiH2jnh",
        "outputId": "e92aaa3c-a540-49b3-8bb1-68fde73436ec"
      },
      "outputs": [
        {
          "name": "stdout",
          "output_type": "stream",
          "text": [
            "[2 1 2 3 4 5 6 7 8 9] [2 1 2 3 4 5 6 7 8 9]\n"
          ]
        }
      ],
      "source": [
        "arr_c = arr_a.copy()\n",
        "print(arr_a, arr_c)"
      ]
    },
    {
      "cell_type": "code",
      "execution_count": null,
      "metadata": {
        "id": "qJ2fm8mE2jni",
        "outputId": "2dc0e8db-1bdd-4654-9d13-364a5409f1bd"
      },
      "outputs": [
        {
          "name": "stdout",
          "output_type": "stream",
          "text": [
            "[2 1 2 3 4 5 6 7 8 9] [0 1 2 3 4 5 6 7 8 9]\n"
          ]
        }
      ],
      "source": [
        "arr_c[0] = 0\n",
        "print(arr_a, arr_c)"
      ]
    },
    {
      "cell_type": "code",
      "execution_count": null,
      "metadata": {
        "id": "F9epHNPW2jnj",
        "outputId": "f94bd301-d6f7-4822-a6d1-4da5ee912f04"
      },
      "outputs": [
        {
          "name": "stdout",
          "output_type": "stream",
          "text": [
            "[0 1 2 3 4 5 6 7 8 9]\n",
            "[5 6 7 8 9]\n"
          ]
        }
      ],
      "source": [
        "arr = np.arange(10)\n",
        "vec = arr[5:]\n",
        "\n",
        "print(arr)\n",
        "print(vec)"
      ]
    },
    {
      "cell_type": "code",
      "execution_count": null,
      "metadata": {
        "id": "yj9Dou2e2jnj",
        "outputId": "239fc662-1dba-4ebb-afef-68bc83ca9c9e"
      },
      "outputs": [
        {
          "name": "stdout",
          "output_type": "stream",
          "text": [
            "7\n",
            "[ 5  6 21  8  9] [ 0  1  2  3  4  5  6 21  8  9]\n"
          ]
        }
      ],
      "source": [
        "print(vec[2])\n",
        "vec[2] = 21\n",
        "print(vec, arr)"
      ]
    },
    {
      "cell_type": "code",
      "execution_count": null,
      "metadata": {
        "id": "33qdGApj2jnk",
        "outputId": "ee77e5e5-2c14-43f8-d4b9-9c7fdd0cb6e5"
      },
      "outputs": [
        {
          "name": "stdout",
          "output_type": "stream",
          "text": [
            "[  0   1   2   3   4 999   6  21   8   9]\n",
            "[999   6  21   8   9]\n"
          ]
        }
      ],
      "source": [
        "arr[5] = 999\n",
        "\n",
        "print(arr)\n",
        "print(vec)"
      ]
    },
    {
      "cell_type": "markdown",
      "metadata": {
        "id": "5DZU8akR2jnl"
      },
      "source": [
        "Lo mismo ocurre al revés:"
      ]
    },
    {
      "cell_type": "code",
      "execution_count": null,
      "metadata": {
        "id": "L7rZq2qy2jnm",
        "outputId": "6ab1e362-3e00-4c26-97c8-8b2974bcdde2"
      },
      "outputs": [
        {
          "name": "stdout",
          "output_type": "stream",
          "text": [
            "[0 1 2 3 4 5 6 7 8 9]\n",
            "[5 6 7 8 9]\n"
          ]
        }
      ],
      "source": [
        "arr = np.arange(10)\n",
        "vec = arr[5:].copy()\n",
        "\n",
        "print(arr)\n",
        "print(vec)"
      ]
    },
    {
      "cell_type": "code",
      "execution_count": null,
      "metadata": {
        "id": "j3fOf1O62jnm",
        "outputId": "7026471a-1a93-4268-a194-dee7a1a26711"
      },
      "outputs": [
        {
          "name": "stdout",
          "output_type": "stream",
          "text": [
            "[0 1 2 3 4 5 6 7 8 9]\n",
            "[  5   6   7   8 999]\n"
          ]
        }
      ],
      "source": [
        "vec[-1] = 999\n",
        "\n",
        "print(arr)\n",
        "print(vec)"
      ]
    },
    {
      "cell_type": "markdown",
      "metadata": {
        "id": "DpnfHK-12jnn"
      },
      "source": [
        "`vec` apunta a las direcciones de memoria donde están guardados los elementos del array `arr` que hemos seleccionado, no copia sus valores, a menos que explícitamente hagamos:"
      ]
    },
    {
      "cell_type": "code",
      "execution_count": null,
      "metadata": {
        "id": "VsODmiIx2jnn",
        "outputId": "a9054495-892e-421b-fa3d-c423f494561a"
      },
      "outputs": [
        {
          "name": "stdout",
          "output_type": "stream",
          "text": [
            "[0 1 2 3 4 5 6 7 8 9]\n",
            "[0 1 2 3 4 5]\n"
          ]
        }
      ],
      "source": [
        "arr = np.arange(10)\n",
        "vec = arr[:6].copy()\n",
        "\n",
        "print(arr)\n",
        "print(vec)"
      ]
    },
    {
      "cell_type": "code",
      "execution_count": null,
      "metadata": {
        "id": "2DV86Zyz2jno",
        "outputId": "770ec585-030d-4bfb-e960-308ac2b48efa"
      },
      "outputs": [
        {
          "name": "stdout",
          "output_type": "stream",
          "text": [
            "[  0   1   2   3   4 999   6   7   8   9]\n",
            "[0 1 2 3 4 5]\n"
          ]
        }
      ],
      "source": [
        "arr[5] = 999\n",
        "\n",
        "print(arr)\n",
        "print(vec)"
      ]
    },
    {
      "cell_type": "markdown",
      "metadata": {
        "id": "SD17YBtG2jno"
      },
      "source": [
        "## Arrays de dos dimensiones"
      ]
    },
    {
      "cell_type": "markdown",
      "metadata": {
        "id": "wQDSGK3B2jnp"
      },
      "source": [
        "### Método _reshape()_\n",
        "\n",
        "Este comando nos permite cambiar las dimensiones de un arreglo, por ejemplo transformar un vector en matriz, sin perder su contenido."
      ]
    },
    {
      "cell_type": "code",
      "execution_count": null,
      "metadata": {
        "id": "Ixblnf8L2jnp",
        "outputId": "f85c3336-274d-4ff6-c150-8dce3c2d2388"
      },
      "outputs": [
        {
          "data": {
            "text/plain": [
              "array([[0, 1, 2],\n",
              "       [3, 4, 5],\n",
              "       [6, 7, 8]])"
            ]
          },
          "execution_count": 51,
          "metadata": {},
          "output_type": "execute_result"
        }
      ],
      "source": [
        "# En este caso, primero crearemos un vector de longitud 9 y luego le daremos forma de una matriz 3x3\n",
        "arr = np.arange(9).reshape([3, 3])\n",
        "arr"
      ]
    },
    {
      "cell_type": "markdown",
      "metadata": {
        "id": "uiSWdZIr2jnp"
      },
      "source": [
        "Aqui accedemos al elemento [0, 1] de la matriz, recordar que Python indexa desde cero."
      ]
    },
    {
      "cell_type": "code",
      "execution_count": null,
      "metadata": {
        "id": "L_EJz0Oo2jnq",
        "outputId": "0fe101a9-143a-45c6-9f71-01d3f9a8a45a"
      },
      "outputs": [
        {
          "data": {
            "text/plain": [
              "1"
            ]
          },
          "execution_count": 52,
          "metadata": {},
          "output_type": "execute_result"
        }
      ],
      "source": [
        "arr[0,1]"
      ]
    },
    {
      "cell_type": "markdown",
      "metadata": {
        "id": "_wPYJucM2jnq"
      },
      "source": [
        "Aqui accedemos al elemento [0, -1] de la matriz, rfecordar que Python indexa desde cero."
      ]
    },
    {
      "cell_type": "code",
      "execution_count": null,
      "metadata": {
        "id": "ixc6Kuf52jnr",
        "outputId": "879ce155-0121-4aac-faff-cbead40478ef"
      },
      "outputs": [
        {
          "data": {
            "text/plain": [
              "2"
            ]
          },
          "execution_count": 17,
          "metadata": {},
          "output_type": "execute_result"
        }
      ],
      "source": [
        "arr[0, -1]"
      ]
    },
    {
      "cell_type": "code",
      "execution_count": null,
      "metadata": {
        "id": "WJckyohm2jnr",
        "outputId": "28851a07-828f-44ce-f63f-483abe74bd2d"
      },
      "outputs": [
        {
          "data": {
            "text/plain": [
              "8"
            ]
          },
          "execution_count": 18,
          "metadata": {},
          "output_type": "execute_result"
        }
      ],
      "source": [
        "arr[2, 2]"
      ]
    },
    {
      "cell_type": "markdown",
      "metadata": {
        "id": "Sl6QvyBu2jns"
      },
      "source": [
        "## Secciones de arrays"
      ]
    },
    {
      "cell_type": "markdown",
      "metadata": {
        "id": "yYnLfu2Y2jnt"
      },
      "source": [
        "Hasta ahora hemos visto cómo acceder a elementos aislados del array, pero la potencia de NumPy está en poder acceder a secciones enteras.  \n",
        "Para ello se usa la sintaxis `inicio:final:paso`: si alguno de estos valores no se pone toma un valor por defecto.  \n",
        "\n",
        "Veamos ejemplos:"
      ]
    },
    {
      "cell_type": "code",
      "execution_count": null,
      "metadata": {
        "id": "AWcYv3Vy2jnt",
        "outputId": "8b40deb8-9e72-4132-81a6-ba5b4a988acb"
      },
      "outputs": [
        {
          "data": {
            "text/plain": [
              "array([[ 0.,  1.,  2.,  3.,  4.,  5.,  6.,  7.,  8.],\n",
              "       [ 9., 10., 11., 12., 13., 14., 15., 16., 17.],\n",
              "       [18., 19., 20., 21., 22., 23., 24., 25., 26.],\n",
              "       [27., 28., 29., 30., 31., 32., 33., 34., 35.]])"
            ]
          },
          "execution_count": 53,
          "metadata": {},
          "output_type": "execute_result"
        }
      ],
      "source": [
        "M = np.arange(36, dtype=float).reshape(4, 9)\n",
        "M"
      ]
    },
    {
      "cell_type": "code",
      "execution_count": null,
      "metadata": {
        "id": "IKCneHG02jnt",
        "outputId": "4d506fe9-134f-4c6f-f7b9-78afb2a23e17"
      },
      "outputs": [
        {
          "data": {
            "text/plain": [
              "array([[ 9., 10., 11., 12., 13., 14., 15., 16., 17.],\n",
              "       [18., 19., 20., 21., 22., 23., 24., 25., 26.]])"
            ]
          },
          "execution_count": 20,
          "metadata": {},
          "output_type": "execute_result"
        }
      ],
      "source": [
        "# De la segunda a la tercera fila, incluida\n",
        "# Recordemos que Python no considera la última\n",
        "M[1:3]"
      ]
    },
    {
      "cell_type": "code",
      "execution_count": null,
      "metadata": {
        "id": "g67qh7FY2jnu",
        "outputId": "ad5c59fe-55fa-47fa-80f6-97182f941549"
      },
      "outputs": [
        {
          "data": {
            "text/plain": [
              "array([[ 1.,  3.],\n",
              "       [10., 12.]])"
            ]
          },
          "execution_count": 21,
          "metadata": {},
          "output_type": "execute_result"
        }
      ],
      "source": [
        "# Hasta la tercera fila sin incluir y de la segunda a la quinta columnas saltando dos\n",
        "M[:2, 1:5:2]"
      ]
    },
    {
      "cell_type": "code",
      "execution_count": null,
      "metadata": {
        "id": "gpyPcurw2jnu",
        "outputId": "1952e104-ee8f-4e8a-bdd8-d45a878a4d27"
      },
      "outputs": [
        {
          "data": {
            "text/plain": [
              "array([[10., 12.]])"
            ]
          },
          "execution_count": 22,
          "metadata": {},
          "output_type": "execute_result"
        }
      ],
      "source": [
        "M[1:2:1, 1:5:2]  # Veamos este caso"
      ]
    },
    {
      "cell_type": "markdown",
      "metadata": {
        "id": "7rrRqkFw2jnv"
      },
      "source": [
        "##### Ejemplo"
      ]
    },
    {
      "cell_type": "markdown",
      "metadata": {
        "id": "_NEa5ghY2jnv"
      },
      "source": [
        "Definamos una matriz que represente un tablero de ajedrez, con 0 los casilleros negros y 1 con los blancos."
      ]
    },
    {
      "cell_type": "code",
      "execution_count": null,
      "metadata": {
        "id": "eMfDEm5h2jnw",
        "outputId": "d133eb3c-59af-4563-ad72-4133d73ea2c4"
      },
      "outputs": [
        {
          "data": {
            "text/plain": [
              "array([[0, 1, 0, 1, 0, 1, 0, 1],\n",
              "       [1, 0, 1, 0, 1, 0, 1, 0],\n",
              "       [0, 1, 0, 1, 0, 1, 0, 1],\n",
              "       [1, 0, 1, 0, 1, 0, 1, 0],\n",
              "       [0, 1, 0, 1, 0, 1, 0, 1],\n",
              "       [1, 0, 1, 0, 1, 0, 1, 0],\n",
              "       [0, 1, 0, 1, 0, 1, 0, 1],\n",
              "       [1, 0, 1, 0, 1, 0, 1, 0]])"
            ]
          },
          "execution_count": 23,
          "metadata": {},
          "output_type": "execute_result"
        }
      ],
      "source": [
        "tablero = np.zeros([8, 8], dtype=int)\n",
        "\n",
        "tablero[0::2, 1::2] = 1 # [0::2] corresponde a las filas y [1::2] a las columnas\n",
        "# Esto significa que [0::2] comienza con la fila 0 y avanza de a saltos de 2\n",
        "# Esto significa que [1::2] comienza con la columna 1 y avanza de a saltos de 2\n",
        "tablero[1::2, 0::2] = 1\n",
        "# Esta sentencia hace algo similar a lo anterior\n",
        "\n",
        "tablero"
      ]
    },
    {
      "cell_type": "code",
      "execution_count": null,
      "metadata": {
        "id": "fSK1WoVw2jnw"
      },
      "outputs": [],
      "source": []
    }
  ],
  "metadata": {
    "anaconda-cloud": {},
    "kernelspec": {
      "display_name": "Python 3 (ipykernel)",
      "language": "python",
      "name": "python3"
    },
    "language_info": {
      "codemirror_mode": {
        "name": "ipython",
        "version": 3
      },
      "file_extension": ".py",
      "mimetype": "text/x-python",
      "name": "python",
      "nbconvert_exporter": "python",
      "pygments_lexer": "ipython3",
      "version": "3.9.7"
    },
    "colab": {
      "provenance": []
    }
  },
  "nbformat": 4,
  "nbformat_minor": 0
}