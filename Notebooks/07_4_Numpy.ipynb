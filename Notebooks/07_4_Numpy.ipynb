{
  "cells": [
    {
      "cell_type": "markdown",
      "metadata": {
        "id": "WzpZCO2E2tL0"
      },
      "source": [
        "# Álgebra Lineal con NumPy"
      ]
    },
    {
      "cell_type": "markdown",
      "metadata": {
        "id": "v_33kZcB2tL2"
      },
      "source": [
        "_Una vez que hemos visto el manejo básico de arrays en Python con NumPy, es hora de pasar a operaciones más interesantes como son las propias del Álgebra Lineal._\n",
        "\n",
        "_Los productos escalares y las inversiones de matrices están por todas partes en los programas científicos, así que vamos a estudiar cómo se realizan en Python._"
      ]
    },
    {
      "cell_type": "markdown",
      "metadata": {
        "id": "TotuRpeM2tL3"
      },
      "source": [
        "## Álgebra lineal"
      ]
    },
    {
      "cell_type": "markdown",
      "metadata": {
        "id": "zpLP6zvy2tL6"
      },
      "source": [
        "Como sabemos, las operaciones del álgebra lineal aparecen con mucha frecuencia a la hora de resolver sistemas de ecuaciones en derivadas parciales y en general al linealizar problemas de todo tipo, y suele ser necesario resolver sistemas con un número enorme de ecuaciones e incógnitas.  \n",
        "\n",
        "Gracias a los arrays de NumPy podemos abordar este tipo de cálculos en Python, ya que todas las funciones están escritas en C o Fortran y tenemos la opción de usar bibliotecas optimizadas al límite."
      ]
    },
    {
      "cell_type": "markdown",
      "metadata": {
        "id": "nrBaKODQ2tL6"
      },
      "source": [
        "El paquete de álgebra lineal en NumPy se llama `linalg`, así que importando NumPy con la convención habitual podemos acceder a él escribiendo `np.linalg`. Si imprimimos la ayuda del paquete vemos que tenemos funciones para:\n",
        "\n",
        "* Funciones básicas (norma de un vector, inversa de una matriz, determinante, traza)\n",
        "* Resolución de sistemas\n",
        "* Autovalores y autovectores\n",
        "* Descomposiciones matriciales (QR, SVD)\n",
        "* Pseudoinversas"
      ]
    },
    {
      "cell_type": "code",
      "execution_count": null,
      "metadata": {
        "id": "RsqBJsWF2tL7"
      },
      "outputs": [],
      "source": [
        "import numpy as np"
      ]
    },
    {
      "cell_type": "code",
      "execution_count": null,
      "metadata": {
        "id": "E5rVecSg2tL9"
      },
      "outputs": [],
      "source": [
        "from numpy.linalg import norm, det\n",
        "#help(norm)"
      ]
    },
    {
      "cell_type": "code",
      "execution_count": null,
      "metadata": {
        "id": "MMUKC9zv2tL_"
      },
      "outputs": [],
      "source": [
        "# help(np.linalg)"
      ]
    },
    {
      "cell_type": "markdown",
      "metadata": {
        "id": "ldMrryfs2tMC"
      },
      "source": [
        "Recordemos que si queremos usar una función de un paquete pero no queremos escribir la \"ruta\" completa cada vez, podemos usar la sintaxis `from package import func`:"
      ]
    },
    {
      "cell_type": "markdown",
      "metadata": {
        "id": "RSkYOxKa2tMD"
      },
      "source": [
        "El producto matricial usual (no el que se hace elemento a elemento, sino el del álgebra lineal) se calcula con la misma función que el producto matriz-vector y el producto escalar vector-vector: con la función `dot`, que **no** está en el paquete `linalg` sino directamente en `numpy` y no hace falta importarlo."
      ]
    },
    {
      "cell_type": "code",
      "execution_count": null,
      "metadata": {
        "id": "Na3aicVN2tMF",
        "outputId": "2e3a9c75-1a68-4531-e692-393a98bff0ea"
      },
      "outputs": [
        {
          "name": "stdout",
          "output_type": "stream",
          "text": [
            "[1.732 1.414 1.   ]\n",
            "[1.    1.414 1.732]\n",
            "[1.732 1.414 1.   ]\n",
            "[1.    1.414 1.732]\n",
            "2.449489742783178\n"
          ]
        }
      ],
      "source": [
        "c = np.array([[ 1, 0, 0],\n",
        "              [ 1, 1, 0],\n",
        "              [ 1, 1, 1]] )\n",
        "\n",
        "print(norm(c, axis=-2))\n",
        "print(norm(c, axis=1))\n",
        "print(norm(c, axis=0))\n",
        "print(norm(c, axis=-1))\n",
        "print(norm(c))"
      ]
    },
    {
      "cell_type": "code",
      "execution_count": null,
      "metadata": {
        "id": "-Wg_CY2C2tMG",
        "outputId": "54475c70-5ebf-4d7c-f467-4c2e20b53534"
      },
      "outputs": [
        {
          "data": {
            "text/plain": [
              "<function numpy.dot>"
            ]
          },
          "execution_count": 5,
          "metadata": {},
          "output_type": "execute_result"
        }
      ],
      "source": [
        "np.dot"
      ]
    },
    {
      "cell_type": "markdown",
      "metadata": {
        "id": "atHK4Orr2tMH"
      },
      "source": [
        "Una consideración importante a tener en cuenta es que en NumPy no hace falta ser estricto a la hora de manejar vectores como si fueran matrices columna, siempre que la operación sea consistente.\n",
        "\n",
        "Un vector es una matriz con una sola dimensión: por eso si calculamos su traspuesta no funciona."
      ]
    },
    {
      "cell_type": "code",
      "execution_count": null,
      "metadata": {
        "id": "e5a5YKZO2tMI",
        "outputId": "f49d9a75-b6a9-4243-e285-392244f923a5"
      },
      "outputs": [
        {
          "name": "stdout",
          "output_type": "stream",
          "text": [
            "[ 1 -1]\n"
          ]
        }
      ],
      "source": [
        "M = np.array([\n",
        "    [1, 2],\n",
        "    [3, 4]\n",
        "])\n",
        "v = np.array([1, -1])\n",
        "print(v)"
      ]
    },
    {
      "cell_type": "markdown",
      "metadata": {
        "id": "JDbV7Vvo2tMJ"
      },
      "source": [
        "#### Así calculamos la Transpuesta"
      ]
    },
    {
      "cell_type": "code",
      "execution_count": null,
      "metadata": {
        "id": "uvLCvPiG2tMJ",
        "outputId": "9fc4f445-2684-422f-a06e-f052141cf0e6"
      },
      "outputs": [
        {
          "name": "stdout",
          "output_type": "stream",
          "text": [
            "[ 1 -1]\n"
          ]
        }
      ],
      "source": [
        "print(v.T)\n"
      ]
    },
    {
      "cell_type": "code",
      "execution_count": null,
      "metadata": {
        "id": "7kIjIEnJ2tMK",
        "outputId": "c922355f-2946-47cd-a046-c8b1943fa729"
      },
      "outputs": [
        {
          "data": {
            "text/plain": [
              "array([[1, 3],\n",
              "       [2, 4]])"
            ]
          },
          "execution_count": 56,
          "metadata": {},
          "output_type": "execute_result"
        }
      ],
      "source": [
        "M.T"
      ]
    },
    {
      "cell_type": "code",
      "execution_count": null,
      "metadata": {
        "id": "tqWsy2qw2tML",
        "outputId": "4d572121-f6d3-47a6-a0bf-c061433715eb"
      },
      "outputs": [
        {
          "data": {
            "text/plain": [
              "array([[1, 2],\n",
              "       [3, 4]])"
            ]
          },
          "execution_count": 57,
          "metadata": {},
          "output_type": "execute_result"
        }
      ],
      "source": [
        "M"
      ]
    },
    {
      "cell_type": "code",
      "execution_count": null,
      "metadata": {
        "id": "3xnZBQM02tMM",
        "outputId": "98aa01f4-38e3-4342-9a8e-6e3d6c8f435f"
      },
      "outputs": [
        {
          "data": {
            "text/plain": [
              "array([ 1, -1])"
            ]
          },
          "execution_count": 58,
          "metadata": {},
          "output_type": "execute_result"
        }
      ],
      "source": [
        "v"
      ]
    },
    {
      "cell_type": "code",
      "execution_count": null,
      "metadata": {
        "id": "lmvA_MMB2tMN",
        "outputId": "fbcdb0b9-0d93-4c90-9d01-d054184c4db8"
      },
      "outputs": [
        {
          "data": {
            "text/plain": [
              "array([-1, -1])"
            ]
          },
          "execution_count": 60,
          "metadata": {},
          "output_type": "execute_result"
        }
      ],
      "source": [
        "u = np.dot(M, v)\n",
        "u"
      ]
    },
    {
      "cell_type": "code",
      "execution_count": null,
      "metadata": {
        "id": "upMHbjfN2tMO",
        "outputId": "bb7da916-d171-4374-c894-6617fd7750ed"
      },
      "outputs": [
        {
          "data": {
            "text/plain": [
              "array([-2, -2])"
            ]
          },
          "execution_count": 61,
          "metadata": {},
          "output_type": "execute_result"
        }
      ],
      "source": [
        "u = np.dot(v, M)\n",
        "u"
      ]
    },
    {
      "cell_type": "markdown",
      "metadata": {
        "id": "KxLfrw6X2tMO"
      },
      "source": [
        "#### Aclaremos este producto"
      ]
    },
    {
      "cell_type": "code",
      "execution_count": null,
      "metadata": {
        "id": "Hrb0NqgO2tMP",
        "outputId": "12402b21-93ba-4b1e-d7c4-65cdf36ecef2"
      },
      "outputs": [
        {
          "data": {
            "text/plain": [
              "array([[37, 40],\n",
              "       [85, 92]])"
            ]
          },
          "execution_count": 62,
          "metadata": {},
          "output_type": "execute_result"
        }
      ],
      "source": [
        "a = np.array([[1,2],[3,4]])\n",
        "b = np.array([[11,12],[13,14]])\n",
        "np.dot(a,b)"
      ]
    },
    {
      "cell_type": "markdown",
      "metadata": {
        "id": "0EnsoUJy2tMQ"
      },
      "source": [
        "Teniendo en cuenta que el producto punto se calcula como:\n",
        "\n",
        "`[[1*11+2*13, 1*12+2*14],[3*11+4*13, 3*12+4*14]]`"
      ]
    },
    {
      "cell_type": "markdown",
      "metadata": {
        "id": "YDM-wrHZ2tMQ"
      },
      "source": [
        "### Los flotantes no se pueden comparar por igualdad"
      ]
    },
    {
      "cell_type": "markdown",
      "metadata": {
        "id": "NR_KzElJ2tMQ"
      },
      "source": [
        "Para hacer comparaciones entre arrays de punto flotante se pueden usar las funciones `np.allclose` y `np.isclose`.\n",
        "\n",
        "La primera comprueba si todos los elementos de los arrays son iguales dentro de una tolerancia, y la segunda compara elemento a elemento y devuelve un array de valores `True` y `False`."
      ]
    },
    {
      "cell_type": "code",
      "execution_count": null,
      "metadata": {
        "id": "BWekSLk32tMR",
        "outputId": "043b5bbe-72d5-43cd-d984-35f78e224967"
      },
      "outputs": [
        {
          "data": {
            "text/plain": [
              "(array([-2, -2]), array([ 1, -1]))"
            ]
          },
          "execution_count": 63,
          "metadata": {},
          "output_type": "execute_result"
        }
      ],
      "source": [
        "u, v"
      ]
    },
    {
      "cell_type": "code",
      "execution_count": null,
      "metadata": {
        "id": "Rjs4R-5R2tMS",
        "outputId": "f0988183-a62e-4d25-b304-cdf604de5660"
      },
      "outputs": [
        {
          "data": {
            "text/plain": [
              "False"
            ]
          },
          "execution_count": 64,
          "metadata": {},
          "output_type": "execute_result"
        }
      ],
      "source": [
        "np.allclose(u, v)"
      ]
    },
    {
      "cell_type": "code",
      "execution_count": null,
      "metadata": {
        "id": "Q7E0skM72tMT",
        "outputId": "66c6e366-3b48-4cc7-f466-3d17f7b91fa6"
      },
      "outputs": [
        {
          "data": {
            "text/plain": [
              "False"
            ]
          },
          "execution_count": 72,
          "metadata": {},
          "output_type": "execute_result"
        }
      ],
      "source": [
        "np.isclose(0.0, 1e-8, atol=1e-10)"
      ]
    },
    {
      "cell_type": "code",
      "execution_count": null,
      "metadata": {
        "id": "wPVvmdir2tMU",
        "outputId": "0efa779b-6fd5-4875-f7fb-dda66c2c0909"
      },
      "outputs": [
        {
          "data": {
            "text/plain": [
              "False"
            ]
          },
          "execution_count": 17,
          "metadata": {},
          "output_type": "execute_result"
        }
      ],
      "source": [
        "np.allclose([1e10,1e-7], [1.00001e10,1e-8])"
      ]
    },
    {
      "cell_type": "code",
      "execution_count": null,
      "metadata": {
        "id": "_AmmDJVw2tMU",
        "outputId": "d724c962-0e30-4103-f2d5-f0750e4b24a7"
      },
      "outputs": [
        {
          "data": {
            "text/plain": [
              "True"
            ]
          },
          "execution_count": 18,
          "metadata": {},
          "output_type": "execute_result"
        }
      ],
      "source": [
        "np.allclose([1e10,1e-8], [1.00001e10,1e-9])"
      ]
    },
    {
      "cell_type": "code",
      "execution_count": null,
      "metadata": {
        "id": "8kiOdvY12tMV"
      },
      "outputs": [],
      "source": [
        "abs(a-b)< 1e-8"
      ]
    },
    {
      "cell_type": "markdown",
      "metadata": {
        "id": "KKujA8Xg2tMV"
      },
      "source": [
        "__En la versión 3.5 de Python se incorporó un nuevo operador `@` para poder hacer multiplicaciones de matrices de una forma más legible__"
      ]
    },
    {
      "cell_type": "code",
      "execution_count": null,
      "metadata": {
        "id": "tEMwjBeF2tMW",
        "outputId": "c56a3597-874d-4efc-e0d5-2af3a4a5ad74"
      },
      "outputs": [
        {
          "name": "stdout",
          "output_type": "stream",
          "text": [
            "[[1 2]\n",
            " [3 4]]\n",
            "[ 1 -1]\n"
          ]
        },
        {
          "data": {
            "text/plain": [
              "array([-1, -1])"
            ]
          },
          "execution_count": 73,
          "metadata": {},
          "output_type": "execute_result"
        }
      ],
      "source": [
        "print(M)\n",
        "print(v)\n",
        "u = M @ v\n",
        "u"
      ]
    },
    {
      "cell_type": "markdown",
      "metadata": {
        "id": "XeSxwX052tMW"
      },
      "source": [
        "Esto es, en modo matemático\n",
        "$$\n",
        "\\left( \\begin{array}{cc}\n",
        "1 & 2 \\\\\n",
        "3 & 4\n",
        "\\end{array} \\right)\n",
        "%\n",
        "\\left( \\begin{array}{cc}\n",
        " 1 \\\\\n",
        "-1\n",
        "\\end{array} \\right)\n",
        "%\n",
        "=\n",
        "\\left( \\begin{array}{cc}\n",
        "-1 \\\\\n",
        "-1\n",
        "%\n",
        "\\end{array} \\right)\n",
        "$$"
      ]
    },
    {
      "cell_type": "code",
      "execution_count": null,
      "metadata": {
        "id": "-W1jumaK2tMX",
        "outputId": "66a3d938-7876-4ab4-d4c3-47f88cbe5bde"
      },
      "outputs": [
        {
          "data": {
            "text/plain": [
              "array([23, 67, 66, 49])"
            ]
          },
          "execution_count": 74,
          "metadata": {},
          "output_type": "execute_result"
        }
      ],
      "source": [
        "mat = np.array([[1, 5, 8, 5],\n",
        "                [0, 6, 4, 2],\n",
        "                [9, 3, 1, 6]])\n",
        "\n",
        "vec1 = np.array([5, 6, 2])\n",
        "\n",
        "vec1 @ mat"
      ]
    },
    {
      "cell_type": "markdown",
      "metadata": {
        "id": "ex4RkbU52tMX"
      },
      "source": [
        "Si quieres saber más, puedes leer [este artículo](http://pybonacci.org/2016/02/22/el-producto-de-matrices-y-el-nuevo-operador/) en Pybonacci escrito por _Álex Sáez_."
      ]
    },
    {
      "cell_type": "markdown",
      "metadata": {
        "id": "s-vM5rOo2tMY"
      },
      "source": [
        "##### Ejemplos"
      ]
    },
    {
      "cell_type": "markdown",
      "metadata": {
        "id": "59eY2qP62tMY"
      },
      "source": [
        "_____________________________\n",
        "1- Hallar el producto de estas dos matrices y su determinante:\n",
        "\n",
        "$$\\begin{pmatrix} 1 & 0 & 0 \\\\ 2 & 1 & 1 \\\\ -1 & 0 & 1 \\end{pmatrix} \\begin{pmatrix} 2 & 3 & -1 \\\\ 0 & -2 & 1 \\\\ 0 & 0 & 3 \\end{pmatrix}$$"
      ]
    },
    {
      "cell_type": "code",
      "execution_count": null,
      "metadata": {
        "id": "Rl9dx2rZ2tMY"
      },
      "outputs": [],
      "source": [
        "from numpy.linalg import det"
      ]
    },
    {
      "cell_type": "code",
      "execution_count": null,
      "metadata": {
        "id": "5B7Wqjqq2tMZ",
        "outputId": "5c7834c6-9c34-4763-ed78-f052a1c1700f"
      },
      "outputs": [
        {
          "name": "stdout",
          "output_type": "stream",
          "text": [
            "[[ 1  0  0]\n",
            " [ 2  1  1]\n",
            " [-1  0  1]]\n",
            "[[ 2  3 -1]\n",
            " [ 0 -2  1]\n",
            " [ 0  0  3]]\n"
          ]
        }
      ],
      "source": [
        "A = np.array([\n",
        "    [1, 0, 0],\n",
        "    [2, 1, 1],\n",
        "    [-1, 0, 1]\n",
        "])\n",
        "B = np.array([\n",
        "    [2, 3, -1],\n",
        "    [0, -2, 1],\n",
        "    [0, 0, 3]\n",
        "])\n",
        "print(A)\n",
        "print(B)"
      ]
    },
    {
      "cell_type": "code",
      "execution_count": null,
      "metadata": {
        "id": "6-smjemP2tMZ",
        "outputId": "e52f6cb8-76fa-449a-c8a3-f9f00f5ed0da"
      },
      "outputs": [
        {
          "data": {
            "text/plain": [
              "array([[ 2,  3, -1],\n",
              "       [ 4,  4,  2],\n",
              "       [-2, -3,  4]])"
            ]
          },
          "execution_count": 77,
          "metadata": {},
          "output_type": "execute_result"
        }
      ],
      "source": [
        "C = A @ B\n",
        "C"
      ]
    },
    {
      "cell_type": "code",
      "execution_count": null,
      "metadata": {
        "id": "Ef2q9CeY2tMa",
        "outputId": "28c5c403-27bf-426f-e9a7-113ba6362ccf"
      },
      "outputs": [
        {
          "data": {
            "text/plain": [
              "-12.0"
            ]
          },
          "execution_count": 78,
          "metadata": {},
          "output_type": "execute_result"
        }
      ],
      "source": [
        "det(C)"
      ]
    },
    {
      "cell_type": "markdown",
      "metadata": {
        "id": "d_83DUuI2tMb"
      },
      "source": [
        "_____________________________________\n",
        "2- Resolver el siguiente sistema:\n",
        "\n",
        "$$ \\begin{pmatrix} 2 & 0 & 0 \\\\ -1 & 1 & 0 \\\\ 3 & 2 & -1 \\end{pmatrix} \\begin{pmatrix} 1 & 1 & 1 \\\\ 0 & 1 & 2 \\\\ 0 & 0 & 1 \\end{pmatrix} \\begin{pmatrix} x \\\\ y \\\\ z \\end{pmatrix} = \\begin{pmatrix} -1 \\\\ 3 \\\\ 0 \\end{pmatrix} $$"
      ]
    },
    {
      "cell_type": "code",
      "execution_count": null,
      "metadata": {
        "id": "diABzbv52tMb",
        "outputId": "a0a05c9c-0ae7-43b3-bbd0-b6a3680604d1"
      },
      "outputs": [
        {
          "data": {
            "text/plain": [
              "array([[ 2,  2,  2],\n",
              "       [-1,  0,  1],\n",
              "       [ 3,  5,  6]])"
            ]
          },
          "execution_count": 79,
          "metadata": {},
          "output_type": "execute_result"
        }
      ],
      "source": [
        "M = (np.array([[2, 0, 0],\n",
        "                        [-1, 1, 0],\n",
        "                        [3, 2, -1]])\n",
        "     @\n",
        "        np.array([[1, 1, 1],\n",
        "                        [0, 1, 2],\n",
        "                        [0, 0, 1]]))\n",
        "M"
      ]
    },
    {
      "cell_type": "code",
      "execution_count": null,
      "metadata": {
        "id": "OHFcKtZf2tMc"
      },
      "outputs": [],
      "source": [
        "R = np.array([-1, 3, 0])"
      ]
    },
    {
      "cell_type": "code",
      "execution_count": null,
      "metadata": {
        "id": "5NNaOD1_2tMc",
        "outputId": "47cfa6b3-8a71-4dda-d8ca-03d579ce06de"
      },
      "outputs": [
        {
          "data": {
            "text/plain": [
              "array([ 0.5, -4.5,  3.5])"
            ]
          },
          "execution_count": 81,
          "metadata": {},
          "output_type": "execute_result"
        }
      ],
      "source": [
        "x = np.linalg.solve(M, R)\n",
        "x"
      ]
    },
    {
      "cell_type": "code",
      "execution_count": null,
      "metadata": {
        "id": "X3nVikN82tMd",
        "outputId": "ab21dd5d-6595-422e-eb1b-fba2042c7877"
      },
      "outputs": [
        {
          "data": {
            "text/plain": [
              "array([-1.,  3.,  0.])"
            ]
          },
          "execution_count": 82,
          "metadata": {},
          "output_type": "execute_result"
        }
      ],
      "source": [
        "T = M @ x\n",
        "T"
      ]
    },
    {
      "cell_type": "code",
      "execution_count": null,
      "metadata": {
        "id": "ylMoAk8Z2tMe",
        "outputId": "5f2b40d2-0ac0-41c3-d2b7-5dc088215335"
      },
      "outputs": [
        {
          "data": {
            "text/plain": [
              "True"
            ]
          },
          "execution_count": 28,
          "metadata": {},
          "output_type": "execute_result"
        }
      ],
      "source": [
        "np.allclose(M @ x, np.array([-1, 3, 0]))"
      ]
    },
    {
      "cell_type": "markdown",
      "metadata": {
        "id": "A_dqi_5c2tMe"
      },
      "source": [
        "____________________________\n",
        "3- Hallar la inversa de la matriz $H$ y comprobar que $H H^{-1} = I$ (recuerda la función `np.eye`)"
      ]
    },
    {
      "cell_type": "code",
      "execution_count": null,
      "metadata": {
        "id": "xoQiRSNL2tMe",
        "outputId": "4fb66158-6b6b-4720-c863-4de029e5c0d7"
      },
      "outputs": [
        {
          "name": "stdout",
          "output_type": "stream",
          "text": [
            "[[0 1]\n",
            " [2 3]]\n",
            "--------\n",
            "[[2 3]\n",
            " [0 1]]\n"
          ]
        }
      ],
      "source": [
        "H = np.arange(4).reshape((2, 2))\n",
        "print(H)\n",
        "print('--------')\n",
        "np.random.shuffle(H)\n",
        "print(H)"
      ]
    },
    {
      "cell_type": "code",
      "execution_count": null,
      "metadata": {
        "id": "YY4pDnIR2tMf",
        "outputId": "788882f8-3f4d-448d-ba83-414ac896cc89"
      },
      "outputs": [
        {
          "data": {
            "text/plain": [
              "array([[ 0.5, -1.5],\n",
              "       [ 0. ,  1. ]])"
            ]
          },
          "execution_count": 87,
          "metadata": {},
          "output_type": "execute_result"
        }
      ],
      "source": [
        "Hinv = np.linalg.inv(H)\n",
        "Hinv"
      ]
    },
    {
      "cell_type": "code",
      "execution_count": null,
      "metadata": {
        "id": "EqVKHmv32tMg",
        "outputId": "8f515a3d-c125-400c-abf4-4b01edde4123"
      },
      "outputs": [
        {
          "data": {
            "text/plain": [
              "2.0"
            ]
          },
          "execution_count": 88,
          "metadata": {},
          "output_type": "execute_result"
        }
      ],
      "source": [
        "np.linalg.det(H)"
      ]
    },
    {
      "cell_type": "code",
      "execution_count": null,
      "metadata": {
        "id": "pry2dV_R2tMg",
        "outputId": "ee99ecd5-676d-4214-8d69-516aa0cffcf0"
      },
      "outputs": [
        {
          "name": "stdout",
          "output_type": "stream",
          "text": [
            "[[1. 0.]\n",
            " [0. 1.]]\n"
          ]
        }
      ],
      "source": [
        "print(np.dot(Hinv, H))"
      ]
    },
    {
      "cell_type": "code",
      "execution_count": null,
      "metadata": {
        "id": "bgjOomY12tMg",
        "outputId": "4280235c-2af7-4522-9edc-981b8a9b945d"
      },
      "outputs": [
        {
          "name": "stdout",
          "output_type": "stream",
          "text": [
            "[[1. 0.]\n",
            " [0. 1.]]\n"
          ]
        }
      ],
      "source": [
        "print(Hinv @ H)"
      ]
    },
    {
      "cell_type": "code",
      "execution_count": null,
      "metadata": {
        "id": "8rftBAVn2tMh",
        "outputId": "84e52eae-838d-460f-ba04-82ef12372681"
      },
      "outputs": [
        {
          "data": {
            "text/plain": [
              "array([[ True,  True],\n",
              "       [ True,  True]])"
            ]
          },
          "execution_count": 91,
          "metadata": {},
          "output_type": "execute_result"
        }
      ],
      "source": [
        "np.isclose(np.dot(Hinv, H), np.eye(2))"
      ]
    },
    {
      "cell_type": "code",
      "execution_count": null,
      "metadata": {
        "id": "Yhfa4cRN2tMi",
        "outputId": "659b2051-cf93-40cd-f11f-ce1789a2fa6d"
      },
      "outputs": [
        {
          "name": "stdout",
          "output_type": "stream",
          "text": [
            "[[0.111111 0.      ]\n",
            " [0.       0.111111]]\n"
          ]
        }
      ],
      "source": [
        "np.set_printoptions(precision=6)\n",
        "print(np.dot(Hinv/3.0, H/3.0))"
      ]
    },
    {
      "cell_type": "markdown",
      "metadata": {
        "id": "T6IsoILb2tMi"
      },
      "source": [
        "_______________________________________\n",
        "4- Comprobar el número de condición de la matriz $H$.  \n",
        "El número de condición de x se define como la norma de x por el norma de la inversa de x [1] ; la norma puede ser la norma L2 habitual (raíz de la suma de los cuadrados) o una de varias otras normas de matriz."
      ]
    },
    {
      "cell_type": "code",
      "execution_count": null,
      "metadata": {
        "id": "L9Lol3Uy2tMj",
        "outputId": "4375ee5c-a81b-4c77-8e02-8157d33b13de"
      },
      "outputs": [
        {
          "data": {
            "text/plain": [
              "6.8541019662496865"
            ]
          },
          "execution_count": 45,
          "metadata": {},
          "output_type": "execute_result"
        }
      ],
      "source": [
        "np.linalg.cond(H)"
      ]
    },
    {
      "cell_type": "markdown",
      "metadata": {
        "id": "w2Bloq4f2tMj"
      },
      "source": [
        "<div class=\"alert alert-warning\">La matriz está bien condicionada.</div>"
      ]
    },
    {
      "cell_type": "code",
      "execution_count": null,
      "metadata": {
        "id": "hnhi6_Tu2tMj"
      },
      "outputs": [],
      "source": []
    }
  ],
  "metadata": {
    "anaconda-cloud": {},
    "kernelspec": {
      "display_name": "Python 3 (ipykernel)",
      "language": "python",
      "name": "python3"
    },
    "language_info": {
      "codemirror_mode": {
        "name": "ipython",
        "version": 3
      },
      "file_extension": ".py",
      "mimetype": "text/x-python",
      "name": "python",
      "nbconvert_exporter": "python",
      "pygments_lexer": "ipython3",
      "version": "3.9.7"
    },
    "colab": {
      "provenance": []
    }
  },
  "nbformat": 4,
  "nbformat_minor": 0
}